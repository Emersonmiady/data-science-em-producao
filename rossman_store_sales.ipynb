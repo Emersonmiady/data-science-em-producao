{
 "cells": [
  {
   "cell_type": "markdown",
   "id": "079be2c8",
   "metadata": {},
   "source": [
    "# 1. Business problem\n",
    "---"
   ]
  },
  {
   "cell_type": "markdown",
   "id": "5b49270d",
   "metadata": {},
   "source": [
    "## 1.1. Context"
   ]
  },
  {
   "cell_type": "markdown",
   "id": "aa2b61fe",
   "metadata": {},
   "source": [
    "The Rossmann company's CFO held a meeting with all store managers and asked each of them to bring a daily forecast for the next 6 weeks of sales.\n",
    "\n",
    "After this meeting, all managers contacted you, requesting a sales forecast for your store.\n",
    "\n",
    "**Note:** The data was made available [here](https://www.kaggle.com/c/rossmann-store-sales)."
   ]
  },
  {
   "cell_type": "markdown",
   "id": "f7f996b4",
   "metadata": {},
   "source": [
    "## 1.2. Understanding the problem"
   ]
  },
  {
   "cell_type": "markdown",
   "id": "99fbaf2a",
   "metadata": {},
   "source": [
    "### 1.2.1. Motivation"
   ]
  },
  {
   "cell_type": "markdown",
   "id": "70bc15bd",
   "metadata": {},
   "source": [
    "The CFO requested this solution during a monthly results meeting."
   ]
  },
  {
   "cell_type": "markdown",
   "id": "4c76a6ce",
   "metadata": {},
   "source": [
    "### 1.2.2. Root cause of the problem"
   ]
  },
  {
   "cell_type": "markdown",
   "id": "0f0ffe65",
   "metadata": {},
   "source": [
    "Difficulty in determining the investment value for renovations in each store."
   ]
  },
  {
   "cell_type": "markdown",
   "id": "3dece205",
   "metadata": {},
   "source": [
    "### 1.2.3. Who is the Stakeholder"
   ]
  },
  {
   "cell_type": "markdown",
   "id": "2aa1d3ee",
   "metadata": {},
   "source": [
    "The Rossmann company's CFO."
   ]
  },
  {
   "cell_type": "markdown",
   "id": "0264b57d",
   "metadata": {},
   "source": [
    "### 1.2.4. Solution format"
   ]
  },
  {
   "cell_type": "markdown",
   "id": "4440a344",
   "metadata": {},
   "source": [
    "- Granularity and problem type: daily sales forecast in cash for the next 6 weeks;\n",
    "- Potential resolution methods: Time Series, Regression, Neural Networks;\n",
    "- Delivery format:\n",
    "    1. The total sales amount at the end of 6 weeks;\n",
    "    2. Possibility of checking the value by cell phone."
   ]
  },
  {
   "cell_type": "markdown",
   "id": "d8d96fe4",
   "metadata": {},
   "source": [
    "# 2. Imports\n",
    "---"
   ]
  },
  {
   "cell_type": "markdown",
   "id": "ad5b01fd",
   "metadata": {},
   "source": [
    "## 2.1. Libraries"
   ]
  },
  {
   "cell_type": "code",
   "execution_count": 93,
   "id": "0a6d0bb6",
   "metadata": {
    "ExecuteTime": {
     "end_time": "2021-08-12T17:08:13.874436Z",
     "start_time": "2021-08-12T17:08:13.863437Z"
    }
   },
   "outputs": [],
   "source": [
    "import math\n",
    "import pandas as pd\n",
    "import inflection\n",
    "import matplotlib.pyplot as plt\n",
    "import seaborn as sns\n",
    "from IPython.display import Image\n",
    "import datetime\n",
    "\n",
    "%matplotlib inline\n",
    "plt.style.use('ggplot')"
   ]
  },
  {
   "cell_type": "markdown",
   "id": "7db52da3",
   "metadata": {},
   "source": [
    "## 2.2. Helper Functions"
   ]
  },
  {
   "cell_type": "code",
   "execution_count": 145,
   "id": "b0532e63",
   "metadata": {
    "ExecuteTime": {
     "end_time": "2021-08-12T17:52:39.209410Z",
     "start_time": "2021-08-12T17:52:39.191410Z"
    }
   },
   "outputs": [],
   "source": [
    "def change_cols_to_snake_case(df):\n",
    "    '''\n",
    "    Change a list of columns of dataframe from \n",
    "    camel case to snake case.\n",
    "    This function returns the modified dataframe.\n",
    "    '''\n",
    "    cols = df.columns\n",
    "    snake_case = lambda x: inflection.underscore(x)\n",
    "    new_cols = list(map(snake_case, cols))\n",
    "    df.columns = new_cols\n",
    "    return df\n",
    "\n",
    "def check_nan_on_df_columns(df):\n",
    "    '''\n",
    "    Only check the NaN values on\n",
    "    the dataframe columns.\n",
    "    '''\n",
    "    print(df.isna().sum())\n",
    "    return None\n",
    "\n",
    "def fillout_nan_on_col_with(time, col, df):\n",
    "    '''\n",
    "    According to \"date\" column on dataframe, this function fills NaN on certain attribute with\n",
    "    the wanted time type. The time should be \"year\", \"month\" or \"week\".\n",
    "    The function returns the modified dataframe.\n",
    "    '''\n",
    "    if time == 'year':\n",
    "        df[col] = df.apply(lambda x: x['date'].year if math.isnan(x[col]) else x[col], axis=1)\n",
    "        return df\n",
    "    elif time == 'month':\n",
    "        df[col] = df.apply(lambda x: x['date'].month if math.isnan(x[col]) else x[col], axis=1)\n",
    "        return df\n",
    "    elif time == 'week':\n",
    "        df[col] = df.apply(lambda x: x['date'].week if math.isnan(x[col]) else x[col], axis=1)\n",
    "        return df\n",
    "    else:\n",
    "        print('Unrecognized time...')\n",
    "        return None\n",
    "\n",
    "def get_num_cat_vars(df):\n",
    "    '''\n",
    "    Slice the dataframe in numerical and categorical variables.\n",
    "    This function returns two dataframes, the first is containing the numerical\n",
    "    attributes, the secound is containing the categorical attributes.\n",
    "    '''\n",
    "    num_attributes = df.select_dtypes(include=['int64', 'float64'])\n",
    "    cat_attributes = df.select_dtypes(exclude=['int64', 'float64', 'datetime64[ns]'])\n",
    "\n",
    "    return num_attributes, cat_attributes\n",
    "    \n",
    "def show_histplot(x, data, title=None, xlabel=None, kde=True):\n",
    "    '''\n",
    "    Show the histplot, given a x, data, \n",
    "    title and x label values.\n",
    "    '''\n",
    "    plt.figure(figsize=(16, 8))\n",
    "    sns.histplot(x=x, data=data, kde=kde)\n",
    "    plt.title(title)\n",
    "    plt.xlabel(xlabel)\n",
    "    plt.show()\n",
    "\n",
    "def plot_countplot_and_sales_kdeplot(var, df):\n",
    "    '''\n",
    "    Plot the countplot and sales kdeplot of a\n",
    "    categorical variable side by side.\n",
    "    '''\n",
    "    var_values = df[var].unique()\n",
    "    \n",
    "    # Plotting the countplot of the variable\n",
    "    plt.figure(figsize=(16, 8))\n",
    "    plt.subplot(1, 2, 1)\n",
    "    sns.countplot(x=var, data=df)\n",
    "    \n",
    "    # Plotting the sales kdelplot of each \n",
    "    # value on the variable\n",
    "    plt.subplot(1, 2, 2)\n",
    "    for value in var_values:\n",
    "        sns.kdeplot(df[df[var] == value]['sales'], \n",
    "                    label=value, shade=True)\n",
    "    plt.suptitle(f'{var} count and sales kde plot given this variable',\n",
    "                 fontsize=16)\n",
    "    plt.legend()\n",
    "    plt.show()"
   ]
  },
  {
   "cell_type": "markdown",
   "id": "9bde99c4",
   "metadata": {},
   "source": [
    "## 2.3. Loading Data"
   ]
  },
  {
   "cell_type": "code",
   "execution_count": 95,
   "id": "fe290367",
   "metadata": {
    "ExecuteTime": {
     "end_time": "2021-08-12T17:08:14.639433Z",
     "start_time": "2021-08-12T17:08:13.908435Z"
    },
    "hide_input": false
   },
   "outputs": [
    {
     "data": {
      "text/html": [
       "<div>\n",
       "<style scoped>\n",
       "    .dataframe tbody tr th:only-of-type {\n",
       "        vertical-align: middle;\n",
       "    }\n",
       "\n",
       "    .dataframe tbody tr th {\n",
       "        vertical-align: top;\n",
       "    }\n",
       "\n",
       "    .dataframe thead th {\n",
       "        text-align: right;\n",
       "    }\n",
       "</style>\n",
       "<table border=\"1\" class=\"dataframe\">\n",
       "  <thead>\n",
       "    <tr style=\"text-align: right;\">\n",
       "      <th></th>\n",
       "      <th>Store</th>\n",
       "      <th>DayOfWeek</th>\n",
       "      <th>Date</th>\n",
       "      <th>Sales</th>\n",
       "      <th>Customers</th>\n",
       "      <th>Open</th>\n",
       "      <th>Promo</th>\n",
       "      <th>StateHoliday</th>\n",
       "      <th>SchoolHoliday</th>\n",
       "    </tr>\n",
       "  </thead>\n",
       "  <tbody>\n",
       "    <tr>\n",
       "      <th>0</th>\n",
       "      <td>1</td>\n",
       "      <td>5</td>\n",
       "      <td>2015-07-31</td>\n",
       "      <td>5263</td>\n",
       "      <td>555</td>\n",
       "      <td>1</td>\n",
       "      <td>1</td>\n",
       "      <td>0</td>\n",
       "      <td>1</td>\n",
       "    </tr>\n",
       "    <tr>\n",
       "      <th>1</th>\n",
       "      <td>2</td>\n",
       "      <td>5</td>\n",
       "      <td>2015-07-31</td>\n",
       "      <td>6064</td>\n",
       "      <td>625</td>\n",
       "      <td>1</td>\n",
       "      <td>1</td>\n",
       "      <td>0</td>\n",
       "      <td>1</td>\n",
       "    </tr>\n",
       "    <tr>\n",
       "      <th>2</th>\n",
       "      <td>3</td>\n",
       "      <td>5</td>\n",
       "      <td>2015-07-31</td>\n",
       "      <td>8314</td>\n",
       "      <td>821</td>\n",
       "      <td>1</td>\n",
       "      <td>1</td>\n",
       "      <td>0</td>\n",
       "      <td>1</td>\n",
       "    </tr>\n",
       "    <tr>\n",
       "      <th>3</th>\n",
       "      <td>4</td>\n",
       "      <td>5</td>\n",
       "      <td>2015-07-31</td>\n",
       "      <td>13995</td>\n",
       "      <td>1498</td>\n",
       "      <td>1</td>\n",
       "      <td>1</td>\n",
       "      <td>0</td>\n",
       "      <td>1</td>\n",
       "    </tr>\n",
       "    <tr>\n",
       "      <th>4</th>\n",
       "      <td>5</td>\n",
       "      <td>5</td>\n",
       "      <td>2015-07-31</td>\n",
       "      <td>4822</td>\n",
       "      <td>559</td>\n",
       "      <td>1</td>\n",
       "      <td>1</td>\n",
       "      <td>0</td>\n",
       "      <td>1</td>\n",
       "    </tr>\n",
       "  </tbody>\n",
       "</table>\n",
       "</div>"
      ],
      "text/plain": [
       "   Store  DayOfWeek        Date  Sales  Customers  Open  Promo StateHoliday  \\\n",
       "0      1          5  2015-07-31   5263        555     1      1            0   \n",
       "1      2          5  2015-07-31   6064        625     1      1            0   \n",
       "2      3          5  2015-07-31   8314        821     1      1            0   \n",
       "3      4          5  2015-07-31  13995       1498     1      1            0   \n",
       "4      5          5  2015-07-31   4822        559     1      1            0   \n",
       "\n",
       "   SchoolHoliday  \n",
       "0              1  \n",
       "1              1  \n",
       "2              1  \n",
       "3              1  \n",
       "4              1  "
      ]
     },
     "metadata": {},
     "output_type": "display_data"
    }
   ],
   "source": [
    "# Loading the sales df\n",
    "df_sales = pd.read_csv('data/train.csv', low_memory=False)\n",
    "display(df_sales.head())"
   ]
  },
  {
   "cell_type": "code",
   "execution_count": 96,
   "id": "a34c0fd3",
   "metadata": {
    "ExecuteTime": {
     "end_time": "2021-08-12T17:08:14.671434Z",
     "start_time": "2021-08-12T17:08:14.642433Z"
    }
   },
   "outputs": [
    {
     "data": {
      "text/html": [
       "<div>\n",
       "<style scoped>\n",
       "    .dataframe tbody tr th:only-of-type {\n",
       "        vertical-align: middle;\n",
       "    }\n",
       "\n",
       "    .dataframe tbody tr th {\n",
       "        vertical-align: top;\n",
       "    }\n",
       "\n",
       "    .dataframe thead th {\n",
       "        text-align: right;\n",
       "    }\n",
       "</style>\n",
       "<table border=\"1\" class=\"dataframe\">\n",
       "  <thead>\n",
       "    <tr style=\"text-align: right;\">\n",
       "      <th></th>\n",
       "      <th>Store</th>\n",
       "      <th>StoreType</th>\n",
       "      <th>Assortment</th>\n",
       "      <th>CompetitionDistance</th>\n",
       "      <th>CompetitionOpenSinceMonth</th>\n",
       "      <th>CompetitionOpenSinceYear</th>\n",
       "      <th>Promo2</th>\n",
       "      <th>Promo2SinceWeek</th>\n",
       "      <th>Promo2SinceYear</th>\n",
       "      <th>PromoInterval</th>\n",
       "    </tr>\n",
       "  </thead>\n",
       "  <tbody>\n",
       "    <tr>\n",
       "      <th>0</th>\n",
       "      <td>1</td>\n",
       "      <td>c</td>\n",
       "      <td>a</td>\n",
       "      <td>1270.0</td>\n",
       "      <td>9.0</td>\n",
       "      <td>2008.0</td>\n",
       "      <td>0</td>\n",
       "      <td>NaN</td>\n",
       "      <td>NaN</td>\n",
       "      <td>NaN</td>\n",
       "    </tr>\n",
       "    <tr>\n",
       "      <th>1</th>\n",
       "      <td>2</td>\n",
       "      <td>a</td>\n",
       "      <td>a</td>\n",
       "      <td>570.0</td>\n",
       "      <td>11.0</td>\n",
       "      <td>2007.0</td>\n",
       "      <td>1</td>\n",
       "      <td>13.0</td>\n",
       "      <td>2010.0</td>\n",
       "      <td>Jan,Apr,Jul,Oct</td>\n",
       "    </tr>\n",
       "    <tr>\n",
       "      <th>2</th>\n",
       "      <td>3</td>\n",
       "      <td>a</td>\n",
       "      <td>a</td>\n",
       "      <td>14130.0</td>\n",
       "      <td>12.0</td>\n",
       "      <td>2006.0</td>\n",
       "      <td>1</td>\n",
       "      <td>14.0</td>\n",
       "      <td>2011.0</td>\n",
       "      <td>Jan,Apr,Jul,Oct</td>\n",
       "    </tr>\n",
       "    <tr>\n",
       "      <th>3</th>\n",
       "      <td>4</td>\n",
       "      <td>c</td>\n",
       "      <td>c</td>\n",
       "      <td>620.0</td>\n",
       "      <td>9.0</td>\n",
       "      <td>2009.0</td>\n",
       "      <td>0</td>\n",
       "      <td>NaN</td>\n",
       "      <td>NaN</td>\n",
       "      <td>NaN</td>\n",
       "    </tr>\n",
       "    <tr>\n",
       "      <th>4</th>\n",
       "      <td>5</td>\n",
       "      <td>a</td>\n",
       "      <td>a</td>\n",
       "      <td>29910.0</td>\n",
       "      <td>4.0</td>\n",
       "      <td>2015.0</td>\n",
       "      <td>0</td>\n",
       "      <td>NaN</td>\n",
       "      <td>NaN</td>\n",
       "      <td>NaN</td>\n",
       "    </tr>\n",
       "  </tbody>\n",
       "</table>\n",
       "</div>"
      ],
      "text/plain": [
       "   Store StoreType Assortment  CompetitionDistance  CompetitionOpenSinceMonth  \\\n",
       "0      1         c          a               1270.0                        9.0   \n",
       "1      2         a          a                570.0                       11.0   \n",
       "2      3         a          a              14130.0                       12.0   \n",
       "3      4         c          c                620.0                        9.0   \n",
       "4      5         a          a              29910.0                        4.0   \n",
       "\n",
       "   CompetitionOpenSinceYear  Promo2  Promo2SinceWeek  Promo2SinceYear  \\\n",
       "0                    2008.0       0              NaN              NaN   \n",
       "1                    2007.0       1             13.0           2010.0   \n",
       "2                    2006.0       1             14.0           2011.0   \n",
       "3                    2009.0       0              NaN              NaN   \n",
       "4                    2015.0       0              NaN              NaN   \n",
       "\n",
       "     PromoInterval  \n",
       "0              NaN  \n",
       "1  Jan,Apr,Jul,Oct  \n",
       "2  Jan,Apr,Jul,Oct  \n",
       "3              NaN  \n",
       "4              NaN  "
      ]
     },
     "metadata": {},
     "output_type": "display_data"
    }
   ],
   "source": [
    "# Loading the store df\n",
    "df_store = pd.read_csv('data/store.csv', low_memory=False)\n",
    "display(df_store.head())"
   ]
  },
  {
   "cell_type": "code",
   "execution_count": 97,
   "id": "114aa2c8",
   "metadata": {
    "ExecuteTime": {
     "end_time": "2021-08-12T17:08:15.214446Z",
     "start_time": "2021-08-12T17:08:14.673434Z"
    }
   },
   "outputs": [
    {
     "data": {
      "text/html": [
       "<div>\n",
       "<style scoped>\n",
       "    .dataframe tbody tr th:only-of-type {\n",
       "        vertical-align: middle;\n",
       "    }\n",
       "\n",
       "    .dataframe tbody tr th {\n",
       "        vertical-align: top;\n",
       "    }\n",
       "\n",
       "    .dataframe thead th {\n",
       "        text-align: right;\n",
       "    }\n",
       "</style>\n",
       "<table border=\"1\" class=\"dataframe\">\n",
       "  <thead>\n",
       "    <tr style=\"text-align: right;\">\n",
       "      <th></th>\n",
       "      <th>Store</th>\n",
       "      <th>DayOfWeek</th>\n",
       "      <th>Date</th>\n",
       "      <th>Sales</th>\n",
       "      <th>Customers</th>\n",
       "      <th>Open</th>\n",
       "      <th>Promo</th>\n",
       "      <th>StateHoliday</th>\n",
       "      <th>SchoolHoliday</th>\n",
       "      <th>StoreType</th>\n",
       "      <th>Assortment</th>\n",
       "      <th>CompetitionDistance</th>\n",
       "      <th>CompetitionOpenSinceMonth</th>\n",
       "      <th>CompetitionOpenSinceYear</th>\n",
       "      <th>Promo2</th>\n",
       "      <th>Promo2SinceWeek</th>\n",
       "      <th>Promo2SinceYear</th>\n",
       "      <th>PromoInterval</th>\n",
       "    </tr>\n",
       "  </thead>\n",
       "  <tbody>\n",
       "    <tr>\n",
       "      <th>0</th>\n",
       "      <td>1</td>\n",
       "      <td>5</td>\n",
       "      <td>2015-07-31</td>\n",
       "      <td>5263</td>\n",
       "      <td>555</td>\n",
       "      <td>1</td>\n",
       "      <td>1</td>\n",
       "      <td>0</td>\n",
       "      <td>1</td>\n",
       "      <td>c</td>\n",
       "      <td>a</td>\n",
       "      <td>1270.0</td>\n",
       "      <td>9.0</td>\n",
       "      <td>2008.0</td>\n",
       "      <td>0</td>\n",
       "      <td>NaN</td>\n",
       "      <td>NaN</td>\n",
       "      <td>NaN</td>\n",
       "    </tr>\n",
       "    <tr>\n",
       "      <th>1</th>\n",
       "      <td>2</td>\n",
       "      <td>5</td>\n",
       "      <td>2015-07-31</td>\n",
       "      <td>6064</td>\n",
       "      <td>625</td>\n",
       "      <td>1</td>\n",
       "      <td>1</td>\n",
       "      <td>0</td>\n",
       "      <td>1</td>\n",
       "      <td>a</td>\n",
       "      <td>a</td>\n",
       "      <td>570.0</td>\n",
       "      <td>11.0</td>\n",
       "      <td>2007.0</td>\n",
       "      <td>1</td>\n",
       "      <td>13.0</td>\n",
       "      <td>2010.0</td>\n",
       "      <td>Jan,Apr,Jul,Oct</td>\n",
       "    </tr>\n",
       "    <tr>\n",
       "      <th>2</th>\n",
       "      <td>3</td>\n",
       "      <td>5</td>\n",
       "      <td>2015-07-31</td>\n",
       "      <td>8314</td>\n",
       "      <td>821</td>\n",
       "      <td>1</td>\n",
       "      <td>1</td>\n",
       "      <td>0</td>\n",
       "      <td>1</td>\n",
       "      <td>a</td>\n",
       "      <td>a</td>\n",
       "      <td>14130.0</td>\n",
       "      <td>12.0</td>\n",
       "      <td>2006.0</td>\n",
       "      <td>1</td>\n",
       "      <td>14.0</td>\n",
       "      <td>2011.0</td>\n",
       "      <td>Jan,Apr,Jul,Oct</td>\n",
       "    </tr>\n",
       "    <tr>\n",
       "      <th>3</th>\n",
       "      <td>4</td>\n",
       "      <td>5</td>\n",
       "      <td>2015-07-31</td>\n",
       "      <td>13995</td>\n",
       "      <td>1498</td>\n",
       "      <td>1</td>\n",
       "      <td>1</td>\n",
       "      <td>0</td>\n",
       "      <td>1</td>\n",
       "      <td>c</td>\n",
       "      <td>c</td>\n",
       "      <td>620.0</td>\n",
       "      <td>9.0</td>\n",
       "      <td>2009.0</td>\n",
       "      <td>0</td>\n",
       "      <td>NaN</td>\n",
       "      <td>NaN</td>\n",
       "      <td>NaN</td>\n",
       "    </tr>\n",
       "    <tr>\n",
       "      <th>4</th>\n",
       "      <td>5</td>\n",
       "      <td>5</td>\n",
       "      <td>2015-07-31</td>\n",
       "      <td>4822</td>\n",
       "      <td>559</td>\n",
       "      <td>1</td>\n",
       "      <td>1</td>\n",
       "      <td>0</td>\n",
       "      <td>1</td>\n",
       "      <td>a</td>\n",
       "      <td>a</td>\n",
       "      <td>29910.0</td>\n",
       "      <td>4.0</td>\n",
       "      <td>2015.0</td>\n",
       "      <td>0</td>\n",
       "      <td>NaN</td>\n",
       "      <td>NaN</td>\n",
       "      <td>NaN</td>\n",
       "    </tr>\n",
       "  </tbody>\n",
       "</table>\n",
       "</div>"
      ],
      "text/plain": [
       "   Store  DayOfWeek        Date  Sales  Customers  Open  Promo StateHoliday  \\\n",
       "0      1          5  2015-07-31   5263        555     1      1            0   \n",
       "1      2          5  2015-07-31   6064        625     1      1            0   \n",
       "2      3          5  2015-07-31   8314        821     1      1            0   \n",
       "3      4          5  2015-07-31  13995       1498     1      1            0   \n",
       "4      5          5  2015-07-31   4822        559     1      1            0   \n",
       "\n",
       "   SchoolHoliday StoreType Assortment  CompetitionDistance  \\\n",
       "0              1         c          a               1270.0   \n",
       "1              1         a          a                570.0   \n",
       "2              1         a          a              14130.0   \n",
       "3              1         c          c                620.0   \n",
       "4              1         a          a              29910.0   \n",
       "\n",
       "   CompetitionOpenSinceMonth  CompetitionOpenSinceYear  Promo2  \\\n",
       "0                        9.0                    2008.0       0   \n",
       "1                       11.0                    2007.0       1   \n",
       "2                       12.0                    2006.0       1   \n",
       "3                        9.0                    2009.0       0   \n",
       "4                        4.0                    2015.0       0   \n",
       "\n",
       "   Promo2SinceWeek  Promo2SinceYear    PromoInterval  \n",
       "0              NaN              NaN              NaN  \n",
       "1             13.0           2010.0  Jan,Apr,Jul,Oct  \n",
       "2             14.0           2011.0  Jan,Apr,Jul,Oct  \n",
       "3              NaN              NaN              NaN  \n",
       "4              NaN              NaN              NaN  "
      ]
     },
     "metadata": {},
     "output_type": "display_data"
    }
   ],
   "source": [
    "# Merging the sale and store df's\n",
    "df = pd.merge(df_sales, df_store, how='left', on='Store')\n",
    "display(df.head())"
   ]
  },
  {
   "cell_type": "markdown",
   "id": "67192c33",
   "metadata": {},
   "source": [
    "# 3. Data Description\n",
    "---"
   ]
  },
  {
   "cell_type": "markdown",
   "id": "fde3865a",
   "metadata": {},
   "source": [
    "Most of the fields are self-explanatory. The following are descriptions for those that aren't.\n",
    "\n",
    "- `Id` - an Id that represents a (Store, Date) duple within the test set.\n",
    "\n",
    "- `Store` - a unique Id for each store.\n",
    "\n",
    "- `Sales` - the turnover for any given day (this is what you are predicting).\n",
    "\n",
    "- `Customers` - the number of customers on a given day.\n",
    "\n",
    "- `Open` - an indicator for whether the store was open. \n",
    "    - 0 = closed; \n",
    "    - 1 = open.\n",
    "\n",
    "- `StateHoliday` - indicates a state holiday. Normally all stores, with few exceptions, are closed on state holidays. Note that all schools are closed on public holidays and weekends: \n",
    "    - a = public holiday;\n",
    "    - b = Easter holiday;\n",
    "    - c = Christmas;\n",
    "    - 0 = None.\n",
    "\n",
    "- `SchoolHoliday` - indicates if the (Store, Date) was affected by the closure of public schools.\n",
    "\n",
    "- `StoreType` - differentiates between 4 different store models: a, b, c, d.\n",
    "\n",
    "- `Assortment` - describes an assortment level:\n",
    "    - a = basic;\n",
    "    - b = extra;\n",
    "    - c = extended.\n",
    "\n",
    "- `CompetitionDistance` - distance in meters to the nearest competitor store.\n",
    "\n",
    "- `CompetitionOpenSince[Month/Year]` - gives the approximate year and month of the time the nearest competitor was opened.\n",
    "\n",
    "- `Promo` - indicates whether a store is running a promo on that day.\n",
    "\n",
    "- `Promo2` - Promo2 is a continuing and consecutive promotion for some stores: \n",
    "    - 0 = store is not participating;\n",
    "    - 1 = store is participating.\n",
    "\n",
    "- `Promo2Since[Year/Week]` - describes the year and calendar week when the store started participating in Promo2.\n",
    "\n",
    "- `PromoInterval` - describes the consecutive intervals Promo2 is started, naming the months the promotion is started a new. E.g. \"Feb,May,Aug,Nov\" means each round starts in February, May, August, November of any given year for that store."
   ]
  },
  {
   "cell_type": "markdown",
   "id": "df28761f",
   "metadata": {},
   "source": [
    "## 3.1. Rename Columns"
   ]
  },
  {
   "cell_type": "markdown",
   "id": "9e20cc9d",
   "metadata": {},
   "source": [
    "I'll rename the camel case columns to snake case in this section. Because my programming style is with snake case."
   ]
  },
  {
   "cell_type": "code",
   "execution_count": 98,
   "id": "cce50e74",
   "metadata": {
    "ExecuteTime": {
     "end_time": "2021-08-12T17:08:15.230436Z",
     "start_time": "2021-08-12T17:08:15.216439Z"
    }
   },
   "outputs": [
    {
     "name": "stdout",
     "output_type": "stream",
     "text": [
      "Old columns:\n",
      "Index(['Store', 'DayOfWeek', 'Date', 'Sales', 'Customers', 'Open', 'Promo',\n",
      "       'StateHoliday', 'SchoolHoliday', 'StoreType', 'Assortment',\n",
      "       'CompetitionDistance', 'CompetitionOpenSinceMonth',\n",
      "       'CompetitionOpenSinceYear', 'Promo2', 'Promo2SinceWeek',\n",
      "       'Promo2SinceYear', 'PromoInterval'],\n",
      "      dtype='object') \n",
      "\n"
     ]
    }
   ],
   "source": [
    "# Showing the old columns\n",
    "print('Old columns:')\n",
    "print(df.columns, '\\n')"
   ]
  },
  {
   "cell_type": "code",
   "execution_count": 99,
   "id": "e43bc812",
   "metadata": {
    "ExecuteTime": {
     "end_time": "2021-08-12T17:08:15.246435Z",
     "start_time": "2021-08-12T17:08:15.232447Z"
    }
   },
   "outputs": [
    {
     "name": "stdout",
     "output_type": "stream",
     "text": [
      "New columns:\n",
      "Index(['store', 'day_of_week', 'date', 'sales', 'customers', 'open', 'promo',\n",
      "       'state_holiday', 'school_holiday', 'store_type', 'assortment',\n",
      "       'competition_distance', 'competition_open_since_month',\n",
      "       'competition_open_since_year', 'promo2', 'promo2_since_week',\n",
      "       'promo2_since_year', 'promo_interval'],\n",
      "      dtype='object')\n"
     ]
    }
   ],
   "source": [
    "# Changing columns to snake case\n",
    "print('New columns:')\n",
    "df = change_cols_to_snake_case(df)\n",
    "print(df.columns)"
   ]
  },
  {
   "cell_type": "markdown",
   "id": "340fe232",
   "metadata": {},
   "source": [
    "## 3.2. Data Dimensions"
   ]
  },
  {
   "cell_type": "code",
   "execution_count": 100,
   "id": "5fa42658",
   "metadata": {
    "ExecuteTime": {
     "end_time": "2021-08-12T17:08:15.262433Z",
     "start_time": "2021-08-12T17:08:15.250435Z"
    }
   },
   "outputs": [
    {
     "name": "stdout",
     "output_type": "stream",
     "text": [
      "Number of rows: 1017209;\n",
      "Number of columns: 18.\n"
     ]
    }
   ],
   "source": [
    "print(f'Number of rows: {df.shape[0]};')\n",
    "print(f'Number of columns: {df.shape[1]}.')"
   ]
  },
  {
   "cell_type": "markdown",
   "id": "5364781d",
   "metadata": {},
   "source": [
    "## 3.3. Data Types"
   ]
  },
  {
   "cell_type": "code",
   "execution_count": 101,
   "id": "492bcc0b",
   "metadata": {
    "ExecuteTime": {
     "end_time": "2021-08-12T17:08:15.278437Z",
     "start_time": "2021-08-12T17:08:15.265437Z"
    },
    "code_folding": []
   },
   "outputs": [
    {
     "name": "stdout",
     "output_type": "stream",
     "text": [
      "store                             int64\n",
      "day_of_week                       int64\n",
      "date                             object\n",
      "sales                             int64\n",
      "customers                         int64\n",
      "open                              int64\n",
      "promo                             int64\n",
      "state_holiday                    object\n",
      "school_holiday                    int64\n",
      "store_type                       object\n",
      "assortment                       object\n",
      "competition_distance            float64\n",
      "competition_open_since_month    float64\n",
      "competition_open_since_year     float64\n",
      "promo2                            int64\n",
      "promo2_since_week               float64\n",
      "promo2_since_year               float64\n",
      "promo_interval                   object\n",
      "dtype: object\n"
     ]
    }
   ],
   "source": [
    "# Original data types\n",
    "print(df.dtypes)"
   ]
  },
  {
   "cell_type": "markdown",
   "id": "d8882ce6",
   "metadata": {},
   "source": [
    "Working with datetime type rather than object is easier! So, I'll change that!"
   ]
  },
  {
   "cell_type": "code",
   "execution_count": 102,
   "id": "e1108c11",
   "metadata": {
    "ExecuteTime": {
     "end_time": "2021-08-12T17:08:15.422438Z",
     "start_time": "2021-08-12T17:08:15.281433Z"
    }
   },
   "outputs": [
    {
     "name": "stdout",
     "output_type": "stream",
     "text": [
      "store                                    int64\n",
      "day_of_week                              int64\n",
      "date                            datetime64[ns]\n",
      "sales                                    int64\n",
      "customers                                int64\n",
      "open                                     int64\n",
      "promo                                    int64\n",
      "state_holiday                           object\n",
      "school_holiday                           int64\n",
      "store_type                              object\n",
      "assortment                              object\n",
      "competition_distance                   float64\n",
      "competition_open_since_month           float64\n",
      "competition_open_since_year            float64\n",
      "promo2                                   int64\n",
      "promo2_since_week                      float64\n",
      "promo2_since_year                      float64\n",
      "promo_interval                          object\n",
      "dtype: object\n"
     ]
    }
   ],
   "source": [
    "# Changing the date type to datetime\n",
    "df['date'] = pd.to_datetime(df['date'])\n",
    "print(df.dtypes)"
   ]
  },
  {
   "cell_type": "markdown",
   "id": "d2e2bfcb",
   "metadata": {},
   "source": [
    "## 3.4. Check NaN"
   ]
  },
  {
   "cell_type": "code",
   "execution_count": 103,
   "id": "b1cae017",
   "metadata": {
    "ExecuteTime": {
     "end_time": "2021-08-12T17:08:15.630436Z",
     "start_time": "2021-08-12T17:08:15.424440Z"
    }
   },
   "outputs": [
    {
     "name": "stdout",
     "output_type": "stream",
     "text": [
      "store                                0\n",
      "day_of_week                          0\n",
      "date                                 0\n",
      "sales                                0\n",
      "customers                            0\n",
      "open                                 0\n",
      "promo                                0\n",
      "state_holiday                        0\n",
      "school_holiday                       0\n",
      "store_type                           0\n",
      "assortment                           0\n",
      "competition_distance              2642\n",
      "competition_open_since_month    323348\n",
      "competition_open_since_year     323348\n",
      "promo2                               0\n",
      "promo2_since_week               508031\n",
      "promo2_since_year               508031\n",
      "promo_interval                  508031\n",
      "dtype: int64\n"
     ]
    }
   ],
   "source": [
    "check_nan_on_df_columns(df)"
   ]
  },
  {
   "cell_type": "markdown",
   "id": "de035bc9",
   "metadata": {},
   "source": [
    "There are a lot of NaN values on the last columns. It is highly recommended to fill that lines with some number, or at least, drop them, because we need to do this to run the machine learning algorithms in the future."
   ]
  },
  {
   "cell_type": "markdown",
   "id": "ea74d653",
   "metadata": {},
   "source": [
    "## 3.5. Fill out NaN"
   ]
  },
  {
   "cell_type": "markdown",
   "id": "5aea4837",
   "metadata": {},
   "source": [
    "### 3.5.1. competition_distance"
   ]
  },
  {
   "cell_type": "markdown",
   "id": "081744a7",
   "metadata": {},
   "source": [
    "Maybe people haven't filled out this column because the distances to the nearest competitor store have not needed to be considered. In other words, the `competition_distance` of that store is too far!\n",
    "\n",
    "Therefore, we only need to replace the NaN values for huge distances. The question is, what is a \"huge distances\"? \n",
    "\n",
    "Let's see the highest value on this column."
   ]
  },
  {
   "cell_type": "code",
   "execution_count": 104,
   "id": "8a915a28",
   "metadata": {
    "ExecuteTime": {
     "end_time": "2021-08-12T17:08:15.646437Z",
     "start_time": "2021-08-12T17:08:15.633440Z"
    }
   },
   "outputs": [
    {
     "name": "stdout",
     "output_type": "stream",
     "text": [
      "The max value of this attribute is: 75860.0.\n"
     ]
    }
   ],
   "source": [
    "max_value = df['competition_distance'].max()\n",
    "print(f'The max value of this attribute is: {max_value}.')"
   ]
  },
  {
   "cell_type": "markdown",
   "id": "a1d222c4",
   "metadata": {},
   "source": [
    "So, we only need to replace the NaN for a huge distance, like... **200,000.0**."
   ]
  },
  {
   "cell_type": "code",
   "execution_count": 105,
   "id": "624e9f65",
   "metadata": {
    "ExecuteTime": {
     "end_time": "2021-08-12T17:08:16.174433Z",
     "start_time": "2021-08-12T17:08:15.648433Z"
    }
   },
   "outputs": [
    {
     "name": "stdout",
     "output_type": "stream",
     "text": [
      "store                                0\n",
      "day_of_week                          0\n",
      "date                                 0\n",
      "sales                                0\n",
      "customers                            0\n",
      "open                                 0\n",
      "promo                                0\n",
      "state_holiday                        0\n",
      "school_holiday                       0\n",
      "store_type                           0\n",
      "assortment                           0\n",
      "competition_distance                 0\n",
      "competition_open_since_month    323348\n",
      "competition_open_since_year     323348\n",
      "promo2                               0\n",
      "promo2_since_week               508031\n",
      "promo2_since_year               508031\n",
      "promo_interval                  508031\n",
      "dtype: int64\n"
     ]
    }
   ],
   "source": [
    "df['competition_distance'] = df['competition_distance'].apply(lambda x: 200000.0 if math.isnan(x) else x)\n",
    "check_nan_on_df_columns(df)"
   ]
  },
  {
   "cell_type": "markdown",
   "id": "462135ac",
   "metadata": {},
   "source": [
    "### 3.5.2. competition_open_since_month"
   ]
  },
  {
   "cell_type": "markdown",
   "id": "1c015488",
   "metadata": {},
   "source": [
    "Why this column has NaN? There are two reasons that I suppose:\n",
    "\n",
    "1. The store doesn't have a nearest competitor, so there isn't an opening date;\n",
    "\n",
    "2. There is a nearest competitor, but we don't know when is the opening date.\n",
    "\n",
    "My solution to fill NaN on this column is to work with the actual month. I don't want to exclude this variable because it seems to be important to our analysis and maybe for machine learning algorithms..."
   ]
  },
  {
   "cell_type": "code",
   "execution_count": 106,
   "id": "ac890410",
   "metadata": {
    "ExecuteTime": {
     "end_time": "2021-08-12T17:08:46.305439Z",
     "start_time": "2021-08-12T17:08:16.176432Z"
    }
   },
   "outputs": [],
   "source": [
    "df = fillout_nan_on_col_with('month', 'competition_open_since_month', df)"
   ]
  },
  {
   "cell_type": "markdown",
   "id": "b3544f9f",
   "metadata": {},
   "source": [
    "### 3.5.3. competition_open_since_year"
   ]
  },
  {
   "cell_type": "markdown",
   "id": "969749e8",
   "metadata": {},
   "source": [
    "The same logic above I'll apply to this attribute."
   ]
  },
  {
   "cell_type": "code",
   "execution_count": 107,
   "id": "8dc422ac",
   "metadata": {
    "ExecuteTime": {
     "end_time": "2021-08-12T17:09:16.202442Z",
     "start_time": "2021-08-12T17:08:46.307433Z"
    }
   },
   "outputs": [],
   "source": [
    "df = fillout_nan_on_col_with('year', 'competition_open_since_year', df)"
   ]
  },
  {
   "cell_type": "code",
   "execution_count": 108,
   "id": "5d8ca9f2",
   "metadata": {
    "ExecuteTime": {
     "end_time": "2021-08-12T17:09:16.409433Z",
     "start_time": "2021-08-12T17:09:16.204437Z"
    }
   },
   "outputs": [
    {
     "name": "stdout",
     "output_type": "stream",
     "text": [
      "store                                0\n",
      "day_of_week                          0\n",
      "date                                 0\n",
      "sales                                0\n",
      "customers                            0\n",
      "open                                 0\n",
      "promo                                0\n",
      "state_holiday                        0\n",
      "school_holiday                       0\n",
      "store_type                           0\n",
      "assortment                           0\n",
      "competition_distance                 0\n",
      "competition_open_since_month         0\n",
      "competition_open_since_year          0\n",
      "promo2                               0\n",
      "promo2_since_week               508031\n",
      "promo2_since_year               508031\n",
      "promo_interval                  508031\n",
      "dtype: int64\n"
     ]
    }
   ],
   "source": [
    "# Checking if we did it right\n",
    "check_nan_on_df_columns(df)"
   ]
  },
  {
   "cell_type": "markdown",
   "id": "e79c0fd3",
   "metadata": {},
   "source": [
    "Yep, we did it!"
   ]
  },
  {
   "cell_type": "markdown",
   "id": "bd870757",
   "metadata": {},
   "source": [
    "### 3.5.4. promo2_since_week"
   ]
  },
  {
   "cell_type": "markdown",
   "id": "f549b33f",
   "metadata": {},
   "source": [
    "If the value is NaN on this column, it's because the store has not decided to participate on `promo2`. So, we don't know exactily what value to replace in this case, as well as the variables above!\n",
    "\n",
    "Therefore, I'll replace the NaN with the current week, like the variables above."
   ]
  },
  {
   "cell_type": "code",
   "execution_count": 109,
   "id": "4933f58f",
   "metadata": {
    "ExecuteTime": {
     "end_time": "2021-08-12T17:09:46.345653Z",
     "start_time": "2021-08-12T17:09:16.411436Z"
    }
   },
   "outputs": [],
   "source": [
    "df = fillout_nan_on_col_with('week', 'promo2_since_week', df)"
   ]
  },
  {
   "cell_type": "markdown",
   "id": "fddb2503",
   "metadata": {},
   "source": [
    "### 3.5.5. promo2_since_year"
   ]
  },
  {
   "cell_type": "markdown",
   "id": "ad3a9029",
   "metadata": {},
   "source": [
    "The same logic above I'll apply to this attribute."
   ]
  },
  {
   "cell_type": "code",
   "execution_count": 110,
   "id": "141a1f55",
   "metadata": {
    "ExecuteTime": {
     "end_time": "2021-08-12T17:10:16.109643Z",
     "start_time": "2021-08-12T17:09:46.347635Z"
    }
   },
   "outputs": [],
   "source": [
    "df = fillout_nan_on_col_with('year', 'promo2_since_year', df)"
   ]
  },
  {
   "cell_type": "code",
   "execution_count": 111,
   "id": "dc0fe2e4",
   "metadata": {
    "ExecuteTime": {
     "end_time": "2021-08-12T17:10:16.317659Z",
     "start_time": "2021-08-12T17:10:16.111638Z"
    }
   },
   "outputs": [
    {
     "name": "stdout",
     "output_type": "stream",
     "text": [
      "store                                0\n",
      "day_of_week                          0\n",
      "date                                 0\n",
      "sales                                0\n",
      "customers                            0\n",
      "open                                 0\n",
      "promo                                0\n",
      "state_holiday                        0\n",
      "school_holiday                       0\n",
      "store_type                           0\n",
      "assortment                           0\n",
      "competition_distance                 0\n",
      "competition_open_since_month         0\n",
      "competition_open_since_year          0\n",
      "promo2                               0\n",
      "promo2_since_week                    0\n",
      "promo2_since_year                    0\n",
      "promo_interval                  508031\n",
      "dtype: int64\n"
     ]
    }
   ],
   "source": [
    "# Checking if we did it right\n",
    "check_nan_on_df_columns(df)"
   ]
  },
  {
   "cell_type": "markdown",
   "id": "5fdcf348",
   "metadata": {},
   "source": [
    "### 3.5.6. promo_interval"
   ]
  },
  {
   "cell_type": "markdown",
   "id": "e20ba8b6",
   "metadata": {},
   "source": [
    "To fill NaN values on this column, I think the best option is to replace with zeros. That is because maybe the `promo2` doesn't exist for that store, so we don't have any `promo_interval`!"
   ]
  },
  {
   "cell_type": "code",
   "execution_count": 112,
   "id": "e80f64eb",
   "metadata": {
    "ExecuteTime": {
     "end_time": "2021-08-12T17:10:16.381640Z",
     "start_time": "2021-08-12T17:10:16.319637Z"
    }
   },
   "outputs": [],
   "source": [
    "df['promo_interval'].fillna(0, inplace=True)"
   ]
  },
  {
   "cell_type": "code",
   "execution_count": 113,
   "id": "53fca6d0",
   "metadata": {
    "ExecuteTime": {
     "end_time": "2021-08-12T17:10:16.589640Z",
     "start_time": "2021-08-12T17:10:16.383641Z"
    }
   },
   "outputs": [
    {
     "name": "stdout",
     "output_type": "stream",
     "text": [
      "store                           0\n",
      "day_of_week                     0\n",
      "date                            0\n",
      "sales                           0\n",
      "customers                       0\n",
      "open                            0\n",
      "promo                           0\n",
      "state_holiday                   0\n",
      "school_holiday                  0\n",
      "store_type                      0\n",
      "assortment                      0\n",
      "competition_distance            0\n",
      "competition_open_since_month    0\n",
      "competition_open_since_year     0\n",
      "promo2                          0\n",
      "promo2_since_week               0\n",
      "promo2_since_year               0\n",
      "promo_interval                  0\n",
      "dtype: int64\n"
     ]
    }
   ],
   "source": [
    "# Checking if we did it right\n",
    "check_nan_on_df_columns(df)"
   ]
  },
  {
   "cell_type": "markdown",
   "id": "14fb1497",
   "metadata": {},
   "source": [
    "Okay, we're almost done.\n",
    "\n",
    "Look at the variable `promo_interval`. Maybe we can create another variable based on that, like if the current month of the store is on `promo2`! So, we can create an attribute called `is_promo` to signal this fact."
   ]
  },
  {
   "cell_type": "code",
   "execution_count": 114,
   "id": "f371d9ce",
   "metadata": {
    "ExecuteTime": {
     "end_time": "2021-08-12T17:10:16.717640Z",
     "start_time": "2021-08-12T17:10:16.591637Z"
    }
   },
   "outputs": [
    {
     "data": {
      "text/html": [
       "<div>\n",
       "<style scoped>\n",
       "    .dataframe tbody tr th:only-of-type {\n",
       "        vertical-align: middle;\n",
       "    }\n",
       "\n",
       "    .dataframe tbody tr th {\n",
       "        vertical-align: top;\n",
       "    }\n",
       "\n",
       "    .dataframe thead th {\n",
       "        text-align: right;\n",
       "    }\n",
       "</style>\n",
       "<table border=\"1\" class=\"dataframe\">\n",
       "  <thead>\n",
       "    <tr style=\"text-align: right;\">\n",
       "      <th></th>\n",
       "      <th>store</th>\n",
       "      <th>day_of_week</th>\n",
       "      <th>date</th>\n",
       "      <th>sales</th>\n",
       "      <th>customers</th>\n",
       "      <th>open</th>\n",
       "      <th>promo</th>\n",
       "      <th>state_holiday</th>\n",
       "      <th>school_holiday</th>\n",
       "      <th>store_type</th>\n",
       "      <th>assortment</th>\n",
       "      <th>competition_distance</th>\n",
       "      <th>competition_open_since_month</th>\n",
       "      <th>competition_open_since_year</th>\n",
       "      <th>promo2</th>\n",
       "      <th>promo2_since_week</th>\n",
       "      <th>promo2_since_year</th>\n",
       "      <th>promo_interval</th>\n",
       "      <th>month_map</th>\n",
       "    </tr>\n",
       "  </thead>\n",
       "  <tbody>\n",
       "    <tr>\n",
       "      <th>0</th>\n",
       "      <td>1</td>\n",
       "      <td>5</td>\n",
       "      <td>2015-07-31</td>\n",
       "      <td>5263</td>\n",
       "      <td>555</td>\n",
       "      <td>1</td>\n",
       "      <td>1</td>\n",
       "      <td>0</td>\n",
       "      <td>1</td>\n",
       "      <td>c</td>\n",
       "      <td>a</td>\n",
       "      <td>1270.0</td>\n",
       "      <td>9.0</td>\n",
       "      <td>2008.0</td>\n",
       "      <td>0</td>\n",
       "      <td>31.0</td>\n",
       "      <td>2015.0</td>\n",
       "      <td>0</td>\n",
       "      <td>Jul</td>\n",
       "    </tr>\n",
       "    <tr>\n",
       "      <th>1</th>\n",
       "      <td>2</td>\n",
       "      <td>5</td>\n",
       "      <td>2015-07-31</td>\n",
       "      <td>6064</td>\n",
       "      <td>625</td>\n",
       "      <td>1</td>\n",
       "      <td>1</td>\n",
       "      <td>0</td>\n",
       "      <td>1</td>\n",
       "      <td>a</td>\n",
       "      <td>a</td>\n",
       "      <td>570.0</td>\n",
       "      <td>11.0</td>\n",
       "      <td>2007.0</td>\n",
       "      <td>1</td>\n",
       "      <td>13.0</td>\n",
       "      <td>2010.0</td>\n",
       "      <td>Jan,Apr,Jul,Oct</td>\n",
       "      <td>Jul</td>\n",
       "    </tr>\n",
       "    <tr>\n",
       "      <th>2</th>\n",
       "      <td>3</td>\n",
       "      <td>5</td>\n",
       "      <td>2015-07-31</td>\n",
       "      <td>8314</td>\n",
       "      <td>821</td>\n",
       "      <td>1</td>\n",
       "      <td>1</td>\n",
       "      <td>0</td>\n",
       "      <td>1</td>\n",
       "      <td>a</td>\n",
       "      <td>a</td>\n",
       "      <td>14130.0</td>\n",
       "      <td>12.0</td>\n",
       "      <td>2006.0</td>\n",
       "      <td>1</td>\n",
       "      <td>14.0</td>\n",
       "      <td>2011.0</td>\n",
       "      <td>Jan,Apr,Jul,Oct</td>\n",
       "      <td>Jul</td>\n",
       "    </tr>\n",
       "    <tr>\n",
       "      <th>3</th>\n",
       "      <td>4</td>\n",
       "      <td>5</td>\n",
       "      <td>2015-07-31</td>\n",
       "      <td>13995</td>\n",
       "      <td>1498</td>\n",
       "      <td>1</td>\n",
       "      <td>1</td>\n",
       "      <td>0</td>\n",
       "      <td>1</td>\n",
       "      <td>c</td>\n",
       "      <td>c</td>\n",
       "      <td>620.0</td>\n",
       "      <td>9.0</td>\n",
       "      <td>2009.0</td>\n",
       "      <td>0</td>\n",
       "      <td>31.0</td>\n",
       "      <td>2015.0</td>\n",
       "      <td>0</td>\n",
       "      <td>Jul</td>\n",
       "    </tr>\n",
       "    <tr>\n",
       "      <th>4</th>\n",
       "      <td>5</td>\n",
       "      <td>5</td>\n",
       "      <td>2015-07-31</td>\n",
       "      <td>4822</td>\n",
       "      <td>559</td>\n",
       "      <td>1</td>\n",
       "      <td>1</td>\n",
       "      <td>0</td>\n",
       "      <td>1</td>\n",
       "      <td>a</td>\n",
       "      <td>a</td>\n",
       "      <td>29910.0</td>\n",
       "      <td>4.0</td>\n",
       "      <td>2015.0</td>\n",
       "      <td>0</td>\n",
       "      <td>31.0</td>\n",
       "      <td>2015.0</td>\n",
       "      <td>0</td>\n",
       "      <td>Jul</td>\n",
       "    </tr>\n",
       "  </tbody>\n",
       "</table>\n",
       "</div>"
      ],
      "text/plain": [
       "   store  day_of_week       date  sales  customers  open  promo state_holiday  \\\n",
       "0      1            5 2015-07-31   5263        555     1      1             0   \n",
       "1      2            5 2015-07-31   6064        625     1      1             0   \n",
       "2      3            5 2015-07-31   8314        821     1      1             0   \n",
       "3      4            5 2015-07-31  13995       1498     1      1             0   \n",
       "4      5            5 2015-07-31   4822        559     1      1             0   \n",
       "\n",
       "   school_holiday store_type assortment  competition_distance  \\\n",
       "0               1          c          a                1270.0   \n",
       "1               1          a          a                 570.0   \n",
       "2               1          a          a               14130.0   \n",
       "3               1          c          c                 620.0   \n",
       "4               1          a          a               29910.0   \n",
       "\n",
       "   competition_open_since_month  competition_open_since_year  promo2  \\\n",
       "0                           9.0                       2008.0       0   \n",
       "1                          11.0                       2007.0       1   \n",
       "2                          12.0                       2006.0       1   \n",
       "3                           9.0                       2009.0       0   \n",
       "4                           4.0                       2015.0       0   \n",
       "\n",
       "   promo2_since_week  promo2_since_year   promo_interval month_map  \n",
       "0               31.0             2015.0                0       Jul  \n",
       "1               13.0             2010.0  Jan,Apr,Jul,Oct       Jul  \n",
       "2               14.0             2011.0  Jan,Apr,Jul,Oct       Jul  \n",
       "3               31.0             2015.0                0       Jul  \n",
       "4               31.0             2015.0                0       Jul  "
      ]
     },
     "execution_count": 114,
     "metadata": {},
     "output_type": "execute_result"
    }
   ],
   "source": [
    "# Mapping the current number of the month to 3 first letter of the month\n",
    "month_map = {1 : 'Jan', 2 : 'Feb', 3 : 'Mar', 4 : 'Apr',\n",
    "             5 : 'May', 6 : 'Jun', 7 : 'Jul', 8 : 'Aug',\n",
    "             9 : 'Sep', 10 : 'Oct', 11 : 'Nov', 12 : 'Dec'}\n",
    "\n",
    "# Creating the month_map column, based on the map dict created above\n",
    "df['month_map'] = df['date'].dt.month.map(month_map)\n",
    "df.head()"
   ]
  },
  {
   "cell_type": "code",
   "execution_count": 115,
   "id": "96ec099d",
   "metadata": {
    "ExecuteTime": {
     "end_time": "2021-08-12T17:10:46.795645Z",
     "start_time": "2021-08-12T17:10:16.726641Z"
    }
   },
   "outputs": [],
   "source": [
    "# Creating the is_promo column\n",
    "## If the promo_interval is 0, then do nothing\n",
    "## Else the promo_interval has a string, then verify if the month_map is on that string\n",
    "df['is_promo'] = df.apply(lambda x: 0 if x['promo_interval'] == 0 else 1 if x['month_map'] in x['promo_interval'].split(',') else 0, axis=1)"
   ]
  },
  {
   "cell_type": "code",
   "execution_count": 116,
   "id": "e5c4d3a4",
   "metadata": {
    "ExecuteTime": {
     "end_time": "2021-08-12T17:10:46.827634Z",
     "start_time": "2021-08-12T17:10:46.799640Z"
    },
    "scrolled": true
   },
   "outputs": [
    {
     "data": {
      "text/html": [
       "<div>\n",
       "<style scoped>\n",
       "    .dataframe tbody tr th:only-of-type {\n",
       "        vertical-align: middle;\n",
       "    }\n",
       "\n",
       "    .dataframe tbody tr th {\n",
       "        vertical-align: top;\n",
       "    }\n",
       "\n",
       "    .dataframe thead th {\n",
       "        text-align: right;\n",
       "    }\n",
       "</style>\n",
       "<table border=\"1\" class=\"dataframe\">\n",
       "  <thead>\n",
       "    <tr style=\"text-align: right;\">\n",
       "      <th></th>\n",
       "      <th>store</th>\n",
       "      <th>day_of_week</th>\n",
       "      <th>date</th>\n",
       "      <th>sales</th>\n",
       "      <th>customers</th>\n",
       "      <th>open</th>\n",
       "      <th>promo</th>\n",
       "      <th>state_holiday</th>\n",
       "      <th>school_holiday</th>\n",
       "      <th>store_type</th>\n",
       "      <th>assortment</th>\n",
       "      <th>competition_distance</th>\n",
       "      <th>competition_open_since_month</th>\n",
       "      <th>competition_open_since_year</th>\n",
       "      <th>promo2</th>\n",
       "      <th>promo2_since_week</th>\n",
       "      <th>promo2_since_year</th>\n",
       "      <th>promo_interval</th>\n",
       "      <th>month_map</th>\n",
       "      <th>is_promo</th>\n",
       "    </tr>\n",
       "  </thead>\n",
       "  <tbody>\n",
       "    <tr>\n",
       "      <th>0</th>\n",
       "      <td>1</td>\n",
       "      <td>5</td>\n",
       "      <td>2015-07-31</td>\n",
       "      <td>5263</td>\n",
       "      <td>555</td>\n",
       "      <td>1</td>\n",
       "      <td>1</td>\n",
       "      <td>0</td>\n",
       "      <td>1</td>\n",
       "      <td>c</td>\n",
       "      <td>a</td>\n",
       "      <td>1270.0</td>\n",
       "      <td>9.0</td>\n",
       "      <td>2008.0</td>\n",
       "      <td>0</td>\n",
       "      <td>31.0</td>\n",
       "      <td>2015.0</td>\n",
       "      <td>0</td>\n",
       "      <td>Jul</td>\n",
       "      <td>0</td>\n",
       "    </tr>\n",
       "    <tr>\n",
       "      <th>1</th>\n",
       "      <td>2</td>\n",
       "      <td>5</td>\n",
       "      <td>2015-07-31</td>\n",
       "      <td>6064</td>\n",
       "      <td>625</td>\n",
       "      <td>1</td>\n",
       "      <td>1</td>\n",
       "      <td>0</td>\n",
       "      <td>1</td>\n",
       "      <td>a</td>\n",
       "      <td>a</td>\n",
       "      <td>570.0</td>\n",
       "      <td>11.0</td>\n",
       "      <td>2007.0</td>\n",
       "      <td>1</td>\n",
       "      <td>13.0</td>\n",
       "      <td>2010.0</td>\n",
       "      <td>Jan,Apr,Jul,Oct</td>\n",
       "      <td>Jul</td>\n",
       "      <td>1</td>\n",
       "    </tr>\n",
       "    <tr>\n",
       "      <th>2</th>\n",
       "      <td>3</td>\n",
       "      <td>5</td>\n",
       "      <td>2015-07-31</td>\n",
       "      <td>8314</td>\n",
       "      <td>821</td>\n",
       "      <td>1</td>\n",
       "      <td>1</td>\n",
       "      <td>0</td>\n",
       "      <td>1</td>\n",
       "      <td>a</td>\n",
       "      <td>a</td>\n",
       "      <td>14130.0</td>\n",
       "      <td>12.0</td>\n",
       "      <td>2006.0</td>\n",
       "      <td>1</td>\n",
       "      <td>14.0</td>\n",
       "      <td>2011.0</td>\n",
       "      <td>Jan,Apr,Jul,Oct</td>\n",
       "      <td>Jul</td>\n",
       "      <td>1</td>\n",
       "    </tr>\n",
       "    <tr>\n",
       "      <th>3</th>\n",
       "      <td>4</td>\n",
       "      <td>5</td>\n",
       "      <td>2015-07-31</td>\n",
       "      <td>13995</td>\n",
       "      <td>1498</td>\n",
       "      <td>1</td>\n",
       "      <td>1</td>\n",
       "      <td>0</td>\n",
       "      <td>1</td>\n",
       "      <td>c</td>\n",
       "      <td>c</td>\n",
       "      <td>620.0</td>\n",
       "      <td>9.0</td>\n",
       "      <td>2009.0</td>\n",
       "      <td>0</td>\n",
       "      <td>31.0</td>\n",
       "      <td>2015.0</td>\n",
       "      <td>0</td>\n",
       "      <td>Jul</td>\n",
       "      <td>0</td>\n",
       "    </tr>\n",
       "    <tr>\n",
       "      <th>4</th>\n",
       "      <td>5</td>\n",
       "      <td>5</td>\n",
       "      <td>2015-07-31</td>\n",
       "      <td>4822</td>\n",
       "      <td>559</td>\n",
       "      <td>1</td>\n",
       "      <td>1</td>\n",
       "      <td>0</td>\n",
       "      <td>1</td>\n",
       "      <td>a</td>\n",
       "      <td>a</td>\n",
       "      <td>29910.0</td>\n",
       "      <td>4.0</td>\n",
       "      <td>2015.0</td>\n",
       "      <td>0</td>\n",
       "      <td>31.0</td>\n",
       "      <td>2015.0</td>\n",
       "      <td>0</td>\n",
       "      <td>Jul</td>\n",
       "      <td>0</td>\n",
       "    </tr>\n",
       "  </tbody>\n",
       "</table>\n",
       "</div>"
      ],
      "text/plain": [
       "   store  day_of_week       date  sales  customers  open  promo state_holiday  \\\n",
       "0      1            5 2015-07-31   5263        555     1      1             0   \n",
       "1      2            5 2015-07-31   6064        625     1      1             0   \n",
       "2      3            5 2015-07-31   8314        821     1      1             0   \n",
       "3      4            5 2015-07-31  13995       1498     1      1             0   \n",
       "4      5            5 2015-07-31   4822        559     1      1             0   \n",
       "\n",
       "   school_holiday store_type assortment  competition_distance  \\\n",
       "0               1          c          a                1270.0   \n",
       "1               1          a          a                 570.0   \n",
       "2               1          a          a               14130.0   \n",
       "3               1          c          c                 620.0   \n",
       "4               1          a          a               29910.0   \n",
       "\n",
       "   competition_open_since_month  competition_open_since_year  promo2  \\\n",
       "0                           9.0                       2008.0       0   \n",
       "1                          11.0                       2007.0       1   \n",
       "2                          12.0                       2006.0       1   \n",
       "3                           9.0                       2009.0       0   \n",
       "4                           4.0                       2015.0       0   \n",
       "\n",
       "   promo2_since_week  promo2_since_year   promo_interval month_map  is_promo  \n",
       "0               31.0             2015.0                0       Jul         0  \n",
       "1               13.0             2010.0  Jan,Apr,Jul,Oct       Jul         1  \n",
       "2               14.0             2011.0  Jan,Apr,Jul,Oct       Jul         1  \n",
       "3               31.0             2015.0                0       Jul         0  \n",
       "4               31.0             2015.0                0       Jul         0  "
      ]
     },
     "execution_count": 116,
     "metadata": {},
     "output_type": "execute_result"
    }
   ],
   "source": [
    "# Looking to the final dataframe\n",
    "df.head()"
   ]
  },
  {
   "cell_type": "markdown",
   "id": "bfe8dcc7",
   "metadata": {},
   "source": [
    "## 3.6. Change data types"
   ]
  },
  {
   "cell_type": "markdown",
   "id": "bcc861de",
   "metadata": {},
   "source": [
    "On this section, I'll look to the columns type and make some modifications, maybe."
   ]
  },
  {
   "cell_type": "code",
   "execution_count": 117,
   "id": "6e777e66",
   "metadata": {
    "ExecuteTime": {
     "end_time": "2021-08-12T17:10:46.843637Z",
     "start_time": "2021-08-12T17:10:46.829636Z"
    }
   },
   "outputs": [
    {
     "name": "stdout",
     "output_type": "stream",
     "text": [
      "store                                    int64\n",
      "day_of_week                              int64\n",
      "date                            datetime64[ns]\n",
      "sales                                    int64\n",
      "customers                                int64\n",
      "open                                     int64\n",
      "promo                                    int64\n",
      "state_holiday                           object\n",
      "school_holiday                           int64\n",
      "store_type                              object\n",
      "assortment                              object\n",
      "competition_distance                   float64\n",
      "competition_open_since_month           float64\n",
      "competition_open_since_year            float64\n",
      "promo2                                   int64\n",
      "promo2_since_week                      float64\n",
      "promo2_since_year                      float64\n",
      "promo_interval                          object\n",
      "month_map                               object\n",
      "is_promo                                 int64\n",
      "dtype: object\n"
     ]
    }
   ],
   "source": [
    "print(df.dtypes)"
   ]
  },
  {
   "cell_type": "markdown",
   "id": "521d197d",
   "metadata": {},
   "source": [
    "We can see that `competition_open_since_month`, `competition_open_since_year`, `promo2_since_week` and `promo2_since_year` are float types, and the correct type of them is integer. let's change it!"
   ]
  },
  {
   "cell_type": "code",
   "execution_count": 118,
   "id": "dba96c3b",
   "metadata": {
    "ExecuteTime": {
     "end_time": "2021-08-12T17:10:46.923637Z",
     "start_time": "2021-08-12T17:10:46.845636Z"
    }
   },
   "outputs": [
    {
     "name": "stdout",
     "output_type": "stream",
     "text": [
      "store                                    int64\n",
      "day_of_week                              int64\n",
      "date                            datetime64[ns]\n",
      "sales                                    int64\n",
      "customers                                int64\n",
      "open                                     int64\n",
      "promo                                    int64\n",
      "state_holiday                           object\n",
      "school_holiday                           int64\n",
      "store_type                              object\n",
      "assortment                              object\n",
      "competition_distance                   float64\n",
      "competition_open_since_month             int64\n",
      "competition_open_since_year              int64\n",
      "promo2                                   int64\n",
      "promo2_since_week                        int64\n",
      "promo2_since_year                        int64\n",
      "promo_interval                          object\n",
      "month_map                               object\n",
      "is_promo                                 int64\n",
      "dtype: object\n"
     ]
    }
   ],
   "source": [
    "wanted_cols = ['competition_open_since_month', 'competition_open_since_year', \n",
    "               'promo2_since_week', 'promo2_since_year']\n",
    "\n",
    "for col in wanted_cols:\n",
    "    df[col] = df[col].astype('int64')\n",
    "\n",
    "print(df.dtypes)"
   ]
  },
  {
   "cell_type": "markdown",
   "id": "63027767",
   "metadata": {},
   "source": [
    "## 3.7. Descriptive Statistics"
   ]
  },
  {
   "cell_type": "markdown",
   "id": "99c519d3",
   "metadata": {},
   "source": [
    "Before we start, I want to separate the numerical and categorical variables, just because the analysis to these sets are different."
   ]
  },
  {
   "cell_type": "code",
   "execution_count": 119,
   "id": "44eca586",
   "metadata": {
    "ExecuteTime": {
     "end_time": "2021-08-12T17:10:47.113637Z",
     "start_time": "2021-08-12T17:10:46.925637Z"
    },
    "hide_input": true
   },
   "outputs": [
    {
     "name": "stdout",
     "output_type": "stream",
     "text": [
      "Numerical attributes:\n"
     ]
    },
    {
     "data": {
      "text/html": [
       "<div>\n",
       "<style scoped>\n",
       "    .dataframe tbody tr th:only-of-type {\n",
       "        vertical-align: middle;\n",
       "    }\n",
       "\n",
       "    .dataframe tbody tr th {\n",
       "        vertical-align: top;\n",
       "    }\n",
       "\n",
       "    .dataframe thead th {\n",
       "        text-align: right;\n",
       "    }\n",
       "</style>\n",
       "<table border=\"1\" class=\"dataframe\">\n",
       "  <thead>\n",
       "    <tr style=\"text-align: right;\">\n",
       "      <th></th>\n",
       "      <th>store</th>\n",
       "      <th>day_of_week</th>\n",
       "      <th>sales</th>\n",
       "      <th>customers</th>\n",
       "      <th>open</th>\n",
       "      <th>promo</th>\n",
       "      <th>school_holiday</th>\n",
       "      <th>competition_distance</th>\n",
       "      <th>competition_open_since_month</th>\n",
       "      <th>competition_open_since_year</th>\n",
       "      <th>promo2</th>\n",
       "      <th>promo2_since_week</th>\n",
       "      <th>promo2_since_year</th>\n",
       "      <th>is_promo</th>\n",
       "    </tr>\n",
       "  </thead>\n",
       "  <tbody>\n",
       "    <tr>\n",
       "      <th>0</th>\n",
       "      <td>1</td>\n",
       "      <td>5</td>\n",
       "      <td>5263</td>\n",
       "      <td>555</td>\n",
       "      <td>1</td>\n",
       "      <td>1</td>\n",
       "      <td>1</td>\n",
       "      <td>1270.0</td>\n",
       "      <td>9</td>\n",
       "      <td>2008</td>\n",
       "      <td>0</td>\n",
       "      <td>31</td>\n",
       "      <td>2015</td>\n",
       "      <td>0</td>\n",
       "    </tr>\n",
       "    <tr>\n",
       "      <th>1</th>\n",
       "      <td>2</td>\n",
       "      <td>5</td>\n",
       "      <td>6064</td>\n",
       "      <td>625</td>\n",
       "      <td>1</td>\n",
       "      <td>1</td>\n",
       "      <td>1</td>\n",
       "      <td>570.0</td>\n",
       "      <td>11</td>\n",
       "      <td>2007</td>\n",
       "      <td>1</td>\n",
       "      <td>13</td>\n",
       "      <td>2010</td>\n",
       "      <td>1</td>\n",
       "    </tr>\n",
       "    <tr>\n",
       "      <th>2</th>\n",
       "      <td>3</td>\n",
       "      <td>5</td>\n",
       "      <td>8314</td>\n",
       "      <td>821</td>\n",
       "      <td>1</td>\n",
       "      <td>1</td>\n",
       "      <td>1</td>\n",
       "      <td>14130.0</td>\n",
       "      <td>12</td>\n",
       "      <td>2006</td>\n",
       "      <td>1</td>\n",
       "      <td>14</td>\n",
       "      <td>2011</td>\n",
       "      <td>1</td>\n",
       "    </tr>\n",
       "    <tr>\n",
       "      <th>3</th>\n",
       "      <td>4</td>\n",
       "      <td>5</td>\n",
       "      <td>13995</td>\n",
       "      <td>1498</td>\n",
       "      <td>1</td>\n",
       "      <td>1</td>\n",
       "      <td>1</td>\n",
       "      <td>620.0</td>\n",
       "      <td>9</td>\n",
       "      <td>2009</td>\n",
       "      <td>0</td>\n",
       "      <td>31</td>\n",
       "      <td>2015</td>\n",
       "      <td>0</td>\n",
       "    </tr>\n",
       "    <tr>\n",
       "      <th>4</th>\n",
       "      <td>5</td>\n",
       "      <td>5</td>\n",
       "      <td>4822</td>\n",
       "      <td>559</td>\n",
       "      <td>1</td>\n",
       "      <td>1</td>\n",
       "      <td>1</td>\n",
       "      <td>29910.0</td>\n",
       "      <td>4</td>\n",
       "      <td>2015</td>\n",
       "      <td>0</td>\n",
       "      <td>31</td>\n",
       "      <td>2015</td>\n",
       "      <td>0</td>\n",
       "    </tr>\n",
       "    <tr>\n",
       "      <th>...</th>\n",
       "      <td>...</td>\n",
       "      <td>...</td>\n",
       "      <td>...</td>\n",
       "      <td>...</td>\n",
       "      <td>...</td>\n",
       "      <td>...</td>\n",
       "      <td>...</td>\n",
       "      <td>...</td>\n",
       "      <td>...</td>\n",
       "      <td>...</td>\n",
       "      <td>...</td>\n",
       "      <td>...</td>\n",
       "      <td>...</td>\n",
       "      <td>...</td>\n",
       "    </tr>\n",
       "    <tr>\n",
       "      <th>1017204</th>\n",
       "      <td>1111</td>\n",
       "      <td>2</td>\n",
       "      <td>0</td>\n",
       "      <td>0</td>\n",
       "      <td>0</td>\n",
       "      <td>0</td>\n",
       "      <td>1</td>\n",
       "      <td>1900.0</td>\n",
       "      <td>6</td>\n",
       "      <td>2014</td>\n",
       "      <td>1</td>\n",
       "      <td>31</td>\n",
       "      <td>2013</td>\n",
       "      <td>1</td>\n",
       "    </tr>\n",
       "    <tr>\n",
       "      <th>1017205</th>\n",
       "      <td>1112</td>\n",
       "      <td>2</td>\n",
       "      <td>0</td>\n",
       "      <td>0</td>\n",
       "      <td>0</td>\n",
       "      <td>0</td>\n",
       "      <td>1</td>\n",
       "      <td>1880.0</td>\n",
       "      <td>4</td>\n",
       "      <td>2006</td>\n",
       "      <td>0</td>\n",
       "      <td>1</td>\n",
       "      <td>2013</td>\n",
       "      <td>0</td>\n",
       "    </tr>\n",
       "    <tr>\n",
       "      <th>1017206</th>\n",
       "      <td>1113</td>\n",
       "      <td>2</td>\n",
       "      <td>0</td>\n",
       "      <td>0</td>\n",
       "      <td>0</td>\n",
       "      <td>0</td>\n",
       "      <td>1</td>\n",
       "      <td>9260.0</td>\n",
       "      <td>1</td>\n",
       "      <td>2013</td>\n",
       "      <td>0</td>\n",
       "      <td>1</td>\n",
       "      <td>2013</td>\n",
       "      <td>0</td>\n",
       "    </tr>\n",
       "    <tr>\n",
       "      <th>1017207</th>\n",
       "      <td>1114</td>\n",
       "      <td>2</td>\n",
       "      <td>0</td>\n",
       "      <td>0</td>\n",
       "      <td>0</td>\n",
       "      <td>0</td>\n",
       "      <td>1</td>\n",
       "      <td>870.0</td>\n",
       "      <td>1</td>\n",
       "      <td>2013</td>\n",
       "      <td>0</td>\n",
       "      <td>1</td>\n",
       "      <td>2013</td>\n",
       "      <td>0</td>\n",
       "    </tr>\n",
       "    <tr>\n",
       "      <th>1017208</th>\n",
       "      <td>1115</td>\n",
       "      <td>2</td>\n",
       "      <td>0</td>\n",
       "      <td>0</td>\n",
       "      <td>0</td>\n",
       "      <td>0</td>\n",
       "      <td>1</td>\n",
       "      <td>5350.0</td>\n",
       "      <td>1</td>\n",
       "      <td>2013</td>\n",
       "      <td>1</td>\n",
       "      <td>22</td>\n",
       "      <td>2012</td>\n",
       "      <td>0</td>\n",
       "    </tr>\n",
       "  </tbody>\n",
       "</table>\n",
       "<p>1017209 rows × 14 columns</p>\n",
       "</div>"
      ],
      "text/plain": [
       "         store  day_of_week  sales  customers  open  promo  school_holiday  \\\n",
       "0            1            5   5263        555     1      1               1   \n",
       "1            2            5   6064        625     1      1               1   \n",
       "2            3            5   8314        821     1      1               1   \n",
       "3            4            5  13995       1498     1      1               1   \n",
       "4            5            5   4822        559     1      1               1   \n",
       "...        ...          ...    ...        ...   ...    ...             ...   \n",
       "1017204   1111            2      0          0     0      0               1   \n",
       "1017205   1112            2      0          0     0      0               1   \n",
       "1017206   1113            2      0          0     0      0               1   \n",
       "1017207   1114            2      0          0     0      0               1   \n",
       "1017208   1115            2      0          0     0      0               1   \n",
       "\n",
       "         competition_distance  competition_open_since_month  \\\n",
       "0                      1270.0                             9   \n",
       "1                       570.0                            11   \n",
       "2                     14130.0                            12   \n",
       "3                       620.0                             9   \n",
       "4                     29910.0                             4   \n",
       "...                       ...                           ...   \n",
       "1017204                1900.0                             6   \n",
       "1017205                1880.0                             4   \n",
       "1017206                9260.0                             1   \n",
       "1017207                 870.0                             1   \n",
       "1017208                5350.0                             1   \n",
       "\n",
       "         competition_open_since_year  promo2  promo2_since_week  \\\n",
       "0                               2008       0                 31   \n",
       "1                               2007       1                 13   \n",
       "2                               2006       1                 14   \n",
       "3                               2009       0                 31   \n",
       "4                               2015       0                 31   \n",
       "...                              ...     ...                ...   \n",
       "1017204                         2014       1                 31   \n",
       "1017205                         2006       0                  1   \n",
       "1017206                         2013       0                  1   \n",
       "1017207                         2013       0                  1   \n",
       "1017208                         2013       1                 22   \n",
       "\n",
       "         promo2_since_year  is_promo  \n",
       "0                     2015         0  \n",
       "1                     2010         1  \n",
       "2                     2011         1  \n",
       "3                     2015         0  \n",
       "4                     2015         0  \n",
       "...                    ...       ...  \n",
       "1017204               2013         1  \n",
       "1017205               2013         0  \n",
       "1017206               2013         0  \n",
       "1017207               2013         0  \n",
       "1017208               2012         0  \n",
       "\n",
       "[1017209 rows x 14 columns]"
      ]
     },
     "metadata": {},
     "output_type": "display_data"
    },
    {
     "name": "stdout",
     "output_type": "stream",
     "text": [
      "Categorical attributes:\n"
     ]
    },
    {
     "data": {
      "text/html": [
       "<div>\n",
       "<style scoped>\n",
       "    .dataframe tbody tr th:only-of-type {\n",
       "        vertical-align: middle;\n",
       "    }\n",
       "\n",
       "    .dataframe tbody tr th {\n",
       "        vertical-align: top;\n",
       "    }\n",
       "\n",
       "    .dataframe thead th {\n",
       "        text-align: right;\n",
       "    }\n",
       "</style>\n",
       "<table border=\"1\" class=\"dataframe\">\n",
       "  <thead>\n",
       "    <tr style=\"text-align: right;\">\n",
       "      <th></th>\n",
       "      <th>state_holiday</th>\n",
       "      <th>store_type</th>\n",
       "      <th>assortment</th>\n",
       "      <th>promo_interval</th>\n",
       "      <th>month_map</th>\n",
       "    </tr>\n",
       "  </thead>\n",
       "  <tbody>\n",
       "    <tr>\n",
       "      <th>0</th>\n",
       "      <td>0</td>\n",
       "      <td>c</td>\n",
       "      <td>a</td>\n",
       "      <td>0</td>\n",
       "      <td>Jul</td>\n",
       "    </tr>\n",
       "    <tr>\n",
       "      <th>1</th>\n",
       "      <td>0</td>\n",
       "      <td>a</td>\n",
       "      <td>a</td>\n",
       "      <td>Jan,Apr,Jul,Oct</td>\n",
       "      <td>Jul</td>\n",
       "    </tr>\n",
       "    <tr>\n",
       "      <th>2</th>\n",
       "      <td>0</td>\n",
       "      <td>a</td>\n",
       "      <td>a</td>\n",
       "      <td>Jan,Apr,Jul,Oct</td>\n",
       "      <td>Jul</td>\n",
       "    </tr>\n",
       "    <tr>\n",
       "      <th>3</th>\n",
       "      <td>0</td>\n",
       "      <td>c</td>\n",
       "      <td>c</td>\n",
       "      <td>0</td>\n",
       "      <td>Jul</td>\n",
       "    </tr>\n",
       "    <tr>\n",
       "      <th>4</th>\n",
       "      <td>0</td>\n",
       "      <td>a</td>\n",
       "      <td>a</td>\n",
       "      <td>0</td>\n",
       "      <td>Jul</td>\n",
       "    </tr>\n",
       "    <tr>\n",
       "      <th>...</th>\n",
       "      <td>...</td>\n",
       "      <td>...</td>\n",
       "      <td>...</td>\n",
       "      <td>...</td>\n",
       "      <td>...</td>\n",
       "    </tr>\n",
       "    <tr>\n",
       "      <th>1017204</th>\n",
       "      <td>a</td>\n",
       "      <td>a</td>\n",
       "      <td>a</td>\n",
       "      <td>Jan,Apr,Jul,Oct</td>\n",
       "      <td>Jan</td>\n",
       "    </tr>\n",
       "    <tr>\n",
       "      <th>1017205</th>\n",
       "      <td>a</td>\n",
       "      <td>c</td>\n",
       "      <td>c</td>\n",
       "      <td>0</td>\n",
       "      <td>Jan</td>\n",
       "    </tr>\n",
       "    <tr>\n",
       "      <th>1017206</th>\n",
       "      <td>a</td>\n",
       "      <td>a</td>\n",
       "      <td>c</td>\n",
       "      <td>0</td>\n",
       "      <td>Jan</td>\n",
       "    </tr>\n",
       "    <tr>\n",
       "      <th>1017207</th>\n",
       "      <td>a</td>\n",
       "      <td>a</td>\n",
       "      <td>c</td>\n",
       "      <td>0</td>\n",
       "      <td>Jan</td>\n",
       "    </tr>\n",
       "    <tr>\n",
       "      <th>1017208</th>\n",
       "      <td>a</td>\n",
       "      <td>d</td>\n",
       "      <td>c</td>\n",
       "      <td>Mar,Jun,Sept,Dec</td>\n",
       "      <td>Jan</td>\n",
       "    </tr>\n",
       "  </tbody>\n",
       "</table>\n",
       "<p>1017209 rows × 5 columns</p>\n",
       "</div>"
      ],
      "text/plain": [
       "        state_holiday store_type assortment    promo_interval month_map\n",
       "0                   0          c          a                 0       Jul\n",
       "1                   0          a          a   Jan,Apr,Jul,Oct       Jul\n",
       "2                   0          a          a   Jan,Apr,Jul,Oct       Jul\n",
       "3                   0          c          c                 0       Jul\n",
       "4                   0          a          a                 0       Jul\n",
       "...               ...        ...        ...               ...       ...\n",
       "1017204             a          a          a   Jan,Apr,Jul,Oct       Jan\n",
       "1017205             a          c          c                 0       Jan\n",
       "1017206             a          a          c                 0       Jan\n",
       "1017207             a          a          c                 0       Jan\n",
       "1017208             a          d          c  Mar,Jun,Sept,Dec       Jan\n",
       "\n",
       "[1017209 rows x 5 columns]"
      ]
     },
     "metadata": {},
     "output_type": "display_data"
    }
   ],
   "source": [
    "# Defining the numerical and categorical dfs\n",
    "num_attributes, cat_attributes = get_num_cat_vars(df)\n",
    "\n",
    "# Showing these dataframes\n",
    "print('Numerical attributes:')\n",
    "display(num_attributes)\n",
    "\n",
    "print('Categorical attributes:')\n",
    "display(cat_attributes)"
   ]
  },
  {
   "cell_type": "markdown",
   "id": "a8a0655e",
   "metadata": {},
   "source": [
    "Let's see how is the sales distribution and some statistics of the variables on numerical section and how is the categorical sales boxplots on categorical section."
   ]
  },
  {
   "cell_type": "markdown",
   "id": "4b3889e6",
   "metadata": {},
   "source": [
    "### 3.7.1. Numerical Attributes"
   ]
  },
  {
   "cell_type": "code",
   "execution_count": 120,
   "id": "d3cf2204",
   "metadata": {
    "ExecuteTime": {
     "end_time": "2021-08-12T17:10:47.894637Z",
     "start_time": "2021-08-12T17:10:47.115637Z"
    },
    "hide_input": true,
    "tags": []
   },
   "outputs": [
    {
     "data": {
      "text/html": [
       "<div>\n",
       "<style scoped>\n",
       "    .dataframe tbody tr th:only-of-type {\n",
       "        vertical-align: middle;\n",
       "    }\n",
       "\n",
       "    .dataframe tbody tr th {\n",
       "        vertical-align: top;\n",
       "    }\n",
       "\n",
       "    .dataframe thead th {\n",
       "        text-align: right;\n",
       "    }\n",
       "</style>\n",
       "<table border=\"1\" class=\"dataframe\">\n",
       "  <thead>\n",
       "    <tr style=\"text-align: right;\">\n",
       "      <th></th>\n",
       "      <th>attribute</th>\n",
       "      <th>min</th>\n",
       "      <th>max</th>\n",
       "      <th>range</th>\n",
       "      <th>mean</th>\n",
       "      <th>median</th>\n",
       "      <th>std</th>\n",
       "      <th>skew</th>\n",
       "      <th>kurtosis</th>\n",
       "    </tr>\n",
       "  </thead>\n",
       "  <tbody>\n",
       "    <tr>\n",
       "      <th>0</th>\n",
       "      <td>store</td>\n",
       "      <td>1.0</td>\n",
       "      <td>1115.0</td>\n",
       "      <td>1114.0</td>\n",
       "      <td>558.429727</td>\n",
       "      <td>558.0</td>\n",
       "      <td>321.908651</td>\n",
       "      <td>-0.000955</td>\n",
       "      <td>-1.200524</td>\n",
       "    </tr>\n",
       "    <tr>\n",
       "      <th>1</th>\n",
       "      <td>day_of_week</td>\n",
       "      <td>1.0</td>\n",
       "      <td>7.0</td>\n",
       "      <td>6.0</td>\n",
       "      <td>3.998341</td>\n",
       "      <td>4.0</td>\n",
       "      <td>1.997391</td>\n",
       "      <td>0.001593</td>\n",
       "      <td>-1.246873</td>\n",
       "    </tr>\n",
       "    <tr>\n",
       "      <th>2</th>\n",
       "      <td>sales</td>\n",
       "      <td>0.0</td>\n",
       "      <td>41551.0</td>\n",
       "      <td>41551.0</td>\n",
       "      <td>5773.818972</td>\n",
       "      <td>5744.0</td>\n",
       "      <td>3849.926175</td>\n",
       "      <td>0.641460</td>\n",
       "      <td>1.778375</td>\n",
       "    </tr>\n",
       "    <tr>\n",
       "      <th>3</th>\n",
       "      <td>customers</td>\n",
       "      <td>0.0</td>\n",
       "      <td>7388.0</td>\n",
       "      <td>7388.0</td>\n",
       "      <td>633.145946</td>\n",
       "      <td>609.0</td>\n",
       "      <td>464.411734</td>\n",
       "      <td>1.598650</td>\n",
       "      <td>7.091773</td>\n",
       "    </tr>\n",
       "    <tr>\n",
       "      <th>4</th>\n",
       "      <td>open</td>\n",
       "      <td>0.0</td>\n",
       "      <td>1.0</td>\n",
       "      <td>1.0</td>\n",
       "      <td>0.830107</td>\n",
       "      <td>1.0</td>\n",
       "      <td>0.375539</td>\n",
       "      <td>-1.758045</td>\n",
       "      <td>1.090723</td>\n",
       "    </tr>\n",
       "    <tr>\n",
       "      <th>5</th>\n",
       "      <td>promo</td>\n",
       "      <td>0.0</td>\n",
       "      <td>1.0</td>\n",
       "      <td>1.0</td>\n",
       "      <td>0.381515</td>\n",
       "      <td>0.0</td>\n",
       "      <td>0.485759</td>\n",
       "      <td>0.487838</td>\n",
       "      <td>-1.762018</td>\n",
       "    </tr>\n",
       "    <tr>\n",
       "      <th>6</th>\n",
       "      <td>school_holiday</td>\n",
       "      <td>0.0</td>\n",
       "      <td>1.0</td>\n",
       "      <td>1.0</td>\n",
       "      <td>0.178647</td>\n",
       "      <td>0.0</td>\n",
       "      <td>0.383056</td>\n",
       "      <td>1.677842</td>\n",
       "      <td>0.815154</td>\n",
       "    </tr>\n",
       "    <tr>\n",
       "      <th>7</th>\n",
       "      <td>competition_distance</td>\n",
       "      <td>20.0</td>\n",
       "      <td>200000.0</td>\n",
       "      <td>199980.0</td>\n",
       "      <td>5935.442677</td>\n",
       "      <td>2330.0</td>\n",
       "      <td>12547.652996</td>\n",
       "      <td>10.242344</td>\n",
       "      <td>147.789712</td>\n",
       "    </tr>\n",
       "    <tr>\n",
       "      <th>8</th>\n",
       "      <td>competition_open_since_month</td>\n",
       "      <td>1.0</td>\n",
       "      <td>12.0</td>\n",
       "      <td>11.0</td>\n",
       "      <td>6.786849</td>\n",
       "      <td>7.0</td>\n",
       "      <td>3.311087</td>\n",
       "      <td>-0.042076</td>\n",
       "      <td>-1.232607</td>\n",
       "    </tr>\n",
       "    <tr>\n",
       "      <th>9</th>\n",
       "      <td>competition_open_since_year</td>\n",
       "      <td>1900.0</td>\n",
       "      <td>2015.0</td>\n",
       "      <td>115.0</td>\n",
       "      <td>2010.324840</td>\n",
       "      <td>2012.0</td>\n",
       "      <td>5.515593</td>\n",
       "      <td>-7.235657</td>\n",
       "      <td>124.071304</td>\n",
       "    </tr>\n",
       "    <tr>\n",
       "      <th>10</th>\n",
       "      <td>promo2</td>\n",
       "      <td>0.0</td>\n",
       "      <td>1.0</td>\n",
       "      <td>1.0</td>\n",
       "      <td>0.500564</td>\n",
       "      <td>1.0</td>\n",
       "      <td>0.500000</td>\n",
       "      <td>-0.002255</td>\n",
       "      <td>-1.999999</td>\n",
       "    </tr>\n",
       "    <tr>\n",
       "      <th>11</th>\n",
       "      <td>promo2_since_week</td>\n",
       "      <td>1.0</td>\n",
       "      <td>52.0</td>\n",
       "      <td>51.0</td>\n",
       "      <td>23.619033</td>\n",
       "      <td>22.0</td>\n",
       "      <td>14.310064</td>\n",
       "      <td>0.178723</td>\n",
       "      <td>-1.184046</td>\n",
       "    </tr>\n",
       "    <tr>\n",
       "      <th>12</th>\n",
       "      <td>promo2_since_year</td>\n",
       "      <td>2009.0</td>\n",
       "      <td>2015.0</td>\n",
       "      <td>6.0</td>\n",
       "      <td>2012.793297</td>\n",
       "      <td>2013.0</td>\n",
       "      <td>1.662658</td>\n",
       "      <td>-0.784436</td>\n",
       "      <td>-0.210075</td>\n",
       "    </tr>\n",
       "    <tr>\n",
       "      <th>13</th>\n",
       "      <td>is_promo</td>\n",
       "      <td>0.0</td>\n",
       "      <td>1.0</td>\n",
       "      <td>1.0</td>\n",
       "      <td>0.165966</td>\n",
       "      <td>0.0</td>\n",
       "      <td>0.372050</td>\n",
       "      <td>1.795644</td>\n",
       "      <td>1.224338</td>\n",
       "    </tr>\n",
       "  </tbody>\n",
       "</table>\n",
       "</div>"
      ],
      "text/plain": [
       "                       attribute     min       max     range         mean  \\\n",
       "0                          store     1.0    1115.0    1114.0   558.429727   \n",
       "1                    day_of_week     1.0       7.0       6.0     3.998341   \n",
       "2                          sales     0.0   41551.0   41551.0  5773.818972   \n",
       "3                      customers     0.0    7388.0    7388.0   633.145946   \n",
       "4                           open     0.0       1.0       1.0     0.830107   \n",
       "5                          promo     0.0       1.0       1.0     0.381515   \n",
       "6                 school_holiday     0.0       1.0       1.0     0.178647   \n",
       "7           competition_distance    20.0  200000.0  199980.0  5935.442677   \n",
       "8   competition_open_since_month     1.0      12.0      11.0     6.786849   \n",
       "9    competition_open_since_year  1900.0    2015.0     115.0  2010.324840   \n",
       "10                        promo2     0.0       1.0       1.0     0.500564   \n",
       "11             promo2_since_week     1.0      52.0      51.0    23.619033   \n",
       "12             promo2_since_year  2009.0    2015.0       6.0  2012.793297   \n",
       "13                      is_promo     0.0       1.0       1.0     0.165966   \n",
       "\n",
       "    median           std       skew    kurtosis  \n",
       "0    558.0    321.908651  -0.000955   -1.200524  \n",
       "1      4.0      1.997391   0.001593   -1.246873  \n",
       "2   5744.0   3849.926175   0.641460    1.778375  \n",
       "3    609.0    464.411734   1.598650    7.091773  \n",
       "4      1.0      0.375539  -1.758045    1.090723  \n",
       "5      0.0      0.485759   0.487838   -1.762018  \n",
       "6      0.0      0.383056   1.677842    0.815154  \n",
       "7   2330.0  12547.652996  10.242344  147.789712  \n",
       "8      7.0      3.311087  -0.042076   -1.232607  \n",
       "9   2012.0      5.515593  -7.235657  124.071304  \n",
       "10     1.0      0.500000  -0.002255   -1.999999  \n",
       "11    22.0     14.310064   0.178723   -1.184046  \n",
       "12  2013.0      1.662658  -0.784436   -0.210075  \n",
       "13     0.0      0.372050   1.795644    1.224338  "
      ]
     },
     "metadata": {},
     "output_type": "display_data"
    }
   ],
   "source": [
    "# Creating the metrics dataframe\n",
    "metrics = num_attributes.describe().T.drop(['count', '25%', '75%'], axis=1)\n",
    "metrics.rename({'50%' : 'median'}, inplace=True, axis=1)\n",
    "\n",
    "# Creating the skewness and kurtosis of each variables\n",
    "skews = num_attributes.apply(lambda x: x.skew()).T\n",
    "kurtosis = num_attributes.apply(lambda x: x.kurtosis()).T\n",
    "\n",
    "# Creating the range of min and max values\n",
    "metrics['range'] = metrics['max'] - metrics['min']\n",
    "\n",
    "# Adding the skews and kurthosis values on metrics dataframe\n",
    "metrics['skew'] = skews\n",
    "metrics['kurtosis'] = kurtosis\n",
    "\n",
    "# Changing the index to a variable and renaming it\n",
    "metrics.reset_index(inplace=True)\n",
    "metrics.rename({'index':'attribute'}, axis=1, inplace=True)\n",
    "\n",
    "# Changing the order of columns apresentation on dataframe\n",
    "metrics = metrics[['attribute', 'min', 'max', 'range', 'mean', 'median', \n",
    "                   'std', 'skew', 'kurtosis']]\n",
    "display(metrics)"
   ]
  },
  {
   "cell_type": "markdown",
   "id": "4eec2839",
   "metadata": {},
   "source": [
    "Look at the `competition_open_since_year` variable. It has a high skew and kurtosis, and it's okay, because we fill out the 323,348 NaN with the current year. So, it doesn't matter.\n",
    "\n",
    "One variable that catch our attention is the `competition_distance`, because it has the highest skew and kurtosis values. A conclusion for this is that most stores have a very near competitor.\n",
    "\n",
    "Let's have a look at the `competition_distance` distribution."
   ]
  },
  {
   "cell_type": "code",
   "execution_count": 121,
   "id": "fc5c8f32",
   "metadata": {
    "ExecuteTime": {
     "end_time": "2021-08-12T17:11:00.135637Z",
     "start_time": "2021-08-12T17:10:47.896637Z"
    },
    "hide_input": true
   },
   "outputs": [
    {
     "data": {
      "image/png": "[encoded data removed]",
      "text/plain": [
       "<Figure size 1152x576 with 1 Axes>"
      ]
     },
     "metadata": {},
     "output_type": "display_data"
    }
   ],
   "source": [
    "# Showing the stores competition distance count on a given day distribution\n",
    "show_histplot('competition_distance', df, \n",
    "              'Stores competition distance on a given day', \n",
    "              'Competition distance')"
   ]
  },
  {
   "cell_type": "markdown",
   "id": "dd8c4e40",
   "metadata": {},
   "source": [
    "Yep, it confirmed our theory.\n",
    "\n",
    "Now, I want to see the stores sales distribution, our target for machine learning."
   ]
  },
  {
   "cell_type": "code",
   "execution_count": 122,
   "id": "ab9c8481",
   "metadata": {
    "ExecuteTime": {
     "end_time": "2021-08-12T17:11:09.352645Z",
     "start_time": "2021-08-12T17:11:00.137637Z"
    },
    "hide_input": true,
    "tags": []
   },
   "outputs": [
    {
     "data": {
      "image/png": "[encoded data removed]",
      "text/plain": [
       "<Figure size 1152x576 with 1 Axes>"
      ]
     },
     "metadata": {},
     "output_type": "display_data"
    }
   ],
   "source": [
    "# Showing the stores sales count on a given day distribution\n",
    "show_histplot('sales', df, \n",
    "              'Stores sales count on a given day', \n",
    "              'Sales')"
   ]
  },
  {
   "cell_type": "markdown",
   "id": "a414b05f",
   "metadata": {},
   "source": [
    "The curve looks like a **normal distribution**, if we drop the zeros... Maybe, this is an important information."
   ]
  },
  {
   "cell_type": "markdown",
   "id": "d91390de",
   "metadata": {
    "hide_input": false,
    "tags": []
   },
   "source": [
    "### 3.7.2. Categorical Attributes"
   ]
  },
  {
   "cell_type": "code",
   "execution_count": 123,
   "id": "a2a76869-92c7-4e53-bd17-6215bf645457",
   "metadata": {
    "ExecuteTime": {
     "end_time": "2021-08-12T17:11:09.430827Z",
     "start_time": "2021-08-12T17:11:09.355642Z"
    },
    "hide_input": false
   },
   "outputs": [],
   "source": [
    "# Some conditions that I want to apply\n",
    "aux_df = df[(df['state_holiday'] != '0') & (df['sales'] > 0)]"
   ]
  },
  {
   "cell_type": "code",
   "execution_count": 124,
   "id": "828ca501-e1c5-46e0-abc2-378be2ccffd5",
   "metadata": {
    "ExecuteTime": {
     "end_time": "2021-08-12T17:11:10.020825Z",
     "start_time": "2021-08-12T17:11:09.432821Z"
    },
    "hide_input": true
   },
   "outputs": [
    {
     "data": {
      "image/png": "[encoded data removed]",
      "text/plain": [
       "<Figure size 1152x432 with 3 Axes>"
      ]
     },
     "metadata": {},
     "output_type": "display_data"
    }
   ],
   "source": [
    "plt.figure(figsize=(16, 6))\n",
    "plt.subplot(1, 3, 1)\n",
    "plt.title('Stores sales on state holidays')\n",
    "sns.boxplot(x='state_holiday', y='sales', data=aux_df)\n",
    "plt.xlabel('state holidays')\n",
    "\n",
    "plt.subplot(1, 3, 2)\n",
    "plt.title('Stores sales by store types')\n",
    "sns.boxplot(x='store_type', y='sales', data=aux_df)\n",
    "plt.xlabel('store types')\n",
    "plt.ylabel('')\n",
    "\n",
    "plt.subplot(1, 3, 3)\n",
    "plt.title('Stores sales by assortment')\n",
    "sns.boxplot(x='assortment', y='sales', data=aux_df)\n",
    "plt.ylabel('');"
   ]
  },
  {
   "cell_type": "markdown",
   "id": "cac9bd8d",
   "metadata": {},
   "source": [
    "- The **state holiday**, **store type** and **assortment b** have the highest dispersions of stores sales;\n",
    "- the **store type** and **assortment b** have the highest median of stores sales."
   ]
  },
  {
   "cell_type": "markdown",
   "id": "52fc03b2",
   "metadata": {},
   "source": [
    "# 4. Feature Engineering\n",
    "---"
   ]
  },
  {
   "cell_type": "markdown",
   "id": "84396df5",
   "metadata": {},
   "source": [
    "## 4.1. Mind Map Hypothesis"
   ]
  },
  {
   "cell_type": "code",
   "execution_count": 125,
   "id": "b39865e8",
   "metadata": {
    "ExecuteTime": {
     "end_time": "2021-08-12T17:11:10.036821Z",
     "start_time": "2021-08-12T17:11:10.022819Z"
    },
    "hide_input": true
   },
   "outputs": [
    {
     "data": {
      "image/png": "[encoded data removed]",
      "text/plain": [
       "<IPython.core.display.Image object>"
      ]
     },
     "execution_count": 125,
     "metadata": {},
     "output_type": "execute_result"
    }
   ],
   "source": [
    "# Business mindmap\n",
    "Image('img/mind_map_hypothesis.png')"
   ]
  },
  {
   "cell_type": "markdown",
   "id": "728307f4",
   "metadata": {},
   "source": [
    "## 4.2. Creating hypotheses"
   ]
  },
  {
   "cell_type": "markdown",
   "id": "fcf9719e",
   "metadata": {},
   "source": [
    "### 4.2.1. Store hypothesis"
   ]
  },
  {
   "cell_type": "markdown",
   "id": "3f0b2de9",
   "metadata": {},
   "source": [
    "**1.** Stores with more employees should sell more.\n",
    "\n",
    "**2.** Stores with more stock capacity should sell more.\n",
    "\n",
    "**3.** Larger stores should sell more.\n",
    "\n",
    "**4.** Stores with a larger assortment should sell more.\n",
    "\n",
    "**5.** Stores with closer competitors should sell less.\n",
    "\n",
    "**6.** Stores with longer-term competitors should sell more."
   ]
  },
  {
   "cell_type": "markdown",
   "id": "6f026ff8",
   "metadata": {},
   "source": [
    "### 4.2.2. Product hypothesis"
   ]
  },
  {
   "cell_type": "markdown",
   "id": "97c4d160",
   "metadata": {},
   "source": [
    "**1.** Stores that invest more in Marketing should sell more.\n",
    "\n",
    "**2.** Stores with more product exposure should sell more.\n",
    "\n",
    "**3.** Stores with products at a lower price should sell more.\n",
    "\n",
    "**4.** Stores with more aggressive promotions (bigger discounts) should sell more.\n",
    "\n",
    "**5.** Stores with promotions active for longer should sell more.\n",
    "\n",
    "**6.** Stores with more promotion days should sell more.\n",
    "\n",
    "**7.** Stores with more consecutive promotions should sell more."
   ]
  },
  {
   "cell_type": "markdown",
   "id": "2ed65323",
   "metadata": {},
   "source": [
    "### 4.2.3. Temporal hypothesis"
   ]
  },
  {
   "cell_type": "markdown",
   "id": "a2852a58",
   "metadata": {},
   "source": [
    "**1.** Stores openning during the Christmas holiday should sell more.\n",
    "\n",
    "**2.** Stores should sell more over the years.\n",
    "\n",
    "**3.** Stores should sell more in the second half of the year.\n",
    "\n",
    "**4.** Stores should sell more after the 10th of each month.\n",
    "\n",
    "**5.** Stores should sell less on weekends.\n",
    "\n",
    "**6.** Stores should sell less during school holidays."
   ]
  },
  {
   "cell_type": "markdown",
   "id": "c202e846",
   "metadata": {},
   "source": [
    "## 4.3. Final hypothesis list"
   ]
  },
  {
   "cell_type": "markdown",
   "id": "2bcb850d",
   "metadata": {},
   "source": [
    "The criterion used here is if we have the data to answer the hypothesis. On the other hand, if we don't have them, we could ask for another sector of the company to get the new data, like marketing for example.\n",
    "\n",
    "Basically, we analyse the data that we have now."
   ]
  },
  {
   "cell_type": "markdown",
   "id": "ef39ddcf",
   "metadata": {},
   "source": [
    "**1.** Stores with a larger assortment should sell more.\n",
    "\n",
    "**2.** Stores with closer competitors should sell less.\n",
    "\n",
    "**3.** Stores with longer-term competitors should sell more."
   ]
  },
  {
   "cell_type": "markdown",
   "id": "8a752b50",
   "metadata": {},
   "source": [
    "**4.** Stores with promotions active for longer should sell more.\n",
    "\n",
    "**5.** Stores with more promotion days should sell more.\n",
    "\n",
    "**6.** Stores with more consecutive promotions should sell more."
   ]
  },
  {
   "cell_type": "markdown",
   "id": "1fa50d06",
   "metadata": {},
   "source": [
    "**7.** Stores openning during the Christmas holiday should sell more.\n",
    "\n",
    "**8.** Stores should sell more over the years.\n",
    "\n",
    "**9.** Stores should sell more in the second half of the year.\n",
    "\n",
    "**10.** Stores should sell more after the 10th of each month.\n",
    "\n",
    "**11.** Stores should sell less on weekends.\n",
    "\n",
    "**12.** Stores should sell less during school holidays."
   ]
  },
  {
   "cell_type": "markdown",
   "id": "72bc62e7",
   "metadata": {},
   "source": [
    "## 4.4. Creating features"
   ]
  },
  {
   "cell_type": "code",
   "execution_count": 153,
   "id": "a2fa9f49",
   "metadata": {
    "ExecuteTime": {
     "end_time": "2021-08-12T18:35:55.816094Z",
     "start_time": "2021-08-12T18:35:44.552093Z"
    },
    "code_folding": []
   },
   "outputs": [],
   "source": [
    "# Year\n",
    "df['year'] = df['date'].dt.year\n",
    "\n",
    "# Month\n",
    "df['month'] = df['date'].dt.month\n",
    "\n",
    "# Day\n",
    "df['day'] = df['date'].dt.day\n",
    "\n",
    "# Week of year\n",
    "df['week_of_year'] = df['date'].dt.isocalendar().week.astype('int64')\n",
    "\n",
    "# Year week\n",
    "df['year_week'] = df['date'].dt.strftime('%Y-%W')"
   ]
  },
  {
   "cell_type": "code",
   "execution_count": 127,
   "id": "9fe48335",
   "metadata": {
    "ExecuteTime": {
     "end_time": "2021-08-12T17:12:50.853836Z",
     "start_time": "2021-08-12T17:11:23.656822Z"
    }
   },
   "outputs": [],
   "source": [
    "# Competition since (\"Year-Month-01\" format)\n",
    "df['competition_since'] = df.apply(lambda x: datetime.datetime(year=x['competition_open_since_year'], \n",
    "                                  month=x['competition_open_since_month'], \n",
    "                                  day=1), axis=1)\n",
    "\n",
    "# Competition time month\n",
    "## First we catch the number of months between the competition_since and the \"current\" date\n",
    "## Next we apply the dt.days method to catch the \"number of days\", i.e. the number of months\n",
    "## Finally we transform that datetime number in \"int64\"\n",
    "df['competition_time_month'] = ((df['date'] - df['competition_since'])/30).apply(lambda x: x.days).astype('int64')\n",
    "\n",
    "# Promo since (\"Year-Month-1\" format)\n",
    "df['promo_since'] = df['promo2_since_year'].astype(str) + '-' + df['promo2_since_week'].astype(str) # str transformation\n",
    "df['promo_since'] = df['promo_since'].apply(lambda x: datetime.datetime.strptime(x + '-1', '%Y-%W-%w') - datetime.timedelta(days=7)) # datetime transformation\n",
    "\n",
    "# Promo time week (analogous to competition_time_month creation)\n",
    "df['promo_time_week'] = ((df['date'] - df['promo_since'])/7).apply(lambda x: x.days).astype('int64')"
   ]
  },
  {
   "cell_type": "code",
   "execution_count": 128,
   "id": "ed62aa70",
   "metadata": {
    "ExecuteTime": {
     "end_time": "2021-08-12T17:12:51.347828Z",
     "start_time": "2021-08-12T17:12:50.855824Z"
    }
   },
   "outputs": [],
   "source": [
    "# Renaming the columns below\n",
    "## Assortment (a = basic | b = extra | c = extended)\n",
    "df['assortment'] = df['assortment'].apply(lambda x: 'basic' if x == 'a' else 'extra' if x == 'b' else 'extended')\n",
    "\n",
    "## State Holiday (a = Public holiday | b = Easter holiday | c = Christmas | 0 = Regular day)\n",
    "df['state_holiday'] = df['state_holiday'].apply(lambda x: 'public_holiday' if x == 'a' else 'easter_holiday' if x == 'b' else 'christmas' if x == 'c' else 'regular_day')"
   ]
  },
  {
   "cell_type": "code",
   "execution_count": 129,
   "id": "11daf7da",
   "metadata": {
    "ExecuteTime": {
     "end_time": "2021-08-12T17:12:51.379820Z",
     "start_time": "2021-08-12T17:12:51.349832Z"
    },
    "hide_input": true,
    "scrolled": false
   },
   "outputs": [
    {
     "data": {
      "text/html": [
       "<div>\n",
       "<style scoped>\n",
       "    .dataframe tbody tr th:only-of-type {\n",
       "        vertical-align: middle;\n",
       "    }\n",
       "\n",
       "    .dataframe tbody tr th {\n",
       "        vertical-align: top;\n",
       "    }\n",
       "\n",
       "    .dataframe thead th {\n",
       "        text-align: right;\n",
       "    }\n",
       "</style>\n",
       "<table border=\"1\" class=\"dataframe\">\n",
       "  <thead>\n",
       "    <tr style=\"text-align: right;\">\n",
       "      <th></th>\n",
       "      <th>0</th>\n",
       "      <th>1</th>\n",
       "      <th>2</th>\n",
       "      <th>3</th>\n",
       "      <th>4</th>\n",
       "    </tr>\n",
       "  </thead>\n",
       "  <tbody>\n",
       "    <tr>\n",
       "      <th>store</th>\n",
       "      <td>1</td>\n",
       "      <td>2</td>\n",
       "      <td>3</td>\n",
       "      <td>4</td>\n",
       "      <td>5</td>\n",
       "    </tr>\n",
       "    <tr>\n",
       "      <th>day_of_week</th>\n",
       "      <td>5</td>\n",
       "      <td>5</td>\n",
       "      <td>5</td>\n",
       "      <td>5</td>\n",
       "      <td>5</td>\n",
       "    </tr>\n",
       "    <tr>\n",
       "      <th>date</th>\n",
       "      <td>2015-07-31 00:00:00</td>\n",
       "      <td>2015-07-31 00:00:00</td>\n",
       "      <td>2015-07-31 00:00:00</td>\n",
       "      <td>2015-07-31 00:00:00</td>\n",
       "      <td>2015-07-31 00:00:00</td>\n",
       "    </tr>\n",
       "    <tr>\n",
       "      <th>sales</th>\n",
       "      <td>5263</td>\n",
       "      <td>6064</td>\n",
       "      <td>8314</td>\n",
       "      <td>13995</td>\n",
       "      <td>4822</td>\n",
       "    </tr>\n",
       "    <tr>\n",
       "      <th>customers</th>\n",
       "      <td>555</td>\n",
       "      <td>625</td>\n",
       "      <td>821</td>\n",
       "      <td>1498</td>\n",
       "      <td>559</td>\n",
       "    </tr>\n",
       "    <tr>\n",
       "      <th>open</th>\n",
       "      <td>1</td>\n",
       "      <td>1</td>\n",
       "      <td>1</td>\n",
       "      <td>1</td>\n",
       "      <td>1</td>\n",
       "    </tr>\n",
       "    <tr>\n",
       "      <th>promo</th>\n",
       "      <td>1</td>\n",
       "      <td>1</td>\n",
       "      <td>1</td>\n",
       "      <td>1</td>\n",
       "      <td>1</td>\n",
       "    </tr>\n",
       "    <tr>\n",
       "      <th>state_holiday</th>\n",
       "      <td>regular_day</td>\n",
       "      <td>regular_day</td>\n",
       "      <td>regular_day</td>\n",
       "      <td>regular_day</td>\n",
       "      <td>regular_day</td>\n",
       "    </tr>\n",
       "    <tr>\n",
       "      <th>school_holiday</th>\n",
       "      <td>1</td>\n",
       "      <td>1</td>\n",
       "      <td>1</td>\n",
       "      <td>1</td>\n",
       "      <td>1</td>\n",
       "    </tr>\n",
       "    <tr>\n",
       "      <th>store_type</th>\n",
       "      <td>c</td>\n",
       "      <td>a</td>\n",
       "      <td>a</td>\n",
       "      <td>c</td>\n",
       "      <td>a</td>\n",
       "    </tr>\n",
       "    <tr>\n",
       "      <th>assortment</th>\n",
       "      <td>basic</td>\n",
       "      <td>basic</td>\n",
       "      <td>basic</td>\n",
       "      <td>extended</td>\n",
       "      <td>basic</td>\n",
       "    </tr>\n",
       "    <tr>\n",
       "      <th>competition_distance</th>\n",
       "      <td>1270.0</td>\n",
       "      <td>570.0</td>\n",
       "      <td>14130.0</td>\n",
       "      <td>620.0</td>\n",
       "      <td>29910.0</td>\n",
       "    </tr>\n",
       "    <tr>\n",
       "      <th>competition_open_since_month</th>\n",
       "      <td>9</td>\n",
       "      <td>11</td>\n",
       "      <td>12</td>\n",
       "      <td>9</td>\n",
       "      <td>4</td>\n",
       "    </tr>\n",
       "    <tr>\n",
       "      <th>competition_open_since_year</th>\n",
       "      <td>2008</td>\n",
       "      <td>2007</td>\n",
       "      <td>2006</td>\n",
       "      <td>2009</td>\n",
       "      <td>2015</td>\n",
       "    </tr>\n",
       "    <tr>\n",
       "      <th>promo2</th>\n",
       "      <td>0</td>\n",
       "      <td>1</td>\n",
       "      <td>1</td>\n",
       "      <td>0</td>\n",
       "      <td>0</td>\n",
       "    </tr>\n",
       "    <tr>\n",
       "      <th>promo2_since_week</th>\n",
       "      <td>31</td>\n",
       "      <td>13</td>\n",
       "      <td>14</td>\n",
       "      <td>31</td>\n",
       "      <td>31</td>\n",
       "    </tr>\n",
       "    <tr>\n",
       "      <th>promo2_since_year</th>\n",
       "      <td>2015</td>\n",
       "      <td>2010</td>\n",
       "      <td>2011</td>\n",
       "      <td>2015</td>\n",
       "      <td>2015</td>\n",
       "    </tr>\n",
       "    <tr>\n",
       "      <th>promo_interval</th>\n",
       "      <td>0</td>\n",
       "      <td>Jan,Apr,Jul,Oct</td>\n",
       "      <td>Jan,Apr,Jul,Oct</td>\n",
       "      <td>0</td>\n",
       "      <td>0</td>\n",
       "    </tr>\n",
       "    <tr>\n",
       "      <th>month_map</th>\n",
       "      <td>Jul</td>\n",
       "      <td>Jul</td>\n",
       "      <td>Jul</td>\n",
       "      <td>Jul</td>\n",
       "      <td>Jul</td>\n",
       "    </tr>\n",
       "    <tr>\n",
       "      <th>is_promo</th>\n",
       "      <td>0</td>\n",
       "      <td>1</td>\n",
       "      <td>1</td>\n",
       "      <td>0</td>\n",
       "      <td>0</td>\n",
       "    </tr>\n",
       "    <tr>\n",
       "      <th>year</th>\n",
       "      <td>2015</td>\n",
       "      <td>2015</td>\n",
       "      <td>2015</td>\n",
       "      <td>2015</td>\n",
       "      <td>2015</td>\n",
       "    </tr>\n",
       "    <tr>\n",
       "      <th>month</th>\n",
       "      <td>7</td>\n",
       "      <td>7</td>\n",
       "      <td>7</td>\n",
       "      <td>7</td>\n",
       "      <td>7</td>\n",
       "    </tr>\n",
       "    <tr>\n",
       "      <th>day</th>\n",
       "      <td>31</td>\n",
       "      <td>31</td>\n",
       "      <td>31</td>\n",
       "      <td>31</td>\n",
       "      <td>31</td>\n",
       "    </tr>\n",
       "    <tr>\n",
       "      <th>week_of_year</th>\n",
       "      <td>31</td>\n",
       "      <td>31</td>\n",
       "      <td>31</td>\n",
       "      <td>31</td>\n",
       "      <td>31</td>\n",
       "    </tr>\n",
       "    <tr>\n",
       "      <th>year_week</th>\n",
       "      <td>2015-30</td>\n",
       "      <td>2015-30</td>\n",
       "      <td>2015-30</td>\n",
       "      <td>2015-30</td>\n",
       "      <td>2015-30</td>\n",
       "    </tr>\n",
       "    <tr>\n",
       "      <th>competition_since</th>\n",
       "      <td>2008-09-01 00:00:00</td>\n",
       "      <td>2007-11-01 00:00:00</td>\n",
       "      <td>2006-12-01 00:00:00</td>\n",
       "      <td>2009-09-01 00:00:00</td>\n",
       "      <td>2015-04-01 00:00:00</td>\n",
       "    </tr>\n",
       "    <tr>\n",
       "      <th>competition_time_month</th>\n",
       "      <td>84</td>\n",
       "      <td>94</td>\n",
       "      <td>105</td>\n",
       "      <td>71</td>\n",
       "      <td>4</td>\n",
       "    </tr>\n",
       "    <tr>\n",
       "      <th>promo_since</th>\n",
       "      <td>2015-07-27 00:00:00</td>\n",
       "      <td>2010-03-22 00:00:00</td>\n",
       "      <td>2011-03-28 00:00:00</td>\n",
       "      <td>2015-07-27 00:00:00</td>\n",
       "      <td>2015-07-27 00:00:00</td>\n",
       "    </tr>\n",
       "    <tr>\n",
       "      <th>promo_time_week</th>\n",
       "      <td>0</td>\n",
       "      <td>279</td>\n",
       "      <td>226</td>\n",
       "      <td>0</td>\n",
       "      <td>0</td>\n",
       "    </tr>\n",
       "  </tbody>\n",
       "</table>\n",
       "</div>"
      ],
      "text/plain": [
       "                                                0                    1  \\\n",
       "store                                           1                    2   \n",
       "day_of_week                                     5                    5   \n",
       "date                          2015-07-31 00:00:00  2015-07-31 00:00:00   \n",
       "sales                                        5263                 6064   \n",
       "customers                                     555                  625   \n",
       "open                                            1                    1   \n",
       "promo                                           1                    1   \n",
       "state_holiday                         regular_day          regular_day   \n",
       "school_holiday                                  1                    1   \n",
       "store_type                                      c                    a   \n",
       "assortment                                  basic                basic   \n",
       "competition_distance                       1270.0                570.0   \n",
       "competition_open_since_month                    9                   11   \n",
       "competition_open_since_year                  2008                 2007   \n",
       "promo2                                          0                    1   \n",
       "promo2_since_week                              31                   13   \n",
       "promo2_since_year                            2015                 2010   \n",
       "promo_interval                                  0      Jan,Apr,Jul,Oct   \n",
       "month_map                                     Jul                  Jul   \n",
       "is_promo                                        0                    1   \n",
       "year                                         2015                 2015   \n",
       "month                                           7                    7   \n",
       "day                                            31                   31   \n",
       "week_of_year                                   31                   31   \n",
       "year_week                                 2015-30              2015-30   \n",
       "competition_since             2008-09-01 00:00:00  2007-11-01 00:00:00   \n",
       "competition_time_month                         84                   94   \n",
       "promo_since                   2015-07-27 00:00:00  2010-03-22 00:00:00   \n",
       "promo_time_week                                 0                  279   \n",
       "\n",
       "                                                2                    3  \\\n",
       "store                                           3                    4   \n",
       "day_of_week                                     5                    5   \n",
       "date                          2015-07-31 00:00:00  2015-07-31 00:00:00   \n",
       "sales                                        8314                13995   \n",
       "customers                                     821                 1498   \n",
       "open                                            1                    1   \n",
       "promo                                           1                    1   \n",
       "state_holiday                         regular_day          regular_day   \n",
       "school_holiday                                  1                    1   \n",
       "store_type                                      a                    c   \n",
       "assortment                                  basic             extended   \n",
       "competition_distance                      14130.0                620.0   \n",
       "competition_open_since_month                   12                    9   \n",
       "competition_open_since_year                  2006                 2009   \n",
       "promo2                                          1                    0   \n",
       "promo2_since_week                              14                   31   \n",
       "promo2_since_year                            2011                 2015   \n",
       "promo_interval                    Jan,Apr,Jul,Oct                    0   \n",
       "month_map                                     Jul                  Jul   \n",
       "is_promo                                        1                    0   \n",
       "year                                         2015                 2015   \n",
       "month                                           7                    7   \n",
       "day                                            31                   31   \n",
       "week_of_year                                   31                   31   \n",
       "year_week                                 2015-30              2015-30   \n",
       "competition_since             2006-12-01 00:00:00  2009-09-01 00:00:00   \n",
       "competition_time_month                        105                   71   \n",
       "promo_since                   2011-03-28 00:00:00  2015-07-27 00:00:00   \n",
       "promo_time_week                               226                    0   \n",
       "\n",
       "                                                4  \n",
       "store                                           5  \n",
       "day_of_week                                     5  \n",
       "date                          2015-07-31 00:00:00  \n",
       "sales                                        4822  \n",
       "customers                                     559  \n",
       "open                                            1  \n",
       "promo                                           1  \n",
       "state_holiday                         regular_day  \n",
       "school_holiday                                  1  \n",
       "store_type                                      a  \n",
       "assortment                                  basic  \n",
       "competition_distance                      29910.0  \n",
       "competition_open_since_month                    4  \n",
       "competition_open_since_year                  2015  \n",
       "promo2                                          0  \n",
       "promo2_since_week                              31  \n",
       "promo2_since_year                            2015  \n",
       "promo_interval                                  0  \n",
       "month_map                                     Jul  \n",
       "is_promo                                        0  \n",
       "year                                         2015  \n",
       "month                                           7  \n",
       "day                                            31  \n",
       "week_of_year                                   31  \n",
       "year_week                                 2015-30  \n",
       "competition_since             2015-04-01 00:00:00  \n",
       "competition_time_month                          4  \n",
       "promo_since                   2015-07-27 00:00:00  \n",
       "promo_time_week                                 0  "
      ]
     },
     "execution_count": 129,
     "metadata": {},
     "output_type": "execute_result"
    }
   ],
   "source": [
    "# Checking the new dataframe\n",
    "df.head().T"
   ]
  },
  {
   "cell_type": "markdown",
   "id": "5f2f4f4f",
   "metadata": {},
   "source": [
    "# 5. Variables Filtering\n",
    "---"
   ]
  },
  {
   "cell_type": "markdown",
   "id": "6f484ae5",
   "metadata": {},
   "source": [
    "Think with me, some variables we aren't going to have at the time of the sales prediction, it's a Business question!\n",
    "\n",
    "We can put on the list:\n",
    "- `customers`: we don't have this information on the future, so we can't put this on the algorithm.\n",
    "- `open`: is this really necessary? If the store is closed (0), there aren't sales! But, on the other hand, we want the lines with `open` == 1. So, we only have to exclude the lines with `open` == 0 and after, exclude this variable.\n",
    "- `sales`: only sales above 0 are really necessary!\n",
    "- `promo_interval` and `month_map` we already have used this variable, to create others. But for the current moment, we don't need them!\n",
    "\n",
    "Therefore, we have to filter these features!"
   ]
  },
  {
   "cell_type": "markdown",
   "id": "2765ea32",
   "metadata": {},
   "source": [
    "## 5.1. Lines Filtering"
   ]
  },
  {
   "cell_type": "code",
   "execution_count": 130,
   "id": "a53a7448",
   "metadata": {
    "ExecuteTime": {
     "end_time": "2021-08-12T17:12:51.650836Z",
     "start_time": "2021-08-12T17:12:51.381819Z"
    }
   },
   "outputs": [],
   "source": [
    "# Filtering open and sales conditions\n",
    "df = df[(df['open'] != 0) & (df['sales'] > 0)]"
   ]
  },
  {
   "cell_type": "markdown",
   "id": "6410f453",
   "metadata": {},
   "source": [
    "## 5.2. Columns Filtering"
   ]
  },
  {
   "cell_type": "code",
   "execution_count": 131,
   "id": "131f3ded",
   "metadata": {
    "ExecuteTime": {
     "end_time": "2021-08-12T17:12:51.762824Z",
     "start_time": "2021-08-12T17:12:51.652825Z"
    }
   },
   "outputs": [],
   "source": [
    "# Fitering open, customers, promo_interval and month_map columns\n",
    "wanted_cols = ['open', 'customers', 'promo_interval', 'month_map']\n",
    "df = df.drop(wanted_cols, axis=1)"
   ]
  },
  {
   "cell_type": "code",
   "execution_count": 132,
   "id": "ff4ed6a4",
   "metadata": {
    "ExecuteTime": {
     "end_time": "2021-08-12T17:12:51.778820Z",
     "start_time": "2021-08-12T17:12:51.764820Z"
    }
   },
   "outputs": [
    {
     "name": "stdout",
     "output_type": "stream",
     "text": [
      "Index(['store', 'day_of_week', 'date', 'sales', 'promo', 'state_holiday',\n",
      "       'school_holiday', 'store_type', 'assortment', 'competition_distance',\n",
      "       'competition_open_since_month', 'competition_open_since_year', 'promo2',\n",
      "       'promo2_since_week', 'promo2_since_year', 'is_promo', 'year', 'month',\n",
      "       'day', 'week_of_year', 'year_week', 'competition_since',\n",
      "       'competition_time_month', 'promo_since', 'promo_time_week'],\n",
      "      dtype='object')\n"
     ]
    }
   ],
   "source": [
    "# Checking the dataframe columns\n",
    "print(df.columns)"
   ]
  },
  {
   "cell_type": "markdown",
   "id": "4a07ce5e",
   "metadata": {},
   "source": [
    "# 6. Exploratory Data Analysis (EDA)\n",
    "---"
   ]
  },
  {
   "cell_type": "markdown",
   "id": "ab16b9f0",
   "metadata": {},
   "source": [
    "## 6.1. Univariate analysis"
   ]
  },
  {
   "cell_type": "markdown",
   "id": "fa93b486",
   "metadata": {},
   "source": [
    "### 6.1.1. Response variable"
   ]
  },
  {
   "cell_type": "code",
   "execution_count": 133,
   "id": "91ab7919",
   "metadata": {
    "ExecuteTime": {
     "end_time": "2021-08-12T17:12:53.199821Z",
     "start_time": "2021-08-12T17:12:51.781823Z"
    },
    "hide_input": true,
    "scrolled": false
   },
   "outputs": [
    {
     "data": {
      "image/png": "[encoded data removed]",
      "text/plain": [
       "<Figure size 1152x576 with 1 Axes>"
      ]
     },
     "metadata": {},
     "output_type": "display_data"
    }
   ],
   "source": [
    "# Showing the stores sales count on a given day distribution\n",
    "show_histplot('sales', df, \n",
    "              'Stores sales count on a given day', \n",
    "              'Sales', False)"
   ]
  },
  {
   "cell_type": "markdown",
   "id": "94bdf320",
   "metadata": {},
   "source": [
    "Like we already said, the distribution looks like a **normal curve**, if we don't consider the zeros values."
   ]
  },
  {
   "cell_type": "markdown",
   "id": "d6feec45",
   "metadata": {},
   "source": [
    "### 6.1.2. Numerical variables"
   ]
  },
  {
   "cell_type": "code",
   "execution_count": 156,
   "id": "a368e675",
   "metadata": {
    "ExecuteTime": {
     "end_time": "2021-08-12T18:36:22.835814Z",
     "start_time": "2021-08-12T18:36:22.664798Z"
    }
   },
   "outputs": [],
   "source": [
    "# Redefining the numerical and categorical dfs\n",
    "num_attributes, cat_attributes = get_num_cat_vars(df)"
   ]
  },
  {
   "cell_type": "code",
   "execution_count": 159,
   "id": "b2d8cdf1",
   "metadata": {
    "ExecuteTime": {
     "end_time": "2021-08-12T18:36:52.663686Z",
     "start_time": "2021-08-12T18:36:48.320690Z"
    },
    "hide_input": true,
    "scrolled": false
   },
   "outputs": [
    {
     "name": "stderr",
     "output_type": "stream",
     "text": [
      "<ipython-input-159-fcf18f996a5f>:3: UserWarning: To output multiple subplots, the figure containing the passed axes is being cleared\n",
      "  num_attributes.hist(ax=ax, bins=25);\n"
     ]
    },
    {
     "data": {
      "image/png": "[encoded data removed]",
      "text/plain": [
       "<Figure size 1152x1440 with 20 Axes>"
      ]
     },
     "metadata": {},
     "output_type": "display_data"
    }
   ],
   "source": [
    "# Plotting all the histograms\n",
    "fig, ax = plt.subplots(figsize=(16, 20))\n",
    "num_attributes.hist(ax=ax, bins=25);"
   ]
  },
  {
   "cell_type": "markdown",
   "id": "83bdec1c",
   "metadata": {},
   "source": [
    "- Most stores were not affected by the closing of public schools.\n",
    "- Most stores have a nearest competitor.\n",
    "- The month in which the most store competitors opened was September, and in the second place is April.\n",
    "- There is a high number of stores that started the `promo2` from 2013 onwards. Furthermore, the weeks of the year close to the fifteenth were the ones with the most stores in `promo2`.\n",
    "- On this dataset, there are more store sales registered between January and July.\n",
    "- From the day histogram, it looks that we have a pattern in store sales.\n",
    "- Most stores have had 0 weeks since `promo2` started."
   ]
  },
  {
   "cell_type": "markdown",
   "id": "a0cab6e8",
   "metadata": {},
   "source": [
    "### 6.1.3. Categorical variables"
   ]
  },
  {
   "cell_type": "code",
   "execution_count": 157,
   "id": "120b6bf3",
   "metadata": {
    "ExecuteTime": {
     "end_time": "2021-08-12T18:36:26.208720Z",
     "start_time": "2021-08-12T18:36:26.201720Z"
    }
   },
   "outputs": [
    {
     "name": "stdout",
     "output_type": "stream",
     "text": [
      "Index(['state_holiday', 'store_type', 'assortment', 'year_week'], dtype='object')\n"
     ]
    }
   ],
   "source": [
    "# Looking what are the categorical variables\n",
    "print(cat_attributes.columns)"
   ]
  },
  {
   "cell_type": "code",
   "execution_count": 147,
   "id": "70933778",
   "metadata": {
    "ExecuteTime": {
     "end_time": "2021-08-12T17:52:52.789949Z",
     "start_time": "2021-08-12T17:52:52.374953Z"
    },
    "hide_input": true
   },
   "outputs": [
    {
     "data": {
      "image/png": "[encoded data removed]",
      "text/plain": [
       "<Figure size 1152x576 with 2 Axes>"
      ]
     },
     "metadata": {},
     "output_type": "display_data"
    }
   ],
   "source": [
    "# state_holiday (without the regular_day)\n",
    "aux_df = df[df['state_holiday'] != 'regular_day']\n",
    "plot_countplot_and_sales_kdeplot('state_holiday', aux_df)"
   ]
  },
  {
   "cell_type": "markdown",
   "id": "fefe0bbe",
   "metadata": {},
   "source": [
    "- Public holiday has the higher count of sales.\n",
    "- Easter holiday has the higher dispersion of sales data, comparing to Public holiday and Christmas.\n",
    "\n",
    "The volume and dispersion of sales are very different comparing the State holidays. So, this variable is going to be important for our ML model.\n",
    "\n",
    "**Note:** I'm not considering the regular day because it is the majority, making it difficult to see the days that are holidays."
   ]
  },
  {
   "cell_type": "code",
   "execution_count": 148,
   "id": "9911c8a3",
   "metadata": {
    "ExecuteTime": {
     "end_time": "2021-08-12T17:53:03.381413Z",
     "start_time": "2021-08-12T17:52:55.830414Z"
    },
    "code_folding": [],
    "hide_input": true
   },
   "outputs": [
    {
     "data": {
      "image/png": "[encoded data removed]",
      "text/plain": [
       "<Figure size 1152x576 with 2 Axes>"
      ]
     },
     "metadata": {},
     "output_type": "display_data"
    }
   ],
   "source": [
    "# store_type\n",
    "plot_countplot_and_sales_kdeplot('store_type', df)"
   ]
  },
  {
   "cell_type": "markdown",
   "id": "b54f0c38",
   "metadata": {},
   "source": [
    "- \"a\" type has the higher count of sales.\n",
    "- The sales count of the different types is very diverse.\n",
    "- The dispersion of the \"a\", \"c\" and \"d\" are similar. The only different between these types are the heights of the peak on the density function.\n",
    "- The higher dispersion is on \"b\" type. But, we have to remember that \"b\" has the lower count of sales, so, this is expected.\n",
    "\n",
    "Again, this variable should probably be important for our models."
   ]
  },
  {
   "cell_type": "code",
   "execution_count": 149,
   "id": "c426efca",
   "metadata": {
    "ExecuteTime": {
     "end_time": "2021-08-12T18:14:54.917818Z",
     "start_time": "2021-08-12T18:14:47.298818Z"
    },
    "hide_input": true
   },
   "outputs": [
    {
     "data": {
      "image/png": "[encoded data removed]",
      "text/plain": [
       "<Figure size 1152x576 with 2 Axes>"
      ]
     },
     "metadata": {},
     "output_type": "display_data"
    }
   ],
   "source": [
    "# assortment\n",
    "plot_countplot_and_sales_kdeplot('assortment', df)"
   ]
  },
  {
   "cell_type": "markdown",
   "id": "905e54ea",
   "metadata": {},
   "source": [
    "- \"basic\" and \"extended\" types have similar count of sales. On the other hand, \"extra\" type has lower quantity of sales.\n",
    "- The sales distribution of \"basic\" and \"extended\" are similar, while \"extra\" type have a lower peak and a higher dispersion.\n",
    "\n",
    "Again, this variable should probably be important for our models."
   ]
  },
  {
   "cell_type": "markdown",
   "id": "bd725208",
   "metadata": {},
   "source": [
    "## 6.2. Bivariate analysis"
   ]
  },
  {
   "cell_type": "markdown",
   "id": "1aa97277",
   "metadata": {},
   "source": [
    "## 6.3. Multivariate analysis"
   ]
  }
 ],
 "metadata": {
  "kernelspec": {
   "display_name": "Python 3",
   "language": "python",
   "name": "python3"
  },
  "language_info": {
   "codemirror_mode": {
    "name": "ipython",
    "version": 3
   },
   "file_extension": ".py",
   "mimetype": "text/x-python",
   "name": "python",
   "nbconvert_exporter": "python",
   "pygments_lexer": "ipython3",
   "version": "3.8.11"
  },
  "varInspector": {
   "cols": {
    "lenName": 16,
    "lenType": 16,
    "lenVar": 40
   },
   "kernels_config": {
    "python": {
     "delete_cmd_postfix": "",
     "delete_cmd_prefix": "del ",
     "library": "var_list.py",
     "varRefreshCmd": "print(var_dic_list())"
    },
    "r": {
     "delete_cmd_postfix": ") ",
     "delete_cmd_prefix": "rm(",
     "library": "var_list.r",
     "varRefreshCmd": "cat(var_dic_list()) "
    }
   },
   "types_to_exclude": [
    "module",
    "function",
    "builtin_function_or_method",
    "instance",
    "_Feature"
   ],
   "window_display": false
  }
 },
 "nbformat": 4,
 "nbformat_minor": 5
}
