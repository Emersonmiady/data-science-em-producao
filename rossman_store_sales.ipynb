{
 "cells": [
  {
   "cell_type": "markdown",
   "id": "079be2c8",
   "metadata": {
    "heading_collapsed": true
   },
   "source": [
    "# 1. Business problem\n",
    "---"
   ]
  },
  {
   "cell_type": "markdown",
   "id": "5b49270d",
   "metadata": {
    "hidden": true
   },
   "source": [
    "## 1.1. Context"
   ]
  },
  {
   "cell_type": "markdown",
   "id": "aa2b61fe",
   "metadata": {
    "hidden": true
   },
   "source": [
    "The company's CFO held a meeting with all store managers and asked each of them to bring a daily forecast for the next 6 weeks of sales.\n",
    "\n",
    "After this meeting, all managers contacted you, requesting a sales forecast for your store.\n",
    "\n",
    "**Note:** The data was made available [here](https://www.kaggle.com/c/rossmann-store-sales)."
   ]
  },
  {
   "cell_type": "markdown",
   "id": "f7f996b4",
   "metadata": {
    "hidden": true
   },
   "source": [
    "## 1.2. Understanding the problem"
   ]
  },
  {
   "cell_type": "markdown",
   "id": "99fbaf2a",
   "metadata": {
    "hidden": true
   },
   "source": [
    "### 1.2.1. Motivation"
   ]
  },
  {
   "cell_type": "markdown",
   "id": "70bc15bd",
   "metadata": {
    "hidden": true
   },
   "source": [
    "The CFO requested this solution during a monthly results meeting."
   ]
  },
  {
   "cell_type": "markdown",
   "id": "4c76a6ce",
   "metadata": {
    "hidden": true
   },
   "source": [
    "### 1.2.2. Root cause of the problem"
   ]
  },
  {
   "cell_type": "markdown",
   "id": "0f0ffe65",
   "metadata": {
    "hidden": true
   },
   "source": [
    "Difficulty in determining the investment value for renovations in each store."
   ]
  },
  {
   "cell_type": "markdown",
   "id": "3dece205",
   "metadata": {
    "hidden": true
   },
   "source": [
    "### 1.2.3. Who is the Stakeholder"
   ]
  },
  {
   "cell_type": "markdown",
   "id": "2aa1d3ee",
   "metadata": {
    "hidden": true
   },
   "source": [
    "The CFO."
   ]
  },
  {
   "cell_type": "markdown",
   "id": "0264b57d",
   "metadata": {
    "hidden": true
   },
   "source": [
    "### 1.2.4. Solution format"
   ]
  },
  {
   "cell_type": "markdown",
   "id": "4440a344",
   "metadata": {
    "hidden": true
   },
   "source": [
    "- Granularity and problem type: daily sales forecast in cash for the next 6 weeks;\n",
    "- Potential resolution methods: Time Series, Regression, Neural Networks;\n",
    "- Delivery format:\n",
    "    1. The total sales amount at the end of 6 weeks;\n",
    "    2. Possibility of checking the value by cell phone."
   ]
  },
  {
   "cell_type": "markdown",
   "id": "d8d96fe4",
   "metadata": {},
   "source": [
    "# 2. Imports\n",
    "---"
   ]
  },
  {
   "cell_type": "markdown",
   "id": "ad5b01fd",
   "metadata": {},
   "source": [
    "## 2.1. Libraries"
   ]
  },
  {
   "cell_type": "code",
   "execution_count": 36,
   "id": "0a6d0bb6",
   "metadata": {
    "ExecuteTime": {
     "end_time": "2021-08-07T20:16:45.690742Z",
     "start_time": "2021-08-07T20:16:45.668742Z"
    }
   },
   "outputs": [],
   "source": [
    "import math\n",
    "import pandas as pd\n",
    "import inflection\n",
    "import matplotlib.pyplot as plt\n",
    "import seaborn as sns\n",
    "from IPython.display import Image\n",
    "\n",
    "plt.style.use('ggplot')\n",
    "%matplotlib inline"
   ]
  },
  {
   "cell_type": "markdown",
   "id": "7db52da3",
   "metadata": {},
   "source": [
    "## 2.2. Helper Functions"
   ]
  },
  {
   "cell_type": "code",
   "execution_count": 2,
   "id": "b0532e63",
   "metadata": {
    "ExecuteTime": {
     "end_time": "2021-08-07T17:46:18.252654Z",
     "start_time": "2021-08-07T17:46:18.238654Z"
    }
   },
   "outputs": [],
   "source": [
    "def change_cols_to_snake_case(df):\n",
    "    '''\n",
    "    Change a list of columns of dataframe from \n",
    "    camel case to snake case.\n",
    "    This function returns the modified dataframe.\n",
    "    '''\n",
    "    cols = df.columns\n",
    "    snake_case = lambda x: inflection.underscore(x)\n",
    "    new_cols = list(map(snake_case, cols))\n",
    "    df.columns = new_cols\n",
    "    return df\n",
    "\n",
    "def check_nan_on_df_columns(df):\n",
    "    '''\n",
    "    Only check the NaN values on\n",
    "    the dataframe columns.\n",
    "    '''\n",
    "    print(df.isna().sum())\n",
    "    return None\n",
    "\n",
    "def fillout_nan_on_col_with(time, col, df):\n",
    "    '''\n",
    "    According to \"date\" column on dataframe, this function fills NaN on certain attribute with\n",
    "    the wanted time type. The time should be \"year\", \"month\" or \"week\".\n",
    "    The function returns the modified dataframe.\n",
    "    '''\n",
    "    if time == 'year':\n",
    "        df[col] = df.apply(lambda x: x['date'].year if math.isnan(x[col]) else x[col], axis=1)\n",
    "        return df\n",
    "    elif time == 'month':\n",
    "        df[col] = df.apply(lambda x: x['date'].month if math.isnan(x[col]) else x[col], axis=1)\n",
    "        return df\n",
    "    elif time == 'week':\n",
    "        df[col] = df.apply(lambda x: x['date'].week if math.isnan(x[col]) else x[col], axis=1)\n",
    "        return df\n",
    "    else:\n",
    "        print('Unrecognized time...')\n",
    "        return None\n",
    "    \n",
    "def show_histplot(x, data, title=None, xlabel=None):\n",
    "    '''\n",
    "    Show the histplot, given a x, data, \n",
    "    title and x label values.\n",
    "    '''\n",
    "    plt.figure(figsize=(16, 8))\n",
    "    sns.histplot(x=x, data=data, kde=True)\n",
    "    plt.title(title)\n",
    "    plt.xlabel(xlabel)\n",
    "    plt.show()"
   ]
  },
  {
   "cell_type": "markdown",
   "id": "9bde99c4",
   "metadata": {},
   "source": [
    "## 2.3. Loading Data"
   ]
  },
  {
   "cell_type": "code",
   "execution_count": 3,
   "id": "fe290367",
   "metadata": {
    "ExecuteTime": {
     "end_time": "2021-08-07T17:46:19.004654Z",
     "start_time": "2021-08-07T17:46:18.256656Z"
    }
   },
   "outputs": [
    {
     "data": {
      "text/html": [
       "<div>\n",
       "<style scoped>\n",
       "    .dataframe tbody tr th:only-of-type {\n",
       "        vertical-align: middle;\n",
       "    }\n",
       "\n",
       "    .dataframe tbody tr th {\n",
       "        vertical-align: top;\n",
       "    }\n",
       "\n",
       "    .dataframe thead th {\n",
       "        text-align: right;\n",
       "    }\n",
       "</style>\n",
       "<table border=\"1\" class=\"dataframe\">\n",
       "  <thead>\n",
       "    <tr style=\"text-align: right;\">\n",
       "      <th></th>\n",
       "      <th>Store</th>\n",
       "      <th>DayOfWeek</th>\n",
       "      <th>Date</th>\n",
       "      <th>Sales</th>\n",
       "      <th>Customers</th>\n",
       "      <th>Open</th>\n",
       "      <th>Promo</th>\n",
       "      <th>StateHoliday</th>\n",
       "      <th>SchoolHoliday</th>\n",
       "    </tr>\n",
       "  </thead>\n",
       "  <tbody>\n",
       "    <tr>\n",
       "      <th>0</th>\n",
       "      <td>1</td>\n",
       "      <td>5</td>\n",
       "      <td>2015-07-31</td>\n",
       "      <td>5263</td>\n",
       "      <td>555</td>\n",
       "      <td>1</td>\n",
       "      <td>1</td>\n",
       "      <td>0</td>\n",
       "      <td>1</td>\n",
       "    </tr>\n",
       "    <tr>\n",
       "      <th>1</th>\n",
       "      <td>2</td>\n",
       "      <td>5</td>\n",
       "      <td>2015-07-31</td>\n",
       "      <td>6064</td>\n",
       "      <td>625</td>\n",
       "      <td>1</td>\n",
       "      <td>1</td>\n",
       "      <td>0</td>\n",
       "      <td>1</td>\n",
       "    </tr>\n",
       "    <tr>\n",
       "      <th>2</th>\n",
       "      <td>3</td>\n",
       "      <td>5</td>\n",
       "      <td>2015-07-31</td>\n",
       "      <td>8314</td>\n",
       "      <td>821</td>\n",
       "      <td>1</td>\n",
       "      <td>1</td>\n",
       "      <td>0</td>\n",
       "      <td>1</td>\n",
       "    </tr>\n",
       "    <tr>\n",
       "      <th>3</th>\n",
       "      <td>4</td>\n",
       "      <td>5</td>\n",
       "      <td>2015-07-31</td>\n",
       "      <td>13995</td>\n",
       "      <td>1498</td>\n",
       "      <td>1</td>\n",
       "      <td>1</td>\n",
       "      <td>0</td>\n",
       "      <td>1</td>\n",
       "    </tr>\n",
       "    <tr>\n",
       "      <th>4</th>\n",
       "      <td>5</td>\n",
       "      <td>5</td>\n",
       "      <td>2015-07-31</td>\n",
       "      <td>4822</td>\n",
       "      <td>559</td>\n",
       "      <td>1</td>\n",
       "      <td>1</td>\n",
       "      <td>0</td>\n",
       "      <td>1</td>\n",
       "    </tr>\n",
       "  </tbody>\n",
       "</table>\n",
       "</div>"
      ],
      "text/plain": [
       "   Store  DayOfWeek        Date  Sales  Customers  Open  Promo StateHoliday  \\\n",
       "0      1          5  2015-07-31   5263        555     1      1            0   \n",
       "1      2          5  2015-07-31   6064        625     1      1            0   \n",
       "2      3          5  2015-07-31   8314        821     1      1            0   \n",
       "3      4          5  2015-07-31  13995       1498     1      1            0   \n",
       "4      5          5  2015-07-31   4822        559     1      1            0   \n",
       "\n",
       "   SchoolHoliday  \n",
       "0              1  \n",
       "1              1  \n",
       "2              1  \n",
       "3              1  \n",
       "4              1  "
      ]
     },
     "metadata": {},
     "output_type": "display_data"
    }
   ],
   "source": [
    "# Loading the sales df\n",
    "df_sales = pd.read_csv('data/train.csv', low_memory=False)\n",
    "display(df_sales.head())"
   ]
  },
  {
   "cell_type": "code",
   "execution_count": 4,
   "id": "a34c0fd3",
   "metadata": {
    "ExecuteTime": {
     "end_time": "2021-08-07T17:46:19.036655Z",
     "start_time": "2021-08-07T17:46:19.006654Z"
    }
   },
   "outputs": [
    {
     "data": {
      "text/html": [
       "<div>\n",
       "<style scoped>\n",
       "    .dataframe tbody tr th:only-of-type {\n",
       "        vertical-align: middle;\n",
       "    }\n",
       "\n",
       "    .dataframe tbody tr th {\n",
       "        vertical-align: top;\n",
       "    }\n",
       "\n",
       "    .dataframe thead th {\n",
       "        text-align: right;\n",
       "    }\n",
       "</style>\n",
       "<table border=\"1\" class=\"dataframe\">\n",
       "  <thead>\n",
       "    <tr style=\"text-align: right;\">\n",
       "      <th></th>\n",
       "      <th>Store</th>\n",
       "      <th>StoreType</th>\n",
       "      <th>Assortment</th>\n",
       "      <th>CompetitionDistance</th>\n",
       "      <th>CompetitionOpenSinceMonth</th>\n",
       "      <th>CompetitionOpenSinceYear</th>\n",
       "      <th>Promo2</th>\n",
       "      <th>Promo2SinceWeek</th>\n",
       "      <th>Promo2SinceYear</th>\n",
       "      <th>PromoInterval</th>\n",
       "    </tr>\n",
       "  </thead>\n",
       "  <tbody>\n",
       "    <tr>\n",
       "      <th>0</th>\n",
       "      <td>1</td>\n",
       "      <td>c</td>\n",
       "      <td>a</td>\n",
       "      <td>1270.0</td>\n",
       "      <td>9.0</td>\n",
       "      <td>2008.0</td>\n",
       "      <td>0</td>\n",
       "      <td>NaN</td>\n",
       "      <td>NaN</td>\n",
       "      <td>NaN</td>\n",
       "    </tr>\n",
       "    <tr>\n",
       "      <th>1</th>\n",
       "      <td>2</td>\n",
       "      <td>a</td>\n",
       "      <td>a</td>\n",
       "      <td>570.0</td>\n",
       "      <td>11.0</td>\n",
       "      <td>2007.0</td>\n",
       "      <td>1</td>\n",
       "      <td>13.0</td>\n",
       "      <td>2010.0</td>\n",
       "      <td>Jan,Apr,Jul,Oct</td>\n",
       "    </tr>\n",
       "    <tr>\n",
       "      <th>2</th>\n",
       "      <td>3</td>\n",
       "      <td>a</td>\n",
       "      <td>a</td>\n",
       "      <td>14130.0</td>\n",
       "      <td>12.0</td>\n",
       "      <td>2006.0</td>\n",
       "      <td>1</td>\n",
       "      <td>14.0</td>\n",
       "      <td>2011.0</td>\n",
       "      <td>Jan,Apr,Jul,Oct</td>\n",
       "    </tr>\n",
       "    <tr>\n",
       "      <th>3</th>\n",
       "      <td>4</td>\n",
       "      <td>c</td>\n",
       "      <td>c</td>\n",
       "      <td>620.0</td>\n",
       "      <td>9.0</td>\n",
       "      <td>2009.0</td>\n",
       "      <td>0</td>\n",
       "      <td>NaN</td>\n",
       "      <td>NaN</td>\n",
       "      <td>NaN</td>\n",
       "    </tr>\n",
       "    <tr>\n",
       "      <th>4</th>\n",
       "      <td>5</td>\n",
       "      <td>a</td>\n",
       "      <td>a</td>\n",
       "      <td>29910.0</td>\n",
       "      <td>4.0</td>\n",
       "      <td>2015.0</td>\n",
       "      <td>0</td>\n",
       "      <td>NaN</td>\n",
       "      <td>NaN</td>\n",
       "      <td>NaN</td>\n",
       "    </tr>\n",
       "  </tbody>\n",
       "</table>\n",
       "</div>"
      ],
      "text/plain": [
       "   Store StoreType Assortment  CompetitionDistance  CompetitionOpenSinceMonth  \\\n",
       "0      1         c          a               1270.0                        9.0   \n",
       "1      2         a          a                570.0                       11.0   \n",
       "2      3         a          a              14130.0                       12.0   \n",
       "3      4         c          c                620.0                        9.0   \n",
       "4      5         a          a              29910.0                        4.0   \n",
       "\n",
       "   CompetitionOpenSinceYear  Promo2  Promo2SinceWeek  Promo2SinceYear  \\\n",
       "0                    2008.0       0              NaN              NaN   \n",
       "1                    2007.0       1             13.0           2010.0   \n",
       "2                    2006.0       1             14.0           2011.0   \n",
       "3                    2009.0       0              NaN              NaN   \n",
       "4                    2015.0       0              NaN              NaN   \n",
       "\n",
       "     PromoInterval  \n",
       "0              NaN  \n",
       "1  Jan,Apr,Jul,Oct  \n",
       "2  Jan,Apr,Jul,Oct  \n",
       "3              NaN  \n",
       "4              NaN  "
      ]
     },
     "metadata": {},
     "output_type": "display_data"
    }
   ],
   "source": [
    "# Loading the store df\n",
    "df_store = pd.read_csv('data/store.csv', low_memory=False)\n",
    "display(df_store.head())"
   ]
  },
  {
   "cell_type": "code",
   "execution_count": 5,
   "id": "114aa2c8",
   "metadata": {
    "ExecuteTime": {
     "end_time": "2021-08-07T17:46:19.593653Z",
     "start_time": "2021-08-07T17:46:19.037654Z"
    }
   },
   "outputs": [
    {
     "data": {
      "text/html": [
       "<div>\n",
       "<style scoped>\n",
       "    .dataframe tbody tr th:only-of-type {\n",
       "        vertical-align: middle;\n",
       "    }\n",
       "\n",
       "    .dataframe tbody tr th {\n",
       "        vertical-align: top;\n",
       "    }\n",
       "\n",
       "    .dataframe thead th {\n",
       "        text-align: right;\n",
       "    }\n",
       "</style>\n",
       "<table border=\"1\" class=\"dataframe\">\n",
       "  <thead>\n",
       "    <tr style=\"text-align: right;\">\n",
       "      <th></th>\n",
       "      <th>Store</th>\n",
       "      <th>DayOfWeek</th>\n",
       "      <th>Date</th>\n",
       "      <th>Sales</th>\n",
       "      <th>Customers</th>\n",
       "      <th>Open</th>\n",
       "      <th>Promo</th>\n",
       "      <th>StateHoliday</th>\n",
       "      <th>SchoolHoliday</th>\n",
       "      <th>StoreType</th>\n",
       "      <th>Assortment</th>\n",
       "      <th>CompetitionDistance</th>\n",
       "      <th>CompetitionOpenSinceMonth</th>\n",
       "      <th>CompetitionOpenSinceYear</th>\n",
       "      <th>Promo2</th>\n",
       "      <th>Promo2SinceWeek</th>\n",
       "      <th>Promo2SinceYear</th>\n",
       "      <th>PromoInterval</th>\n",
       "    </tr>\n",
       "  </thead>\n",
       "  <tbody>\n",
       "    <tr>\n",
       "      <th>0</th>\n",
       "      <td>1</td>\n",
       "      <td>5</td>\n",
       "      <td>2015-07-31</td>\n",
       "      <td>5263</td>\n",
       "      <td>555</td>\n",
       "      <td>1</td>\n",
       "      <td>1</td>\n",
       "      <td>0</td>\n",
       "      <td>1</td>\n",
       "      <td>c</td>\n",
       "      <td>a</td>\n",
       "      <td>1270.0</td>\n",
       "      <td>9.0</td>\n",
       "      <td>2008.0</td>\n",
       "      <td>0</td>\n",
       "      <td>NaN</td>\n",
       "      <td>NaN</td>\n",
       "      <td>NaN</td>\n",
       "    </tr>\n",
       "    <tr>\n",
       "      <th>1</th>\n",
       "      <td>2</td>\n",
       "      <td>5</td>\n",
       "      <td>2015-07-31</td>\n",
       "      <td>6064</td>\n",
       "      <td>625</td>\n",
       "      <td>1</td>\n",
       "      <td>1</td>\n",
       "      <td>0</td>\n",
       "      <td>1</td>\n",
       "      <td>a</td>\n",
       "      <td>a</td>\n",
       "      <td>570.0</td>\n",
       "      <td>11.0</td>\n",
       "      <td>2007.0</td>\n",
       "      <td>1</td>\n",
       "      <td>13.0</td>\n",
       "      <td>2010.0</td>\n",
       "      <td>Jan,Apr,Jul,Oct</td>\n",
       "    </tr>\n",
       "    <tr>\n",
       "      <th>2</th>\n",
       "      <td>3</td>\n",
       "      <td>5</td>\n",
       "      <td>2015-07-31</td>\n",
       "      <td>8314</td>\n",
       "      <td>821</td>\n",
       "      <td>1</td>\n",
       "      <td>1</td>\n",
       "      <td>0</td>\n",
       "      <td>1</td>\n",
       "      <td>a</td>\n",
       "      <td>a</td>\n",
       "      <td>14130.0</td>\n",
       "      <td>12.0</td>\n",
       "      <td>2006.0</td>\n",
       "      <td>1</td>\n",
       "      <td>14.0</td>\n",
       "      <td>2011.0</td>\n",
       "      <td>Jan,Apr,Jul,Oct</td>\n",
       "    </tr>\n",
       "    <tr>\n",
       "      <th>3</th>\n",
       "      <td>4</td>\n",
       "      <td>5</td>\n",
       "      <td>2015-07-31</td>\n",
       "      <td>13995</td>\n",
       "      <td>1498</td>\n",
       "      <td>1</td>\n",
       "      <td>1</td>\n",
       "      <td>0</td>\n",
       "      <td>1</td>\n",
       "      <td>c</td>\n",
       "      <td>c</td>\n",
       "      <td>620.0</td>\n",
       "      <td>9.0</td>\n",
       "      <td>2009.0</td>\n",
       "      <td>0</td>\n",
       "      <td>NaN</td>\n",
       "      <td>NaN</td>\n",
       "      <td>NaN</td>\n",
       "    </tr>\n",
       "    <tr>\n",
       "      <th>4</th>\n",
       "      <td>5</td>\n",
       "      <td>5</td>\n",
       "      <td>2015-07-31</td>\n",
       "      <td>4822</td>\n",
       "      <td>559</td>\n",
       "      <td>1</td>\n",
       "      <td>1</td>\n",
       "      <td>0</td>\n",
       "      <td>1</td>\n",
       "      <td>a</td>\n",
       "      <td>a</td>\n",
       "      <td>29910.0</td>\n",
       "      <td>4.0</td>\n",
       "      <td>2015.0</td>\n",
       "      <td>0</td>\n",
       "      <td>NaN</td>\n",
       "      <td>NaN</td>\n",
       "      <td>NaN</td>\n",
       "    </tr>\n",
       "  </tbody>\n",
       "</table>\n",
       "</div>"
      ],
      "text/plain": [
       "   Store  DayOfWeek        Date  Sales  Customers  Open  Promo StateHoliday  \\\n",
       "0      1          5  2015-07-31   5263        555     1      1            0   \n",
       "1      2          5  2015-07-31   6064        625     1      1            0   \n",
       "2      3          5  2015-07-31   8314        821     1      1            0   \n",
       "3      4          5  2015-07-31  13995       1498     1      1            0   \n",
       "4      5          5  2015-07-31   4822        559     1      1            0   \n",
       "\n",
       "   SchoolHoliday StoreType Assortment  CompetitionDistance  \\\n",
       "0              1         c          a               1270.0   \n",
       "1              1         a          a                570.0   \n",
       "2              1         a          a              14130.0   \n",
       "3              1         c          c                620.0   \n",
       "4              1         a          a              29910.0   \n",
       "\n",
       "   CompetitionOpenSinceMonth  CompetitionOpenSinceYear  Promo2  \\\n",
       "0                        9.0                    2008.0       0   \n",
       "1                       11.0                    2007.0       1   \n",
       "2                       12.0                    2006.0       1   \n",
       "3                        9.0                    2009.0       0   \n",
       "4                        4.0                    2015.0       0   \n",
       "\n",
       "   Promo2SinceWeek  Promo2SinceYear    PromoInterval  \n",
       "0              NaN              NaN              NaN  \n",
       "1             13.0           2010.0  Jan,Apr,Jul,Oct  \n",
       "2             14.0           2011.0  Jan,Apr,Jul,Oct  \n",
       "3              NaN              NaN              NaN  \n",
       "4              NaN              NaN              NaN  "
      ]
     },
     "metadata": {},
     "output_type": "display_data"
    }
   ],
   "source": [
    "# Merging the sale and store df's\n",
    "df = pd.merge(df_sales, df_store, how='left', on='Store')\n",
    "display(df.head())"
   ]
  },
  {
   "cell_type": "markdown",
   "id": "67192c33",
   "metadata": {},
   "source": [
    "# 3. Data Description\n",
    "---"
   ]
  },
  {
   "cell_type": "markdown",
   "id": "fde3865a",
   "metadata": {},
   "source": [
    "Most of the fields are self-explanatory. The following are descriptions for those that aren't.\n",
    "\n",
    "- `Id` - an Id that represents a (Store, Date) duple within the test set.\n",
    "\n",
    "- `Store` - a unique Id for each store.\n",
    "\n",
    "- `Sales` - the turnover for any given day (this is what you are predicting).\n",
    "\n",
    "- `Customers` - the number of customers on a given day.\n",
    "\n",
    "- `Open` - an indicator for whether the store was open. \n",
    "    - 0 = closed; \n",
    "    - 1 = open.\n",
    "\n",
    "- `StateHoliday` - indicates a state holiday. Normally all stores, with few exceptions, are closed on state holidays. Note that all schools are closed on public holidays and weekends: \n",
    "    - a = public holiday;\n",
    "    - b = Easter holiday;\n",
    "    - c = Christmas;\n",
    "    - 0 = None.\n",
    "\n",
    "- `SchoolHoliday` - indicates if the (Store, Date) was affected by the closure of public schools.\n",
    "\n",
    "- `StoreType` - differentiates between 4 different store models: a, b, c, d.\n",
    "\n",
    "- `Assortment` - describes an assortment level:\n",
    "    - a = basic;\n",
    "    - b = extra;\n",
    "    - c = extended.\n",
    "\n",
    "- `CompetitionDistance` - distance in meters to the nearest competitor store.\n",
    "\n",
    "- `CompetitionOpenSince[Month/Year]` - gives the approximate year and month of the time the nearest competitor was opened.\n",
    "\n",
    "- `Promo` - indicates whether a store is running a promo on that day.\n",
    "\n",
    "- `Promo2` - Promo2 is a continuing and consecutive promotion for some stores: \n",
    "    - 0 = store is not participating;\n",
    "    - 1 = store is participating.\n",
    "\n",
    "- `Promo2Since[Year/Week]` - describes the year and calendar week when the store started participating in Promo2.\n",
    "\n",
    "- `PromoInterval` - describes the consecutive intervals Promo2 is started, naming the months the promotion is started a new. E.g. \"Feb,May,Aug,Nov\" means each round starts in February, May, August, November of any given year for that store."
   ]
  },
  {
   "cell_type": "markdown",
   "id": "df28761f",
   "metadata": {},
   "source": [
    "## 3.1. Rename Columns"
   ]
  },
  {
   "cell_type": "markdown",
   "id": "9e20cc9d",
   "metadata": {},
   "source": [
    "I'll rename the camel case columns to snake case in this section. Because my programming style is with snake case."
   ]
  },
  {
   "cell_type": "code",
   "execution_count": 6,
   "id": "cce50e74",
   "metadata": {
    "ExecuteTime": {
     "end_time": "2021-08-07T17:46:19.609656Z",
     "start_time": "2021-08-07T17:46:19.595654Z"
    }
   },
   "outputs": [
    {
     "name": "stdout",
     "output_type": "stream",
     "text": [
      "Old columns:\n",
      "Index(['Store', 'DayOfWeek', 'Date', 'Sales', 'Customers', 'Open', 'Promo',\n",
      "       'StateHoliday', 'SchoolHoliday', 'StoreType', 'Assortment',\n",
      "       'CompetitionDistance', 'CompetitionOpenSinceMonth',\n",
      "       'CompetitionOpenSinceYear', 'Promo2', 'Promo2SinceWeek',\n",
      "       'Promo2SinceYear', 'PromoInterval'],\n",
      "      dtype='object') \n",
      "\n"
     ]
    }
   ],
   "source": [
    "# Showing the old columns\n",
    "print('Old columns:')\n",
    "print(df.columns, '\\n')"
   ]
  },
  {
   "cell_type": "code",
   "execution_count": 7,
   "id": "e43bc812",
   "metadata": {
    "ExecuteTime": {
     "end_time": "2021-08-07T17:46:19.625653Z",
     "start_time": "2021-08-07T17:46:19.612657Z"
    }
   },
   "outputs": [
    {
     "name": "stdout",
     "output_type": "stream",
     "text": [
      "New columns:\n",
      "Index(['store', 'day_of_week', 'date', 'sales', 'customers', 'open', 'promo',\n",
      "       'state_holiday', 'school_holiday', 'store_type', 'assortment',\n",
      "       'competition_distance', 'competition_open_since_month',\n",
      "       'competition_open_since_year', 'promo2', 'promo2_since_week',\n",
      "       'promo2_since_year', 'promo_interval'],\n",
      "      dtype='object')\n"
     ]
    }
   ],
   "source": [
    "# Changing columns to snake case\n",
    "print('New columns:')\n",
    "df = change_cols_to_snake_case(df)\n",
    "print(df.columns)"
   ]
  },
  {
   "cell_type": "markdown",
   "id": "340fe232",
   "metadata": {},
   "source": [
    "## 3.2. Data Dimensions"
   ]
  },
  {
   "cell_type": "code",
   "execution_count": 8,
   "id": "5fa42658",
   "metadata": {
    "ExecuteTime": {
     "end_time": "2021-08-07T17:46:19.641654Z",
     "start_time": "2021-08-07T17:46:19.629659Z"
    }
   },
   "outputs": [
    {
     "name": "stdout",
     "output_type": "stream",
     "text": [
      "Number of rows: 1017209;\n",
      "Number of columns: 18.\n"
     ]
    }
   ],
   "source": [
    "print(f'Number of rows: {df.shape[0]};')\n",
    "print(f'Number of columns: {df.shape[1]}.')"
   ]
  },
  {
   "cell_type": "markdown",
   "id": "5364781d",
   "metadata": {},
   "source": [
    "## 3.3. Data Types"
   ]
  },
  {
   "cell_type": "code",
   "execution_count": 9,
   "id": "492bcc0b",
   "metadata": {
    "ExecuteTime": {
     "end_time": "2021-08-07T17:46:19.657653Z",
     "start_time": "2021-08-07T17:46:19.643654Z"
    }
   },
   "outputs": [
    {
     "name": "stdout",
     "output_type": "stream",
     "text": [
      "store                             int64\n",
      "day_of_week                       int64\n",
      "date                             object\n",
      "sales                             int64\n",
      "customers                         int64\n",
      "open                              int64\n",
      "promo                             int64\n",
      "state_holiday                    object\n",
      "school_holiday                    int64\n",
      "store_type                       object\n",
      "assortment                       object\n",
      "competition_distance            float64\n",
      "competition_open_since_month    float64\n",
      "competition_open_since_year     float64\n",
      "promo2                            int64\n",
      "promo2_since_week               float64\n",
      "promo2_since_year               float64\n",
      "promo_interval                   object\n",
      "dtype: object\n"
     ]
    }
   ],
   "source": [
    "# Original data types\n",
    "print(df.dtypes)"
   ]
  },
  {
   "cell_type": "markdown",
   "id": "d8882ce6",
   "metadata": {},
   "source": [
    "Working with datetime type rather than object is easier! So, I'll change that!"
   ]
  },
  {
   "cell_type": "code",
   "execution_count": 10,
   "id": "e1108c11",
   "metadata": {
    "ExecuteTime": {
     "end_time": "2021-08-07T17:46:19.800658Z",
     "start_time": "2021-08-07T17:46:19.659654Z"
    }
   },
   "outputs": [
    {
     "name": "stdout",
     "output_type": "stream",
     "text": [
      "store                                    int64\n",
      "day_of_week                              int64\n",
      "date                            datetime64[ns]\n",
      "sales                                    int64\n",
      "customers                                int64\n",
      "open                                     int64\n",
      "promo                                    int64\n",
      "state_holiday                           object\n",
      "school_holiday                           int64\n",
      "store_type                              object\n",
      "assortment                              object\n",
      "competition_distance                   float64\n",
      "competition_open_since_month           float64\n",
      "competition_open_since_year            float64\n",
      "promo2                                   int64\n",
      "promo2_since_week                      float64\n",
      "promo2_since_year                      float64\n",
      "promo_interval                          object\n",
      "dtype: object\n"
     ]
    }
   ],
   "source": [
    "# Changing the date type to datetime\n",
    "df['date'] = pd.to_datetime(df['date'])\n",
    "print(df.dtypes)"
   ]
  },
  {
   "cell_type": "markdown",
   "id": "d2e2bfcb",
   "metadata": {},
   "source": [
    "## 3.4. Check NaN"
   ]
  },
  {
   "cell_type": "code",
   "execution_count": 11,
   "id": "b1cae017",
   "metadata": {
    "ExecuteTime": {
     "end_time": "2021-08-07T17:46:20.006654Z",
     "start_time": "2021-08-07T17:46:19.801654Z"
    }
   },
   "outputs": [
    {
     "name": "stdout",
     "output_type": "stream",
     "text": [
      "store                                0\n",
      "day_of_week                          0\n",
      "date                                 0\n",
      "sales                                0\n",
      "customers                            0\n",
      "open                                 0\n",
      "promo                                0\n",
      "state_holiday                        0\n",
      "school_holiday                       0\n",
      "store_type                           0\n",
      "assortment                           0\n",
      "competition_distance              2642\n",
      "competition_open_since_month    323348\n",
      "competition_open_since_year     323348\n",
      "promo2                               0\n",
      "promo2_since_week               508031\n",
      "promo2_since_year               508031\n",
      "promo_interval                  508031\n",
      "dtype: int64\n"
     ]
    }
   ],
   "source": [
    "check_nan_on_df_columns(df)"
   ]
  },
  {
   "cell_type": "markdown",
   "id": "de035bc9",
   "metadata": {},
   "source": [
    "There are a lot of NaN values on the last columns. It is highly recommended to fill that lines with some number, or at least, drop them, because we need to do this to run the machine learning algorithms in the future."
   ]
  },
  {
   "cell_type": "markdown",
   "id": "ea74d653",
   "metadata": {},
   "source": [
    "## 3.5. Fill out NaN"
   ]
  },
  {
   "cell_type": "markdown",
   "id": "5aea4837",
   "metadata": {},
   "source": [
    "### 3.5.1. competition_distance"
   ]
  },
  {
   "cell_type": "markdown",
   "id": "081744a7",
   "metadata": {},
   "source": [
    "Maybe people didn't fill out this column because the distances to the nearest competitor stores aren't to be considered. In other words, the `competition_distance` of that store is too far!\n",
    "\n",
    "Therefore, we only need to replace the NaN values for huge distances. The question is, what is a \"huge distances\"? \n",
    "\n",
    "Let's see the highest value on this column."
   ]
  },
  {
   "cell_type": "code",
   "execution_count": 12,
   "id": "8a915a28",
   "metadata": {
    "ExecuteTime": {
     "end_time": "2021-08-07T17:46:20.022654Z",
     "start_time": "2021-08-07T17:46:20.008654Z"
    }
   },
   "outputs": [
    {
     "name": "stdout",
     "output_type": "stream",
     "text": [
      "The max value of this attribute is: 75860.0.\n"
     ]
    }
   ],
   "source": [
    "max_value = df['competition_distance'].max()\n",
    "print(f'The max value of this attribute is: {max_value}.')"
   ]
  },
  {
   "cell_type": "markdown",
   "id": "a1d222c4",
   "metadata": {},
   "source": [
    "So, we only need to replace the NaN for a huge distance, like... **200,000.0**."
   ]
  },
  {
   "cell_type": "code",
   "execution_count": 13,
   "id": "624e9f65",
   "metadata": {
    "ExecuteTime": {
     "end_time": "2021-08-07T17:46:20.564657Z",
     "start_time": "2021-08-07T17:46:20.025656Z"
    }
   },
   "outputs": [
    {
     "name": "stdout",
     "output_type": "stream",
     "text": [
      "store                                0\n",
      "day_of_week                          0\n",
      "date                                 0\n",
      "sales                                0\n",
      "customers                            0\n",
      "open                                 0\n",
      "promo                                0\n",
      "state_holiday                        0\n",
      "school_holiday                       0\n",
      "store_type                           0\n",
      "assortment                           0\n",
      "competition_distance                 0\n",
      "competition_open_since_month    323348\n",
      "competition_open_since_year     323348\n",
      "promo2                               0\n",
      "promo2_since_week               508031\n",
      "promo2_since_year               508031\n",
      "promo_interval                  508031\n",
      "dtype: int64\n"
     ]
    }
   ],
   "source": [
    "df['competition_distance'] = df['competition_distance'].apply(lambda x: 200000.0 if math.isnan(x) else x)\n",
    "check_nan_on_df_columns(df)"
   ]
  },
  {
   "cell_type": "markdown",
   "id": "462135ac",
   "metadata": {},
   "source": [
    "### 3.5.2. competition_open_since_month"
   ]
  },
  {
   "cell_type": "markdown",
   "id": "1c015488",
   "metadata": {},
   "source": [
    "Why this column has NaN? There are two reasons that I suppose:\n",
    "\n",
    "1. The store doesn't have a nearest competitor, so there isn't an opening date;\n",
    "\n",
    "2. There is a nearest competitor, but we don't know when is the opening date.\n",
    "\n",
    "My solution to fill NaN on this column is to work with the actual month. I don't want to exclude this variable because it seems to be important to our analysis and maybe for machine learning algorithms..."
   ]
  },
  {
   "cell_type": "code",
   "execution_count": 14,
   "id": "ac890410",
   "metadata": {
    "ExecuteTime": {
     "end_time": "2021-08-07T17:46:48.945676Z",
     "start_time": "2021-08-07T17:46:20.566654Z"
    }
   },
   "outputs": [],
   "source": [
    "df = fillout_nan_on_col_with('month', 'competition_open_since_month', df)"
   ]
  },
  {
   "cell_type": "markdown",
   "id": "b3544f9f",
   "metadata": {},
   "source": [
    "### 3.5.3. competition_open_since_year"
   ]
  },
  {
   "cell_type": "markdown",
   "id": "969749e8",
   "metadata": {},
   "source": [
    "The same logic above I'll apply to this attribute."
   ]
  },
  {
   "cell_type": "code",
   "execution_count": 15,
   "id": "8dc422ac",
   "metadata": {
    "ExecuteTime": {
     "end_time": "2021-08-07T17:47:17.639657Z",
     "start_time": "2021-08-07T17:46:48.947655Z"
    }
   },
   "outputs": [],
   "source": [
    "df = fillout_nan_on_col_with('year', 'competition_open_since_year', df)"
   ]
  },
  {
   "cell_type": "code",
   "execution_count": 16,
   "id": "5d8ca9f2",
   "metadata": {
    "ExecuteTime": {
     "end_time": "2021-08-07T17:47:17.863655Z",
     "start_time": "2021-08-07T17:47:17.641655Z"
    }
   },
   "outputs": [
    {
     "name": "stdout",
     "output_type": "stream",
     "text": [
      "store                                0\n",
      "day_of_week                          0\n",
      "date                                 0\n",
      "sales                                0\n",
      "customers                            0\n",
      "open                                 0\n",
      "promo                                0\n",
      "state_holiday                        0\n",
      "school_holiday                       0\n",
      "store_type                           0\n",
      "assortment                           0\n",
      "competition_distance                 0\n",
      "competition_open_since_month         0\n",
      "competition_open_since_year          0\n",
      "promo2                               0\n",
      "promo2_since_week               508031\n",
      "promo2_since_year               508031\n",
      "promo_interval                  508031\n",
      "dtype: int64\n"
     ]
    }
   ],
   "source": [
    "# Checking if we did it right\n",
    "check_nan_on_df_columns(df)"
   ]
  },
  {
   "cell_type": "markdown",
   "id": "e79c0fd3",
   "metadata": {},
   "source": [
    "Yep, we did it!"
   ]
  },
  {
   "cell_type": "markdown",
   "id": "bd870757",
   "metadata": {},
   "source": [
    "### 3.5.4. promo2_since_week"
   ]
  },
  {
   "cell_type": "markdown",
   "id": "f549b33f",
   "metadata": {},
   "source": [
    "If the value is NaN on this column, it's because the store has not decided to participate on promo2. So, we don't know exactily what value to replace in this case, as well as the variables above!\n",
    "\n",
    "Therefore, I'll replace the NaN with the current week, like the variables above."
   ]
  },
  {
   "cell_type": "code",
   "execution_count": 17,
   "id": "4933f58f",
   "metadata": {
    "ExecuteTime": {
     "end_time": "2021-08-07T17:47:46.624654Z",
     "start_time": "2021-08-07T17:47:17.865654Z"
    }
   },
   "outputs": [],
   "source": [
    "df = fillout_nan_on_col_with('week', 'promo2_since_week', df)"
   ]
  },
  {
   "cell_type": "markdown",
   "id": "fddb2503",
   "metadata": {},
   "source": [
    "### 3.5.5. promo2_since_year"
   ]
  },
  {
   "cell_type": "markdown",
   "id": "ad3a9029",
   "metadata": {},
   "source": [
    "The same logic above I'll apply to this attribute."
   ]
  },
  {
   "cell_type": "code",
   "execution_count": 18,
   "id": "141a1f55",
   "metadata": {
    "ExecuteTime": {
     "end_time": "2021-08-07T17:48:14.929658Z",
     "start_time": "2021-08-07T17:47:46.625654Z"
    }
   },
   "outputs": [],
   "source": [
    "df = fillout_nan_on_col_with('year', 'promo2_since_year', df)"
   ]
  },
  {
   "cell_type": "code",
   "execution_count": 19,
   "id": "dc0fe2e4",
   "metadata": {
    "ExecuteTime": {
     "end_time": "2021-08-07T17:48:15.137661Z",
     "start_time": "2021-08-07T17:48:14.931654Z"
    }
   },
   "outputs": [
    {
     "name": "stdout",
     "output_type": "stream",
     "text": [
      "store                                0\n",
      "day_of_week                          0\n",
      "date                                 0\n",
      "sales                                0\n",
      "customers                            0\n",
      "open                                 0\n",
      "promo                                0\n",
      "state_holiday                        0\n",
      "school_holiday                       0\n",
      "store_type                           0\n",
      "assortment                           0\n",
      "competition_distance                 0\n",
      "competition_open_since_month         0\n",
      "competition_open_since_year          0\n",
      "promo2                               0\n",
      "promo2_since_week                    0\n",
      "promo2_since_year                    0\n",
      "promo_interval                  508031\n",
      "dtype: int64\n"
     ]
    }
   ],
   "source": [
    "# Checking if we did it right\n",
    "check_nan_on_df_columns(df)"
   ]
  },
  {
   "cell_type": "markdown",
   "id": "5fdcf348",
   "metadata": {},
   "source": [
    "### 3.5.6. promo_interval"
   ]
  },
  {
   "cell_type": "markdown",
   "id": "e20ba8b6",
   "metadata": {},
   "source": [
    "To fill NaN values on this column, I think the best option is to replace with zeros. That is because maybe the promo2 doesn't exist for that store, so we don't have any `promo_interval`!"
   ]
  },
  {
   "cell_type": "code",
   "execution_count": 20,
   "id": "e80f64eb",
   "metadata": {
    "ExecuteTime": {
     "end_time": "2021-08-07T17:48:15.201653Z",
     "start_time": "2021-08-07T17:48:15.139654Z"
    }
   },
   "outputs": [],
   "source": [
    "df['promo_interval'].fillna(0, inplace=True)"
   ]
  },
  {
   "cell_type": "code",
   "execution_count": 21,
   "id": "53fca6d0",
   "metadata": {
    "ExecuteTime": {
     "end_time": "2021-08-07T17:48:15.409664Z",
     "start_time": "2021-08-07T17:48:15.203655Z"
    }
   },
   "outputs": [
    {
     "name": "stdout",
     "output_type": "stream",
     "text": [
      "store                           0\n",
      "day_of_week                     0\n",
      "date                            0\n",
      "sales                           0\n",
      "customers                       0\n",
      "open                            0\n",
      "promo                           0\n",
      "state_holiday                   0\n",
      "school_holiday                  0\n",
      "store_type                      0\n",
      "assortment                      0\n",
      "competition_distance            0\n",
      "competition_open_since_month    0\n",
      "competition_open_since_year     0\n",
      "promo2                          0\n",
      "promo2_since_week               0\n",
      "promo2_since_year               0\n",
      "promo_interval                  0\n",
      "dtype: int64\n"
     ]
    }
   ],
   "source": [
    "# Checking if we did it right\n",
    "check_nan_on_df_columns(df)"
   ]
  },
  {
   "cell_type": "markdown",
   "id": "14fb1497",
   "metadata": {},
   "source": [
    "Okay, we're almost done.\n",
    "\n",
    "Look at the variable `promo_interval`. Maybe we can create another variable based on that, like if the current month of the store is on promo2! So, we can create an attribute called `is_promo` to signal this fact."
   ]
  },
  {
   "cell_type": "code",
   "execution_count": 22,
   "id": "f371d9ce",
   "metadata": {
    "ExecuteTime": {
     "end_time": "2021-08-07T17:48:15.552652Z",
     "start_time": "2021-08-07T17:48:15.411654Z"
    }
   },
   "outputs": [
    {
     "data": {
      "text/html": [
       "<div>\n",
       "<style scoped>\n",
       "    .dataframe tbody tr th:only-of-type {\n",
       "        vertical-align: middle;\n",
       "    }\n",
       "\n",
       "    .dataframe tbody tr th {\n",
       "        vertical-align: top;\n",
       "    }\n",
       "\n",
       "    .dataframe thead th {\n",
       "        text-align: right;\n",
       "    }\n",
       "</style>\n",
       "<table border=\"1\" class=\"dataframe\">\n",
       "  <thead>\n",
       "    <tr style=\"text-align: right;\">\n",
       "      <th></th>\n",
       "      <th>store</th>\n",
       "      <th>day_of_week</th>\n",
       "      <th>date</th>\n",
       "      <th>sales</th>\n",
       "      <th>customers</th>\n",
       "      <th>open</th>\n",
       "      <th>promo</th>\n",
       "      <th>state_holiday</th>\n",
       "      <th>school_holiday</th>\n",
       "      <th>store_type</th>\n",
       "      <th>assortment</th>\n",
       "      <th>competition_distance</th>\n",
       "      <th>competition_open_since_month</th>\n",
       "      <th>competition_open_since_year</th>\n",
       "      <th>promo2</th>\n",
       "      <th>promo2_since_week</th>\n",
       "      <th>promo2_since_year</th>\n",
       "      <th>promo_interval</th>\n",
       "      <th>month_map</th>\n",
       "    </tr>\n",
       "  </thead>\n",
       "  <tbody>\n",
       "    <tr>\n",
       "      <th>0</th>\n",
       "      <td>1</td>\n",
       "      <td>5</td>\n",
       "      <td>2015-07-31</td>\n",
       "      <td>5263</td>\n",
       "      <td>555</td>\n",
       "      <td>1</td>\n",
       "      <td>1</td>\n",
       "      <td>0</td>\n",
       "      <td>1</td>\n",
       "      <td>c</td>\n",
       "      <td>a</td>\n",
       "      <td>1270.0</td>\n",
       "      <td>9.0</td>\n",
       "      <td>2008.0</td>\n",
       "      <td>0</td>\n",
       "      <td>31.0</td>\n",
       "      <td>2015.0</td>\n",
       "      <td>0</td>\n",
       "      <td>Jul</td>\n",
       "    </tr>\n",
       "    <tr>\n",
       "      <th>1</th>\n",
       "      <td>2</td>\n",
       "      <td>5</td>\n",
       "      <td>2015-07-31</td>\n",
       "      <td>6064</td>\n",
       "      <td>625</td>\n",
       "      <td>1</td>\n",
       "      <td>1</td>\n",
       "      <td>0</td>\n",
       "      <td>1</td>\n",
       "      <td>a</td>\n",
       "      <td>a</td>\n",
       "      <td>570.0</td>\n",
       "      <td>11.0</td>\n",
       "      <td>2007.0</td>\n",
       "      <td>1</td>\n",
       "      <td>13.0</td>\n",
       "      <td>2010.0</td>\n",
       "      <td>Jan,Apr,Jul,Oct</td>\n",
       "      <td>Jul</td>\n",
       "    </tr>\n",
       "    <tr>\n",
       "      <th>2</th>\n",
       "      <td>3</td>\n",
       "      <td>5</td>\n",
       "      <td>2015-07-31</td>\n",
       "      <td>8314</td>\n",
       "      <td>821</td>\n",
       "      <td>1</td>\n",
       "      <td>1</td>\n",
       "      <td>0</td>\n",
       "      <td>1</td>\n",
       "      <td>a</td>\n",
       "      <td>a</td>\n",
       "      <td>14130.0</td>\n",
       "      <td>12.0</td>\n",
       "      <td>2006.0</td>\n",
       "      <td>1</td>\n",
       "      <td>14.0</td>\n",
       "      <td>2011.0</td>\n",
       "      <td>Jan,Apr,Jul,Oct</td>\n",
       "      <td>Jul</td>\n",
       "    </tr>\n",
       "    <tr>\n",
       "      <th>3</th>\n",
       "      <td>4</td>\n",
       "      <td>5</td>\n",
       "      <td>2015-07-31</td>\n",
       "      <td>13995</td>\n",
       "      <td>1498</td>\n",
       "      <td>1</td>\n",
       "      <td>1</td>\n",
       "      <td>0</td>\n",
       "      <td>1</td>\n",
       "      <td>c</td>\n",
       "      <td>c</td>\n",
       "      <td>620.0</td>\n",
       "      <td>9.0</td>\n",
       "      <td>2009.0</td>\n",
       "      <td>0</td>\n",
       "      <td>31.0</td>\n",
       "      <td>2015.0</td>\n",
       "      <td>0</td>\n",
       "      <td>Jul</td>\n",
       "    </tr>\n",
       "    <tr>\n",
       "      <th>4</th>\n",
       "      <td>5</td>\n",
       "      <td>5</td>\n",
       "      <td>2015-07-31</td>\n",
       "      <td>4822</td>\n",
       "      <td>559</td>\n",
       "      <td>1</td>\n",
       "      <td>1</td>\n",
       "      <td>0</td>\n",
       "      <td>1</td>\n",
       "      <td>a</td>\n",
       "      <td>a</td>\n",
       "      <td>29910.0</td>\n",
       "      <td>4.0</td>\n",
       "      <td>2015.0</td>\n",
       "      <td>0</td>\n",
       "      <td>31.0</td>\n",
       "      <td>2015.0</td>\n",
       "      <td>0</td>\n",
       "      <td>Jul</td>\n",
       "    </tr>\n",
       "  </tbody>\n",
       "</table>\n",
       "</div>"
      ],
      "text/plain": [
       "   store  day_of_week       date  sales  customers  open  promo state_holiday  \\\n",
       "0      1            5 2015-07-31   5263        555     1      1             0   \n",
       "1      2            5 2015-07-31   6064        625     1      1             0   \n",
       "2      3            5 2015-07-31   8314        821     1      1             0   \n",
       "3      4            5 2015-07-31  13995       1498     1      1             0   \n",
       "4      5            5 2015-07-31   4822        559     1      1             0   \n",
       "\n",
       "   school_holiday store_type assortment  competition_distance  \\\n",
       "0               1          c          a                1270.0   \n",
       "1               1          a          a                 570.0   \n",
       "2               1          a          a               14130.0   \n",
       "3               1          c          c                 620.0   \n",
       "4               1          a          a               29910.0   \n",
       "\n",
       "   competition_open_since_month  competition_open_since_year  promo2  \\\n",
       "0                           9.0                       2008.0       0   \n",
       "1                          11.0                       2007.0       1   \n",
       "2                          12.0                       2006.0       1   \n",
       "3                           9.0                       2009.0       0   \n",
       "4                           4.0                       2015.0       0   \n",
       "\n",
       "   promo2_since_week  promo2_since_year   promo_interval month_map  \n",
       "0               31.0             2015.0                0       Jul  \n",
       "1               13.0             2010.0  Jan,Apr,Jul,Oct       Jul  \n",
       "2               14.0             2011.0  Jan,Apr,Jul,Oct       Jul  \n",
       "3               31.0             2015.0                0       Jul  \n",
       "4               31.0             2015.0                0       Jul  "
      ]
     },
     "execution_count": 22,
     "metadata": {},
     "output_type": "execute_result"
    }
   ],
   "source": [
    "# Mapping the current number of the month to 3 first letter of the month\n",
    "month_map = {1 : 'Jan', 2 : 'Feb', 3 : 'Mar', 4 : 'Apr',\n",
    "             5 : 'May', 6 : 'Jun', 7 : 'Jul', 8 : 'Aug',\n",
    "             9 : 'Sep', 10 : 'Oct', 11 : 'Nov', 12 : 'Dec'}\n",
    "\n",
    "# Creating the month_map column, based on the map dict created above\n",
    "df['month_map'] = df['date'].dt.month.map(month_map)\n",
    "df.head()"
   ]
  },
  {
   "cell_type": "code",
   "execution_count": 23,
   "id": "96ec099d",
   "metadata": {
    "ExecuteTime": {
     "end_time": "2021-08-07T17:48:44.473661Z",
     "start_time": "2021-08-07T17:48:15.559653Z"
    }
   },
   "outputs": [],
   "source": [
    "# Creating the is_promo column\n",
    "## If the promo_interval is 0, then do nothing\n",
    "## Else the promo_interval has a string, then verify if the month_map is on that string\n",
    "df['is_promo'] = df.apply(lambda x: 0 if x['promo_interval'] == 0 else 1 if x['month_map'] in x['promo_interval'].split(',') else 0, axis=1)"
   ]
  },
  {
   "cell_type": "code",
   "execution_count": 24,
   "id": "e5c4d3a4",
   "metadata": {
    "ExecuteTime": {
     "end_time": "2021-08-07T17:48:44.505654Z",
     "start_time": "2021-08-07T17:48:44.477654Z"
    },
    "scrolled": true
   },
   "outputs": [
    {
     "data": {
      "text/html": [
       "<div>\n",
       "<style scoped>\n",
       "    .dataframe tbody tr th:only-of-type {\n",
       "        vertical-align: middle;\n",
       "    }\n",
       "\n",
       "    .dataframe tbody tr th {\n",
       "        vertical-align: top;\n",
       "    }\n",
       "\n",
       "    .dataframe thead th {\n",
       "        text-align: right;\n",
       "    }\n",
       "</style>\n",
       "<table border=\"1\" class=\"dataframe\">\n",
       "  <thead>\n",
       "    <tr style=\"text-align: right;\">\n",
       "      <th></th>\n",
       "      <th>store</th>\n",
       "      <th>day_of_week</th>\n",
       "      <th>date</th>\n",
       "      <th>sales</th>\n",
       "      <th>customers</th>\n",
       "      <th>open</th>\n",
       "      <th>promo</th>\n",
       "      <th>state_holiday</th>\n",
       "      <th>school_holiday</th>\n",
       "      <th>store_type</th>\n",
       "      <th>assortment</th>\n",
       "      <th>competition_distance</th>\n",
       "      <th>competition_open_since_month</th>\n",
       "      <th>competition_open_since_year</th>\n",
       "      <th>promo2</th>\n",
       "      <th>promo2_since_week</th>\n",
       "      <th>promo2_since_year</th>\n",
       "      <th>promo_interval</th>\n",
       "      <th>month_map</th>\n",
       "      <th>is_promo</th>\n",
       "    </tr>\n",
       "  </thead>\n",
       "  <tbody>\n",
       "    <tr>\n",
       "      <th>0</th>\n",
       "      <td>1</td>\n",
       "      <td>5</td>\n",
       "      <td>2015-07-31</td>\n",
       "      <td>5263</td>\n",
       "      <td>555</td>\n",
       "      <td>1</td>\n",
       "      <td>1</td>\n",
       "      <td>0</td>\n",
       "      <td>1</td>\n",
       "      <td>c</td>\n",
       "      <td>a</td>\n",
       "      <td>1270.0</td>\n",
       "      <td>9.0</td>\n",
       "      <td>2008.0</td>\n",
       "      <td>0</td>\n",
       "      <td>31.0</td>\n",
       "      <td>2015.0</td>\n",
       "      <td>0</td>\n",
       "      <td>Jul</td>\n",
       "      <td>0</td>\n",
       "    </tr>\n",
       "    <tr>\n",
       "      <th>1</th>\n",
       "      <td>2</td>\n",
       "      <td>5</td>\n",
       "      <td>2015-07-31</td>\n",
       "      <td>6064</td>\n",
       "      <td>625</td>\n",
       "      <td>1</td>\n",
       "      <td>1</td>\n",
       "      <td>0</td>\n",
       "      <td>1</td>\n",
       "      <td>a</td>\n",
       "      <td>a</td>\n",
       "      <td>570.0</td>\n",
       "      <td>11.0</td>\n",
       "      <td>2007.0</td>\n",
       "      <td>1</td>\n",
       "      <td>13.0</td>\n",
       "      <td>2010.0</td>\n",
       "      <td>Jan,Apr,Jul,Oct</td>\n",
       "      <td>Jul</td>\n",
       "      <td>1</td>\n",
       "    </tr>\n",
       "    <tr>\n",
       "      <th>2</th>\n",
       "      <td>3</td>\n",
       "      <td>5</td>\n",
       "      <td>2015-07-31</td>\n",
       "      <td>8314</td>\n",
       "      <td>821</td>\n",
       "      <td>1</td>\n",
       "      <td>1</td>\n",
       "      <td>0</td>\n",
       "      <td>1</td>\n",
       "      <td>a</td>\n",
       "      <td>a</td>\n",
       "      <td>14130.0</td>\n",
       "      <td>12.0</td>\n",
       "      <td>2006.0</td>\n",
       "      <td>1</td>\n",
       "      <td>14.0</td>\n",
       "      <td>2011.0</td>\n",
       "      <td>Jan,Apr,Jul,Oct</td>\n",
       "      <td>Jul</td>\n",
       "      <td>1</td>\n",
       "    </tr>\n",
       "    <tr>\n",
       "      <th>3</th>\n",
       "      <td>4</td>\n",
       "      <td>5</td>\n",
       "      <td>2015-07-31</td>\n",
       "      <td>13995</td>\n",
       "      <td>1498</td>\n",
       "      <td>1</td>\n",
       "      <td>1</td>\n",
       "      <td>0</td>\n",
       "      <td>1</td>\n",
       "      <td>c</td>\n",
       "      <td>c</td>\n",
       "      <td>620.0</td>\n",
       "      <td>9.0</td>\n",
       "      <td>2009.0</td>\n",
       "      <td>0</td>\n",
       "      <td>31.0</td>\n",
       "      <td>2015.0</td>\n",
       "      <td>0</td>\n",
       "      <td>Jul</td>\n",
       "      <td>0</td>\n",
       "    </tr>\n",
       "    <tr>\n",
       "      <th>4</th>\n",
       "      <td>5</td>\n",
       "      <td>5</td>\n",
       "      <td>2015-07-31</td>\n",
       "      <td>4822</td>\n",
       "      <td>559</td>\n",
       "      <td>1</td>\n",
       "      <td>1</td>\n",
       "      <td>0</td>\n",
       "      <td>1</td>\n",
       "      <td>a</td>\n",
       "      <td>a</td>\n",
       "      <td>29910.0</td>\n",
       "      <td>4.0</td>\n",
       "      <td>2015.0</td>\n",
       "      <td>0</td>\n",
       "      <td>31.0</td>\n",
       "      <td>2015.0</td>\n",
       "      <td>0</td>\n",
       "      <td>Jul</td>\n",
       "      <td>0</td>\n",
       "    </tr>\n",
       "  </tbody>\n",
       "</table>\n",
       "</div>"
      ],
      "text/plain": [
       "   store  day_of_week       date  sales  customers  open  promo state_holiday  \\\n",
       "0      1            5 2015-07-31   5263        555     1      1             0   \n",
       "1      2            5 2015-07-31   6064        625     1      1             0   \n",
       "2      3            5 2015-07-31   8314        821     1      1             0   \n",
       "3      4            5 2015-07-31  13995       1498     1      1             0   \n",
       "4      5            5 2015-07-31   4822        559     1      1             0   \n",
       "\n",
       "   school_holiday store_type assortment  competition_distance  \\\n",
       "0               1          c          a                1270.0   \n",
       "1               1          a          a                 570.0   \n",
       "2               1          a          a               14130.0   \n",
       "3               1          c          c                 620.0   \n",
       "4               1          a          a               29910.0   \n",
       "\n",
       "   competition_open_since_month  competition_open_since_year  promo2  \\\n",
       "0                           9.0                       2008.0       0   \n",
       "1                          11.0                       2007.0       1   \n",
       "2                          12.0                       2006.0       1   \n",
       "3                           9.0                       2009.0       0   \n",
       "4                           4.0                       2015.0       0   \n",
       "\n",
       "   promo2_since_week  promo2_since_year   promo_interval month_map  is_promo  \n",
       "0               31.0             2015.0                0       Jul         0  \n",
       "1               13.0             2010.0  Jan,Apr,Jul,Oct       Jul         1  \n",
       "2               14.0             2011.0  Jan,Apr,Jul,Oct       Jul         1  \n",
       "3               31.0             2015.0                0       Jul         0  \n",
       "4               31.0             2015.0                0       Jul         0  "
      ]
     },
     "execution_count": 24,
     "metadata": {},
     "output_type": "execute_result"
    }
   ],
   "source": [
    "# Looking to the final dataframe\n",
    "df.head()"
   ]
  },
  {
   "cell_type": "markdown",
   "id": "bfe8dcc7",
   "metadata": {},
   "source": [
    "## 3.6. Change data types"
   ]
  },
  {
   "cell_type": "markdown",
   "id": "bcc861de",
   "metadata": {},
   "source": [
    "On this section, I'll look to the columns type and make some modifications, maybe."
   ]
  },
  {
   "cell_type": "code",
   "execution_count": 25,
   "id": "6e777e66",
   "metadata": {
    "ExecuteTime": {
     "end_time": "2021-08-07T17:48:44.537657Z",
     "start_time": "2021-08-07T17:48:44.507655Z"
    }
   },
   "outputs": [
    {
     "name": "stdout",
     "output_type": "stream",
     "text": [
      "store                                    int64\n",
      "day_of_week                              int64\n",
      "date                            datetime64[ns]\n",
      "sales                                    int64\n",
      "customers                                int64\n",
      "open                                     int64\n",
      "promo                                    int64\n",
      "state_holiday                           object\n",
      "school_holiday                           int64\n",
      "store_type                              object\n",
      "assortment                              object\n",
      "competition_distance                   float64\n",
      "competition_open_since_month           float64\n",
      "competition_open_since_year            float64\n",
      "promo2                                   int64\n",
      "promo2_since_week                      float64\n",
      "promo2_since_year                      float64\n",
      "promo_interval                          object\n",
      "month_map                               object\n",
      "is_promo                                 int64\n",
      "dtype: object\n"
     ]
    }
   ],
   "source": [
    "print(df.dtypes)"
   ]
  },
  {
   "cell_type": "markdown",
   "id": "521d197d",
   "metadata": {},
   "source": [
    "We can see that `competition_open_since_month`, `competition_open_since_year`, `promo2_since_week` and `promo2_since_year` are float types, and the correct type of them is integer. let's change it!"
   ]
  },
  {
   "cell_type": "code",
   "execution_count": 26,
   "id": "dba96c3b",
   "metadata": {
    "ExecuteTime": {
     "end_time": "2021-08-07T17:48:44.633655Z",
     "start_time": "2021-08-07T17:48:44.540655Z"
    }
   },
   "outputs": [
    {
     "name": "stdout",
     "output_type": "stream",
     "text": [
      "store                                    int64\n",
      "day_of_week                              int64\n",
      "date                            datetime64[ns]\n",
      "sales                                    int64\n",
      "customers                                int64\n",
      "open                                     int64\n",
      "promo                                    int64\n",
      "state_holiday                           object\n",
      "school_holiday                           int64\n",
      "store_type                              object\n",
      "assortment                              object\n",
      "competition_distance                   float64\n",
      "competition_open_since_month             int64\n",
      "competition_open_since_year              int64\n",
      "promo2                                   int64\n",
      "promo2_since_week                        int64\n",
      "promo2_since_year                        int64\n",
      "promo_interval                          object\n",
      "month_map                               object\n",
      "is_promo                                 int64\n",
      "dtype: object\n"
     ]
    }
   ],
   "source": [
    "wanted_cols = ['competition_open_since_month', 'competition_open_since_year', \n",
    "               'promo2_since_week', 'promo2_since_year']\n",
    "\n",
    "for col in wanted_cols:\n",
    "    df[col] = df[col].astype('int64')\n",
    "\n",
    "print(df.dtypes)"
   ]
  },
  {
   "cell_type": "markdown",
   "id": "63027767",
   "metadata": {},
   "source": [
    "## 3.7. Descriptive Statistics"
   ]
  },
  {
   "cell_type": "markdown",
   "id": "99c519d3",
   "metadata": {},
   "source": [
    "Before we start, I want to separate the numerical and categorical variables, just because the analysis to these sets are different."
   ]
  },
  {
   "cell_type": "code",
   "execution_count": 27,
   "id": "44eca586",
   "metadata": {
    "ExecuteTime": {
     "end_time": "2021-08-07T17:48:44.825654Z",
     "start_time": "2021-08-07T17:48:44.635657Z"
    }
   },
   "outputs": [
    {
     "name": "stdout",
     "output_type": "stream",
     "text": [
      "Numerical attributes:\n"
     ]
    },
    {
     "data": {
      "text/html": [
       "<div>\n",
       "<style scoped>\n",
       "    .dataframe tbody tr th:only-of-type {\n",
       "        vertical-align: middle;\n",
       "    }\n",
       "\n",
       "    .dataframe tbody tr th {\n",
       "        vertical-align: top;\n",
       "    }\n",
       "\n",
       "    .dataframe thead th {\n",
       "        text-align: right;\n",
       "    }\n",
       "</style>\n",
       "<table border=\"1\" class=\"dataframe\">\n",
       "  <thead>\n",
       "    <tr style=\"text-align: right;\">\n",
       "      <th></th>\n",
       "      <th>store</th>\n",
       "      <th>day_of_week</th>\n",
       "      <th>sales</th>\n",
       "      <th>customers</th>\n",
       "      <th>open</th>\n",
       "      <th>promo</th>\n",
       "      <th>school_holiday</th>\n",
       "      <th>competition_distance</th>\n",
       "      <th>competition_open_since_month</th>\n",
       "      <th>competition_open_since_year</th>\n",
       "      <th>promo2</th>\n",
       "      <th>promo2_since_week</th>\n",
       "      <th>promo2_since_year</th>\n",
       "      <th>is_promo</th>\n",
       "    </tr>\n",
       "  </thead>\n",
       "  <tbody>\n",
       "    <tr>\n",
       "      <th>0</th>\n",
       "      <td>1</td>\n",
       "      <td>5</td>\n",
       "      <td>5263</td>\n",
       "      <td>555</td>\n",
       "      <td>1</td>\n",
       "      <td>1</td>\n",
       "      <td>1</td>\n",
       "      <td>1270.0</td>\n",
       "      <td>9</td>\n",
       "      <td>2008</td>\n",
       "      <td>0</td>\n",
       "      <td>31</td>\n",
       "      <td>2015</td>\n",
       "      <td>0</td>\n",
       "    </tr>\n",
       "    <tr>\n",
       "      <th>1</th>\n",
       "      <td>2</td>\n",
       "      <td>5</td>\n",
       "      <td>6064</td>\n",
       "      <td>625</td>\n",
       "      <td>1</td>\n",
       "      <td>1</td>\n",
       "      <td>1</td>\n",
       "      <td>570.0</td>\n",
       "      <td>11</td>\n",
       "      <td>2007</td>\n",
       "      <td>1</td>\n",
       "      <td>13</td>\n",
       "      <td>2010</td>\n",
       "      <td>1</td>\n",
       "    </tr>\n",
       "    <tr>\n",
       "      <th>2</th>\n",
       "      <td>3</td>\n",
       "      <td>5</td>\n",
       "      <td>8314</td>\n",
       "      <td>821</td>\n",
       "      <td>1</td>\n",
       "      <td>1</td>\n",
       "      <td>1</td>\n",
       "      <td>14130.0</td>\n",
       "      <td>12</td>\n",
       "      <td>2006</td>\n",
       "      <td>1</td>\n",
       "      <td>14</td>\n",
       "      <td>2011</td>\n",
       "      <td>1</td>\n",
       "    </tr>\n",
       "    <tr>\n",
       "      <th>3</th>\n",
       "      <td>4</td>\n",
       "      <td>5</td>\n",
       "      <td>13995</td>\n",
       "      <td>1498</td>\n",
       "      <td>1</td>\n",
       "      <td>1</td>\n",
       "      <td>1</td>\n",
       "      <td>620.0</td>\n",
       "      <td>9</td>\n",
       "      <td>2009</td>\n",
       "      <td>0</td>\n",
       "      <td>31</td>\n",
       "      <td>2015</td>\n",
       "      <td>0</td>\n",
       "    </tr>\n",
       "    <tr>\n",
       "      <th>4</th>\n",
       "      <td>5</td>\n",
       "      <td>5</td>\n",
       "      <td>4822</td>\n",
       "      <td>559</td>\n",
       "      <td>1</td>\n",
       "      <td>1</td>\n",
       "      <td>1</td>\n",
       "      <td>29910.0</td>\n",
       "      <td>4</td>\n",
       "      <td>2015</td>\n",
       "      <td>0</td>\n",
       "      <td>31</td>\n",
       "      <td>2015</td>\n",
       "      <td>0</td>\n",
       "    </tr>\n",
       "    <tr>\n",
       "      <th>...</th>\n",
       "      <td>...</td>\n",
       "      <td>...</td>\n",
       "      <td>...</td>\n",
       "      <td>...</td>\n",
       "      <td>...</td>\n",
       "      <td>...</td>\n",
       "      <td>...</td>\n",
       "      <td>...</td>\n",
       "      <td>...</td>\n",
       "      <td>...</td>\n",
       "      <td>...</td>\n",
       "      <td>...</td>\n",
       "      <td>...</td>\n",
       "      <td>...</td>\n",
       "    </tr>\n",
       "    <tr>\n",
       "      <th>1017204</th>\n",
       "      <td>1111</td>\n",
       "      <td>2</td>\n",
       "      <td>0</td>\n",
       "      <td>0</td>\n",
       "      <td>0</td>\n",
       "      <td>0</td>\n",
       "      <td>1</td>\n",
       "      <td>1900.0</td>\n",
       "      <td>6</td>\n",
       "      <td>2014</td>\n",
       "      <td>1</td>\n",
       "      <td>31</td>\n",
       "      <td>2013</td>\n",
       "      <td>1</td>\n",
       "    </tr>\n",
       "    <tr>\n",
       "      <th>1017205</th>\n",
       "      <td>1112</td>\n",
       "      <td>2</td>\n",
       "      <td>0</td>\n",
       "      <td>0</td>\n",
       "      <td>0</td>\n",
       "      <td>0</td>\n",
       "      <td>1</td>\n",
       "      <td>1880.0</td>\n",
       "      <td>4</td>\n",
       "      <td>2006</td>\n",
       "      <td>0</td>\n",
       "      <td>1</td>\n",
       "      <td>2013</td>\n",
       "      <td>0</td>\n",
       "    </tr>\n",
       "    <tr>\n",
       "      <th>1017206</th>\n",
       "      <td>1113</td>\n",
       "      <td>2</td>\n",
       "      <td>0</td>\n",
       "      <td>0</td>\n",
       "      <td>0</td>\n",
       "      <td>0</td>\n",
       "      <td>1</td>\n",
       "      <td>9260.0</td>\n",
       "      <td>1</td>\n",
       "      <td>2013</td>\n",
       "      <td>0</td>\n",
       "      <td>1</td>\n",
       "      <td>2013</td>\n",
       "      <td>0</td>\n",
       "    </tr>\n",
       "    <tr>\n",
       "      <th>1017207</th>\n",
       "      <td>1114</td>\n",
       "      <td>2</td>\n",
       "      <td>0</td>\n",
       "      <td>0</td>\n",
       "      <td>0</td>\n",
       "      <td>0</td>\n",
       "      <td>1</td>\n",
       "      <td>870.0</td>\n",
       "      <td>1</td>\n",
       "      <td>2013</td>\n",
       "      <td>0</td>\n",
       "      <td>1</td>\n",
       "      <td>2013</td>\n",
       "      <td>0</td>\n",
       "    </tr>\n",
       "    <tr>\n",
       "      <th>1017208</th>\n",
       "      <td>1115</td>\n",
       "      <td>2</td>\n",
       "      <td>0</td>\n",
       "      <td>0</td>\n",
       "      <td>0</td>\n",
       "      <td>0</td>\n",
       "      <td>1</td>\n",
       "      <td>5350.0</td>\n",
       "      <td>1</td>\n",
       "      <td>2013</td>\n",
       "      <td>1</td>\n",
       "      <td>22</td>\n",
       "      <td>2012</td>\n",
       "      <td>0</td>\n",
       "    </tr>\n",
       "  </tbody>\n",
       "</table>\n",
       "<p>1017209 rows × 14 columns</p>\n",
       "</div>"
      ],
      "text/plain": [
       "         store  day_of_week  sales  customers  open  promo  school_holiday  \\\n",
       "0            1            5   5263        555     1      1               1   \n",
       "1            2            5   6064        625     1      1               1   \n",
       "2            3            5   8314        821     1      1               1   \n",
       "3            4            5  13995       1498     1      1               1   \n",
       "4            5            5   4822        559     1      1               1   \n",
       "...        ...          ...    ...        ...   ...    ...             ...   \n",
       "1017204   1111            2      0          0     0      0               1   \n",
       "1017205   1112            2      0          0     0      0               1   \n",
       "1017206   1113            2      0          0     0      0               1   \n",
       "1017207   1114            2      0          0     0      0               1   \n",
       "1017208   1115            2      0          0     0      0               1   \n",
       "\n",
       "         competition_distance  competition_open_since_month  \\\n",
       "0                      1270.0                             9   \n",
       "1                       570.0                            11   \n",
       "2                     14130.0                            12   \n",
       "3                       620.0                             9   \n",
       "4                     29910.0                             4   \n",
       "...                       ...                           ...   \n",
       "1017204                1900.0                             6   \n",
       "1017205                1880.0                             4   \n",
       "1017206                9260.0                             1   \n",
       "1017207                 870.0                             1   \n",
       "1017208                5350.0                             1   \n",
       "\n",
       "         competition_open_since_year  promo2  promo2_since_week  \\\n",
       "0                               2008       0                 31   \n",
       "1                               2007       1                 13   \n",
       "2                               2006       1                 14   \n",
       "3                               2009       0                 31   \n",
       "4                               2015       0                 31   \n",
       "...                              ...     ...                ...   \n",
       "1017204                         2014       1                 31   \n",
       "1017205                         2006       0                  1   \n",
       "1017206                         2013       0                  1   \n",
       "1017207                         2013       0                  1   \n",
       "1017208                         2013       1                 22   \n",
       "\n",
       "         promo2_since_year  is_promo  \n",
       "0                     2015         0  \n",
       "1                     2010         1  \n",
       "2                     2011         1  \n",
       "3                     2015         0  \n",
       "4                     2015         0  \n",
       "...                    ...       ...  \n",
       "1017204               2013         1  \n",
       "1017205               2013         0  \n",
       "1017206               2013         0  \n",
       "1017207               2013         0  \n",
       "1017208               2012         0  \n",
       "\n",
       "[1017209 rows x 14 columns]"
      ]
     },
     "metadata": {},
     "output_type": "display_data"
    },
    {
     "name": "stdout",
     "output_type": "stream",
     "text": [
      "Categorical attributes:\n"
     ]
    },
    {
     "data": {
      "text/html": [
       "<div>\n",
       "<style scoped>\n",
       "    .dataframe tbody tr th:only-of-type {\n",
       "        vertical-align: middle;\n",
       "    }\n",
       "\n",
       "    .dataframe tbody tr th {\n",
       "        vertical-align: top;\n",
       "    }\n",
       "\n",
       "    .dataframe thead th {\n",
       "        text-align: right;\n",
       "    }\n",
       "</style>\n",
       "<table border=\"1\" class=\"dataframe\">\n",
       "  <thead>\n",
       "    <tr style=\"text-align: right;\">\n",
       "      <th></th>\n",
       "      <th>state_holiday</th>\n",
       "      <th>store_type</th>\n",
       "      <th>assortment</th>\n",
       "      <th>promo_interval</th>\n",
       "      <th>month_map</th>\n",
       "    </tr>\n",
       "  </thead>\n",
       "  <tbody>\n",
       "    <tr>\n",
       "      <th>0</th>\n",
       "      <td>0</td>\n",
       "      <td>c</td>\n",
       "      <td>a</td>\n",
       "      <td>0</td>\n",
       "      <td>Jul</td>\n",
       "    </tr>\n",
       "    <tr>\n",
       "      <th>1</th>\n",
       "      <td>0</td>\n",
       "      <td>a</td>\n",
       "      <td>a</td>\n",
       "      <td>Jan,Apr,Jul,Oct</td>\n",
       "      <td>Jul</td>\n",
       "    </tr>\n",
       "    <tr>\n",
       "      <th>2</th>\n",
       "      <td>0</td>\n",
       "      <td>a</td>\n",
       "      <td>a</td>\n",
       "      <td>Jan,Apr,Jul,Oct</td>\n",
       "      <td>Jul</td>\n",
       "    </tr>\n",
       "    <tr>\n",
       "      <th>3</th>\n",
       "      <td>0</td>\n",
       "      <td>c</td>\n",
       "      <td>c</td>\n",
       "      <td>0</td>\n",
       "      <td>Jul</td>\n",
       "    </tr>\n",
       "    <tr>\n",
       "      <th>4</th>\n",
       "      <td>0</td>\n",
       "      <td>a</td>\n",
       "      <td>a</td>\n",
       "      <td>0</td>\n",
       "      <td>Jul</td>\n",
       "    </tr>\n",
       "    <tr>\n",
       "      <th>...</th>\n",
       "      <td>...</td>\n",
       "      <td>...</td>\n",
       "      <td>...</td>\n",
       "      <td>...</td>\n",
       "      <td>...</td>\n",
       "    </tr>\n",
       "    <tr>\n",
       "      <th>1017204</th>\n",
       "      <td>a</td>\n",
       "      <td>a</td>\n",
       "      <td>a</td>\n",
       "      <td>Jan,Apr,Jul,Oct</td>\n",
       "      <td>Jan</td>\n",
       "    </tr>\n",
       "    <tr>\n",
       "      <th>1017205</th>\n",
       "      <td>a</td>\n",
       "      <td>c</td>\n",
       "      <td>c</td>\n",
       "      <td>0</td>\n",
       "      <td>Jan</td>\n",
       "    </tr>\n",
       "    <tr>\n",
       "      <th>1017206</th>\n",
       "      <td>a</td>\n",
       "      <td>a</td>\n",
       "      <td>c</td>\n",
       "      <td>0</td>\n",
       "      <td>Jan</td>\n",
       "    </tr>\n",
       "    <tr>\n",
       "      <th>1017207</th>\n",
       "      <td>a</td>\n",
       "      <td>a</td>\n",
       "      <td>c</td>\n",
       "      <td>0</td>\n",
       "      <td>Jan</td>\n",
       "    </tr>\n",
       "    <tr>\n",
       "      <th>1017208</th>\n",
       "      <td>a</td>\n",
       "      <td>d</td>\n",
       "      <td>c</td>\n",
       "      <td>Mar,Jun,Sept,Dec</td>\n",
       "      <td>Jan</td>\n",
       "    </tr>\n",
       "  </tbody>\n",
       "</table>\n",
       "<p>1017209 rows × 5 columns</p>\n",
       "</div>"
      ],
      "text/plain": [
       "        state_holiday store_type assortment    promo_interval month_map\n",
       "0                   0          c          a                 0       Jul\n",
       "1                   0          a          a   Jan,Apr,Jul,Oct       Jul\n",
       "2                   0          a          a   Jan,Apr,Jul,Oct       Jul\n",
       "3                   0          c          c                 0       Jul\n",
       "4                   0          a          a                 0       Jul\n",
       "...               ...        ...        ...               ...       ...\n",
       "1017204             a          a          a   Jan,Apr,Jul,Oct       Jan\n",
       "1017205             a          c          c                 0       Jan\n",
       "1017206             a          a          c                 0       Jan\n",
       "1017207             a          a          c                 0       Jan\n",
       "1017208             a          d          c  Mar,Jun,Sept,Dec       Jan\n",
       "\n",
       "[1017209 rows x 5 columns]"
      ]
     },
     "metadata": {},
     "output_type": "display_data"
    }
   ],
   "source": [
    "num_attributes = df.select_dtypes(include=['int64', 'float64'])\n",
    "print('Numerical attributes:')\n",
    "display(num_attributes)\n",
    "cat_attributes = df.select_dtypes(exclude=['int64', 'float64', 'datetime64[ns]'])\n",
    "print('Categorical attributes:')\n",
    "display(cat_attributes)"
   ]
  },
  {
   "cell_type": "markdown",
   "id": "a8a0655e",
   "metadata": {},
   "source": [
    "Let's see how is the sales distribution and some statistics of the variables on numerical section and how is the categorical sales boxplots on categorical section."
   ]
  },
  {
   "cell_type": "markdown",
   "id": "4b3889e6",
   "metadata": {},
   "source": [
    "### 3.7.1. Numerical Attributes"
   ]
  },
  {
   "cell_type": "code",
   "execution_count": 28,
   "id": "d3cf2204",
   "metadata": {
    "ExecuteTime": {
     "end_time": "2021-08-07T17:48:45.641654Z",
     "start_time": "2021-08-07T17:48:44.827654Z"
    },
    "tags": []
   },
   "outputs": [
    {
     "data": {
      "text/html": [
       "<div>\n",
       "<style scoped>\n",
       "    .dataframe tbody tr th:only-of-type {\n",
       "        vertical-align: middle;\n",
       "    }\n",
       "\n",
       "    .dataframe tbody tr th {\n",
       "        vertical-align: top;\n",
       "    }\n",
       "\n",
       "    .dataframe thead th {\n",
       "        text-align: right;\n",
       "    }\n",
       "</style>\n",
       "<table border=\"1\" class=\"dataframe\">\n",
       "  <thead>\n",
       "    <tr style=\"text-align: right;\">\n",
       "      <th></th>\n",
       "      <th>attribute</th>\n",
       "      <th>min</th>\n",
       "      <th>max</th>\n",
       "      <th>range</th>\n",
       "      <th>mean</th>\n",
       "      <th>median</th>\n",
       "      <th>std</th>\n",
       "      <th>skew</th>\n",
       "      <th>kurtosis</th>\n",
       "    </tr>\n",
       "  </thead>\n",
       "  <tbody>\n",
       "    <tr>\n",
       "      <th>0</th>\n",
       "      <td>store</td>\n",
       "      <td>1.0</td>\n",
       "      <td>1115.0</td>\n",
       "      <td>1114.0</td>\n",
       "      <td>558.429727</td>\n",
       "      <td>558.0</td>\n",
       "      <td>321.908651</td>\n",
       "      <td>-0.000955</td>\n",
       "      <td>-1.200524</td>\n",
       "    </tr>\n",
       "    <tr>\n",
       "      <th>1</th>\n",
       "      <td>day_of_week</td>\n",
       "      <td>1.0</td>\n",
       "      <td>7.0</td>\n",
       "      <td>6.0</td>\n",
       "      <td>3.998341</td>\n",
       "      <td>4.0</td>\n",
       "      <td>1.997391</td>\n",
       "      <td>0.001593</td>\n",
       "      <td>-1.246873</td>\n",
       "    </tr>\n",
       "    <tr>\n",
       "      <th>2</th>\n",
       "      <td>sales</td>\n",
       "      <td>0.0</td>\n",
       "      <td>41551.0</td>\n",
       "      <td>41551.0</td>\n",
       "      <td>5773.818972</td>\n",
       "      <td>5744.0</td>\n",
       "      <td>3849.926175</td>\n",
       "      <td>0.641460</td>\n",
       "      <td>1.778375</td>\n",
       "    </tr>\n",
       "    <tr>\n",
       "      <th>3</th>\n",
       "      <td>customers</td>\n",
       "      <td>0.0</td>\n",
       "      <td>7388.0</td>\n",
       "      <td>7388.0</td>\n",
       "      <td>633.145946</td>\n",
       "      <td>609.0</td>\n",
       "      <td>464.411734</td>\n",
       "      <td>1.598650</td>\n",
       "      <td>7.091773</td>\n",
       "    </tr>\n",
       "    <tr>\n",
       "      <th>4</th>\n",
       "      <td>open</td>\n",
       "      <td>0.0</td>\n",
       "      <td>1.0</td>\n",
       "      <td>1.0</td>\n",
       "      <td>0.830107</td>\n",
       "      <td>1.0</td>\n",
       "      <td>0.375539</td>\n",
       "      <td>-1.758045</td>\n",
       "      <td>1.090723</td>\n",
       "    </tr>\n",
       "    <tr>\n",
       "      <th>5</th>\n",
       "      <td>promo</td>\n",
       "      <td>0.0</td>\n",
       "      <td>1.0</td>\n",
       "      <td>1.0</td>\n",
       "      <td>0.381515</td>\n",
       "      <td>0.0</td>\n",
       "      <td>0.485759</td>\n",
       "      <td>0.487838</td>\n",
       "      <td>-1.762018</td>\n",
       "    </tr>\n",
       "    <tr>\n",
       "      <th>6</th>\n",
       "      <td>school_holiday</td>\n",
       "      <td>0.0</td>\n",
       "      <td>1.0</td>\n",
       "      <td>1.0</td>\n",
       "      <td>0.178647</td>\n",
       "      <td>0.0</td>\n",
       "      <td>0.383056</td>\n",
       "      <td>1.677842</td>\n",
       "      <td>0.815154</td>\n",
       "    </tr>\n",
       "    <tr>\n",
       "      <th>7</th>\n",
       "      <td>competition_distance</td>\n",
       "      <td>20.0</td>\n",
       "      <td>200000.0</td>\n",
       "      <td>199980.0</td>\n",
       "      <td>5935.442677</td>\n",
       "      <td>2330.0</td>\n",
       "      <td>12547.652996</td>\n",
       "      <td>10.242344</td>\n",
       "      <td>147.789712</td>\n",
       "    </tr>\n",
       "    <tr>\n",
       "      <th>8</th>\n",
       "      <td>competition_open_since_month</td>\n",
       "      <td>1.0</td>\n",
       "      <td>12.0</td>\n",
       "      <td>11.0</td>\n",
       "      <td>6.786849</td>\n",
       "      <td>7.0</td>\n",
       "      <td>3.311087</td>\n",
       "      <td>-0.042076</td>\n",
       "      <td>-1.232607</td>\n",
       "    </tr>\n",
       "    <tr>\n",
       "      <th>9</th>\n",
       "      <td>competition_open_since_year</td>\n",
       "      <td>1900.0</td>\n",
       "      <td>2015.0</td>\n",
       "      <td>115.0</td>\n",
       "      <td>2010.324840</td>\n",
       "      <td>2012.0</td>\n",
       "      <td>5.515593</td>\n",
       "      <td>-7.235657</td>\n",
       "      <td>124.071304</td>\n",
       "    </tr>\n",
       "    <tr>\n",
       "      <th>10</th>\n",
       "      <td>promo2</td>\n",
       "      <td>0.0</td>\n",
       "      <td>1.0</td>\n",
       "      <td>1.0</td>\n",
       "      <td>0.500564</td>\n",
       "      <td>1.0</td>\n",
       "      <td>0.500000</td>\n",
       "      <td>-0.002255</td>\n",
       "      <td>-1.999999</td>\n",
       "    </tr>\n",
       "    <tr>\n",
       "      <th>11</th>\n",
       "      <td>promo2_since_week</td>\n",
       "      <td>1.0</td>\n",
       "      <td>52.0</td>\n",
       "      <td>51.0</td>\n",
       "      <td>23.619033</td>\n",
       "      <td>22.0</td>\n",
       "      <td>14.310064</td>\n",
       "      <td>0.178723</td>\n",
       "      <td>-1.184046</td>\n",
       "    </tr>\n",
       "    <tr>\n",
       "      <th>12</th>\n",
       "      <td>promo2_since_year</td>\n",
       "      <td>2009.0</td>\n",
       "      <td>2015.0</td>\n",
       "      <td>6.0</td>\n",
       "      <td>2012.793297</td>\n",
       "      <td>2013.0</td>\n",
       "      <td>1.662658</td>\n",
       "      <td>-0.784436</td>\n",
       "      <td>-0.210075</td>\n",
       "    </tr>\n",
       "    <tr>\n",
       "      <th>13</th>\n",
       "      <td>is_promo</td>\n",
       "      <td>0.0</td>\n",
       "      <td>1.0</td>\n",
       "      <td>1.0</td>\n",
       "      <td>0.165966</td>\n",
       "      <td>0.0</td>\n",
       "      <td>0.372050</td>\n",
       "      <td>1.795644</td>\n",
       "      <td>1.224338</td>\n",
       "    </tr>\n",
       "  </tbody>\n",
       "</table>\n",
       "</div>"
      ],
      "text/plain": [
       "                       attribute     min       max     range         mean  \\\n",
       "0                          store     1.0    1115.0    1114.0   558.429727   \n",
       "1                    day_of_week     1.0       7.0       6.0     3.998341   \n",
       "2                          sales     0.0   41551.0   41551.0  5773.818972   \n",
       "3                      customers     0.0    7388.0    7388.0   633.145946   \n",
       "4                           open     0.0       1.0       1.0     0.830107   \n",
       "5                          promo     0.0       1.0       1.0     0.381515   \n",
       "6                 school_holiday     0.0       1.0       1.0     0.178647   \n",
       "7           competition_distance    20.0  200000.0  199980.0  5935.442677   \n",
       "8   competition_open_since_month     1.0      12.0      11.0     6.786849   \n",
       "9    competition_open_since_year  1900.0    2015.0     115.0  2010.324840   \n",
       "10                        promo2     0.0       1.0       1.0     0.500564   \n",
       "11             promo2_since_week     1.0      52.0      51.0    23.619033   \n",
       "12             promo2_since_year  2009.0    2015.0       6.0  2012.793297   \n",
       "13                      is_promo     0.0       1.0       1.0     0.165966   \n",
       "\n",
       "    median           std       skew    kurtosis  \n",
       "0    558.0    321.908651  -0.000955   -1.200524  \n",
       "1      4.0      1.997391   0.001593   -1.246873  \n",
       "2   5744.0   3849.926175   0.641460    1.778375  \n",
       "3    609.0    464.411734   1.598650    7.091773  \n",
       "4      1.0      0.375539  -1.758045    1.090723  \n",
       "5      0.0      0.485759   0.487838   -1.762018  \n",
       "6      0.0      0.383056   1.677842    0.815154  \n",
       "7   2330.0  12547.652996  10.242344  147.789712  \n",
       "8      7.0      3.311087  -0.042076   -1.232607  \n",
       "9   2012.0      5.515593  -7.235657  124.071304  \n",
       "10     1.0      0.500000  -0.002255   -1.999999  \n",
       "11    22.0     14.310064   0.178723   -1.184046  \n",
       "12  2013.0      1.662658  -0.784436   -0.210075  \n",
       "13     0.0      0.372050   1.795644    1.224338  "
      ]
     },
     "metadata": {},
     "output_type": "display_data"
    }
   ],
   "source": [
    "# Creating the metrics dataframe\n",
    "metrics = num_attributes.describe().T.drop(['count', '25%', '75%'], axis=1)\n",
    "metrics.rename({'50%' : 'median'}, inplace=True, axis=1)\n",
    "\n",
    "# Creating the skewness and kurtosis of each variables\n",
    "skews = num_attributes.apply(lambda x: x.skew()).T\n",
    "kurtosis = num_attributes.apply(lambda x: x.kurtosis()).T\n",
    "\n",
    "# Creating the range of min and max values\n",
    "metrics['range'] = metrics['max'] - metrics['min']\n",
    "\n",
    "# Adding the skews and kurthosis values on metrics dataframe\n",
    "metrics['skew'] = skews\n",
    "metrics['kurtosis'] = kurtosis\n",
    "\n",
    "# Changing the index to a variable and renaming it\n",
    "metrics.reset_index(inplace=True)\n",
    "metrics.rename({'index':'attribute'}, axis=1, inplace=True)\n",
    "\n",
    "# Changing the order of columns apresentation on dataframe\n",
    "metrics = metrics[['attribute', 'min', 'max', 'range', 'mean', 'median', \n",
    "                   'std', 'skew', 'kurtosis']]\n",
    "display(metrics)"
   ]
  },
  {
   "cell_type": "markdown",
   "id": "b78d86cf",
   "metadata": {},
   "source": [
    "Look at the `competition_open_since_year` variable. It has a high skew and kurtosis, and it's okay, because we fill out the 323,348 NaN with the current year. So, it doesn't matter.\n",
    "\n",
    "One variable that catch our attention is the `competition_distance`, because it has the highest skew and kurtosis values. A conclusion for this is that most stores have a very near competitor.\n",
    "\n",
    "Let's have a look at the `competition_distance` distribution."
   ]
  },
  {
   "cell_type": "code",
   "execution_count": 30,
   "id": "fc5c8f32",
   "metadata": {
    "ExecuteTime": {
     "end_time": "2021-08-07T17:48:58.428345Z",
     "start_time": "2021-08-07T17:48:45.659656Z"
    }
   },
   "outputs": [
    {
     "data": {
      "image/png": "[encoded data removed]",
      "text/plain": [
       "<Figure size 1152x576 with 1 Axes>"
      ]
     },
     "metadata": {
      "needs_background": "light"
     },
     "output_type": "display_data"
    }
   ],
   "source": [
    "# Showing the stores competition distance count on a given day distribution\n",
    "show_histplot('competition_distance', df, \n",
    "              'Stores competition distance on a given day', \n",
    "              'Competition distance')"
   ]
  },
  {
   "cell_type": "markdown",
   "id": "d0c45518",
   "metadata": {},
   "source": [
    "Yep, it confirmed our theory.\n",
    "\n",
    "Now, I want to see the stores sales distribution, our target for machine learning."
   ]
  },
  {
   "cell_type": "code",
   "execution_count": 32,
   "id": "ab9c8481",
   "metadata": {
    "ExecuteTime": {
     "end_time": "2021-08-07T17:49:18.879344Z",
     "start_time": "2021-08-07T17:49:09.743342Z"
    },
    "hide_input": false,
    "tags": []
   },
   "outputs": [
    {
     "data": {
      "image/png": "[encoded data removed]",
      "text/plain": [
       "<Figure size 1152x576 with 1 Axes>"
      ]
     },
     "metadata": {
      "needs_background": "light"
     },
     "output_type": "display_data"
    }
   ],
   "source": [
    "# Showing the stores sales count on a given day distribution\n",
    "show_histplot('sales', df, \n",
    "              'Stores sales count on a given day', \n",
    "              'Sales')"
   ]
  },
  {
   "cell_type": "markdown",
   "id": "19ffc5e6",
   "metadata": {},
   "source": [
    "The curve looks like a **normal distribution**, if we drop the zeros... Maybe, this is an important information."
   ]
  },
  {
   "cell_type": "markdown",
   "id": "d91390de",
   "metadata": {
    "tags": []
   },
   "source": [
    "### 3.7.2. Categorical Attributes"
   ]
  },
  {
   "cell_type": "code",
   "execution_count": 33,
   "id": "a2a76869-92c7-4e53-bd17-6215bf645457",
   "metadata": {
    "ExecuteTime": {
     "end_time": "2021-08-07T17:49:18.959348Z",
     "start_time": "2021-08-07T17:49:18.881346Z"
    }
   },
   "outputs": [],
   "source": [
    "# Some conditions that I want to apply\n",
    "aux_df = df[(df['state_holiday'] != '0') & (df['sales'] > 0)]"
   ]
  },
  {
   "cell_type": "code",
   "execution_count": 34,
   "id": "828ca501-e1c5-46e0-abc2-378be2ccffd5",
   "metadata": {
    "ExecuteTime": {
     "end_time": "2021-08-07T17:49:19.582342Z",
     "start_time": "2021-08-07T17:49:18.961343Z"
    }
   },
   "outputs": [
    {
     "data": {
      "image/png": "[encoded data removed]",
      "text/plain": [
       "<Figure size 1152x432 with 3 Axes>"
      ]
     },
     "metadata": {
      "needs_background": "light"
     },
     "output_type": "display_data"
    }
   ],
   "source": [
    "plt.figure(figsize=(16, 6))\n",
    "plt.subplot(1, 3, 1)\n",
    "plt.title('Stores sales on state holidays')\n",
    "sns.boxplot(x='state_holiday', y='sales', data=aux_df)\n",
    "plt.xlabel('state holidays')\n",
    "\n",
    "plt.subplot(1, 3, 2)\n",
    "plt.title('Stores sales by store types')\n",
    "sns.boxplot(x='store_type', y='sales', data=aux_df)\n",
    "plt.xlabel('store types')\n",
    "plt.ylabel('')\n",
    "\n",
    "plt.subplot(1, 3, 3)\n",
    "plt.title('Stores sales by assortment')\n",
    "sns.boxplot(x='assortment', y='sales', data=aux_df)\n",
    "plt.ylabel('');"
   ]
  },
  {
   "cell_type": "markdown",
   "id": "d345350f",
   "metadata": {},
   "source": [
    "- The **state holiday**, **store type** and **assortment b** have the highest dispersions of stores sales;\n",
    "- the **store type** and **assortment b** have the highest median of stores sales."
   ]
  },
  {
   "cell_type": "markdown",
   "id": "52fc03b2",
   "metadata": {},
   "source": [
    "# 4. Feature Engineering\n",
    "---"
   ]
  },
  {
   "cell_type": "markdown",
   "id": "c24e38d6",
   "metadata": {},
   "source": [
    "## 4.1. Mind Map"
   ]
  },
  {
   "cell_type": "code",
   "execution_count": 37,
   "id": "579159a6",
   "metadata": {
    "ExecuteTime": {
     "end_time": "2021-08-07T20:16:50.326578Z",
     "start_time": "2021-08-07T20:16:50.298576Z"
    }
   },
   "outputs": [
    {
     "data": {
      "image/png": "[encoded data removed]",
      "text/plain": [
       "<IPython.core.display.Image object>"
      ]
     },
     "execution_count": 37,
     "metadata": {},
     "output_type": "execute_result"
    }
   ],
   "source": [
    "Image('img/mind_map_hypothesis.png')"
   ]
  }
 ],
 "metadata": {
  "kernelspec": {
   "display_name": "Python 3",
   "language": "python",
   "name": "python3"
  },
  "language_info": {
   "codemirror_mode": {
    "name": "ipython",
    "version": 3
   },
   "file_extension": ".py",
   "mimetype": "text/x-python",
   "name": "python",
   "nbconvert_exporter": "python",
   "pygments_lexer": "ipython3",
   "version": "3.8.11"
  },
  "varInspector": {
   "cols": {
    "lenName": 16,
    "lenType": 16,
    "lenVar": 40
   },
   "kernels_config": {
    "python": {
     "delete_cmd_postfix": "",
     "delete_cmd_prefix": "del ",
     "library": "var_list.py",
     "varRefreshCmd": "print(var_dic_list())"
    },
    "r": {
     "delete_cmd_postfix": ") ",
     "delete_cmd_prefix": "rm(",
     "library": "var_list.r",
     "varRefreshCmd": "cat(var_dic_list()) "
    }
   },
   "types_to_exclude": [
    "module",
    "function",
    "builtin_function_or_method",
    "instance",
    "_Feature"
   ],
   "window_display": false
  }
 },
 "nbformat": 4,
 "nbformat_minor": 5
}
