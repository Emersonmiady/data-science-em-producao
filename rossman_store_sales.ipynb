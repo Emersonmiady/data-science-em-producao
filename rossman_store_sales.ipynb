{
 "cells": [
  {
   "cell_type": "markdown",
   "id": "079be2c8",
   "metadata": {},
   "source": [
    "# 2. Imports\n",
    "---"
   ]
  },
  {
   "cell_type": "markdown",
   "id": "ad5b01fd",
   "metadata": {},
   "source": [
    "## 2.1. Libraries"
   ]
  },
  {
   "cell_type": "code",
   "execution_count": 85,
   "id": "0a6d0bb6",
   "metadata": {
    "ExecuteTime": {
     "end_time": "2021-08-05T22:52:22.362647Z",
     "start_time": "2021-08-05T22:52:22.347646Z"
    }
   },
   "outputs": [],
   "source": [
    "import math\n",
    "import pandas as pd\n",
    "import inflection"
   ]
  },
  {
   "cell_type": "markdown",
   "id": "7db52da3",
   "metadata": {},
   "source": [
    "## 2.2. Helper Functions"
   ]
  },
  {
   "cell_type": "code",
   "execution_count": 86,
   "id": "b0532e63",
   "metadata": {
    "ExecuteTime": {
     "end_time": "2021-08-05T22:52:22.378646Z",
     "start_time": "2021-08-05T22:52:22.364646Z"
    }
   },
   "outputs": [],
   "source": [
    "def change_cols_to_snake_case(df):\n",
    "    '''\n",
    "    Change a list of columns of dataframe from \n",
    "    camel case to snake case.\n",
    "    This function returns the modified dataframe.\n",
    "    '''\n",
    "    cols = df.columns\n",
    "    snake_case = lambda x: inflection.underscore(x)\n",
    "    new_cols = list(map(snake_case, cols))\n",
    "    df.columns = new_cols\n",
    "    return df\n",
    "\n",
    "def check_nan_on_df_columns(df):\n",
    "    '''\n",
    "    Only check the NaN values on\n",
    "    the dataframe columns.\n",
    "    '''\n",
    "    print(df.isna().sum())\n",
    "    return None\n",
    "\n",
    "def fillout_nan_on_col_with(time, col, df):\n",
    "    '''\n",
    "    According to \"date\" column on dataframe, this function fills NaN on certain attribute with\n",
    "    the wanted time type. The time should be \"year\", \"month\" or \"week\".\n",
    "    The function returns the modified dataframe.\n",
    "    '''\n",
    "    if time == 'year':\n",
    "        df[col] = df.apply(lambda x: x['date'].year if math.isnan(x[col]) else x[col], axis=1)\n",
    "        return df\n",
    "    elif time == 'month':\n",
    "        df[col] = df.apply(lambda x: x['date'].month if math.isnan(x[col]) else x[col], axis=1)\n",
    "        return df\n",
    "    elif time == 'week':\n",
    "        df[col] = df.apply(lambda x: x['date'].week if math.isnan(x[col]) else x[col], axis=1)\n",
    "        return df\n",
    "    else:\n",
    "        print('Unrecognized time...')\n",
    "        return None"
   ]
  },
  {
   "cell_type": "markdown",
   "id": "9bde99c4",
   "metadata": {},
   "source": [
    "## 2.3. Loading Data"
   ]
  },
  {
   "cell_type": "code",
   "execution_count": 87,
   "id": "fe290367",
   "metadata": {
    "ExecuteTime": {
     "end_time": "2021-08-05T22:52:23.114644Z",
     "start_time": "2021-08-05T22:52:22.381646Z"
    }
   },
   "outputs": [
    {
     "data": {
      "text/html": [
       "<div>\n",
       "<style scoped>\n",
       "    .dataframe tbody tr th:only-of-type {\n",
       "        vertical-align: middle;\n",
       "    }\n",
       "\n",
       "    .dataframe tbody tr th {\n",
       "        vertical-align: top;\n",
       "    }\n",
       "\n",
       "    .dataframe thead th {\n",
       "        text-align: right;\n",
       "    }\n",
       "</style>\n",
       "<table border=\"1\" class=\"dataframe\">\n",
       "  <thead>\n",
       "    <tr style=\"text-align: right;\">\n",
       "      <th></th>\n",
       "      <th>Store</th>\n",
       "      <th>DayOfWeek</th>\n",
       "      <th>Date</th>\n",
       "      <th>Sales</th>\n",
       "      <th>Customers</th>\n",
       "      <th>Open</th>\n",
       "      <th>Promo</th>\n",
       "      <th>StateHoliday</th>\n",
       "      <th>SchoolHoliday</th>\n",
       "    </tr>\n",
       "  </thead>\n",
       "  <tbody>\n",
       "    <tr>\n",
       "      <th>0</th>\n",
       "      <td>1</td>\n",
       "      <td>5</td>\n",
       "      <td>2015-07-31</td>\n",
       "      <td>5263</td>\n",
       "      <td>555</td>\n",
       "      <td>1</td>\n",
       "      <td>1</td>\n",
       "      <td>0</td>\n",
       "      <td>1</td>\n",
       "    </tr>\n",
       "    <tr>\n",
       "      <th>1</th>\n",
       "      <td>2</td>\n",
       "      <td>5</td>\n",
       "      <td>2015-07-31</td>\n",
       "      <td>6064</td>\n",
       "      <td>625</td>\n",
       "      <td>1</td>\n",
       "      <td>1</td>\n",
       "      <td>0</td>\n",
       "      <td>1</td>\n",
       "    </tr>\n",
       "    <tr>\n",
       "      <th>2</th>\n",
       "      <td>3</td>\n",
       "      <td>5</td>\n",
       "      <td>2015-07-31</td>\n",
       "      <td>8314</td>\n",
       "      <td>821</td>\n",
       "      <td>1</td>\n",
       "      <td>1</td>\n",
       "      <td>0</td>\n",
       "      <td>1</td>\n",
       "    </tr>\n",
       "    <tr>\n",
       "      <th>3</th>\n",
       "      <td>4</td>\n",
       "      <td>5</td>\n",
       "      <td>2015-07-31</td>\n",
       "      <td>13995</td>\n",
       "      <td>1498</td>\n",
       "      <td>1</td>\n",
       "      <td>1</td>\n",
       "      <td>0</td>\n",
       "      <td>1</td>\n",
       "    </tr>\n",
       "    <tr>\n",
       "      <th>4</th>\n",
       "      <td>5</td>\n",
       "      <td>5</td>\n",
       "      <td>2015-07-31</td>\n",
       "      <td>4822</td>\n",
       "      <td>559</td>\n",
       "      <td>1</td>\n",
       "      <td>1</td>\n",
       "      <td>0</td>\n",
       "      <td>1</td>\n",
       "    </tr>\n",
       "  </tbody>\n",
       "</table>\n",
       "</div>"
      ],
      "text/plain": [
       "   Store  DayOfWeek        Date  Sales  Customers  Open  Promo StateHoliday  \\\n",
       "0      1          5  2015-07-31   5263        555     1      1            0   \n",
       "1      2          5  2015-07-31   6064        625     1      1            0   \n",
       "2      3          5  2015-07-31   8314        821     1      1            0   \n",
       "3      4          5  2015-07-31  13995       1498     1      1            0   \n",
       "4      5          5  2015-07-31   4822        559     1      1            0   \n",
       "\n",
       "   SchoolHoliday  \n",
       "0              1  \n",
       "1              1  \n",
       "2              1  \n",
       "3              1  \n",
       "4              1  "
      ]
     },
     "metadata": {},
     "output_type": "display_data"
    }
   ],
   "source": [
    "# Loading the sales df\n",
    "df_sales = pd.read_csv('data/train.csv', low_memory=False)\n",
    "display(df_sales.head())"
   ]
  },
  {
   "cell_type": "code",
   "execution_count": 88,
   "id": "a34c0fd3",
   "metadata": {
    "ExecuteTime": {
     "end_time": "2021-08-05T22:52:23.146645Z",
     "start_time": "2021-08-05T22:52:23.117646Z"
    }
   },
   "outputs": [
    {
     "data": {
      "text/html": [
       "<div>\n",
       "<style scoped>\n",
       "    .dataframe tbody tr th:only-of-type {\n",
       "        vertical-align: middle;\n",
       "    }\n",
       "\n",
       "    .dataframe tbody tr th {\n",
       "        vertical-align: top;\n",
       "    }\n",
       "\n",
       "    .dataframe thead th {\n",
       "        text-align: right;\n",
       "    }\n",
       "</style>\n",
       "<table border=\"1\" class=\"dataframe\">\n",
       "  <thead>\n",
       "    <tr style=\"text-align: right;\">\n",
       "      <th></th>\n",
       "      <th>Store</th>\n",
       "      <th>StoreType</th>\n",
       "      <th>Assortment</th>\n",
       "      <th>CompetitionDistance</th>\n",
       "      <th>CompetitionOpenSinceMonth</th>\n",
       "      <th>CompetitionOpenSinceYear</th>\n",
       "      <th>Promo2</th>\n",
       "      <th>Promo2SinceWeek</th>\n",
       "      <th>Promo2SinceYear</th>\n",
       "      <th>PromoInterval</th>\n",
       "    </tr>\n",
       "  </thead>\n",
       "  <tbody>\n",
       "    <tr>\n",
       "      <th>0</th>\n",
       "      <td>1</td>\n",
       "      <td>c</td>\n",
       "      <td>a</td>\n",
       "      <td>1270.0</td>\n",
       "      <td>9.0</td>\n",
       "      <td>2008.0</td>\n",
       "      <td>0</td>\n",
       "      <td>NaN</td>\n",
       "      <td>NaN</td>\n",
       "      <td>NaN</td>\n",
       "    </tr>\n",
       "    <tr>\n",
       "      <th>1</th>\n",
       "      <td>2</td>\n",
       "      <td>a</td>\n",
       "      <td>a</td>\n",
       "      <td>570.0</td>\n",
       "      <td>11.0</td>\n",
       "      <td>2007.0</td>\n",
       "      <td>1</td>\n",
       "      <td>13.0</td>\n",
       "      <td>2010.0</td>\n",
       "      <td>Jan,Apr,Jul,Oct</td>\n",
       "    </tr>\n",
       "    <tr>\n",
       "      <th>2</th>\n",
       "      <td>3</td>\n",
       "      <td>a</td>\n",
       "      <td>a</td>\n",
       "      <td>14130.0</td>\n",
       "      <td>12.0</td>\n",
       "      <td>2006.0</td>\n",
       "      <td>1</td>\n",
       "      <td>14.0</td>\n",
       "      <td>2011.0</td>\n",
       "      <td>Jan,Apr,Jul,Oct</td>\n",
       "    </tr>\n",
       "    <tr>\n",
       "      <th>3</th>\n",
       "      <td>4</td>\n",
       "      <td>c</td>\n",
       "      <td>c</td>\n",
       "      <td>620.0</td>\n",
       "      <td>9.0</td>\n",
       "      <td>2009.0</td>\n",
       "      <td>0</td>\n",
       "      <td>NaN</td>\n",
       "      <td>NaN</td>\n",
       "      <td>NaN</td>\n",
       "    </tr>\n",
       "    <tr>\n",
       "      <th>4</th>\n",
       "      <td>5</td>\n",
       "      <td>a</td>\n",
       "      <td>a</td>\n",
       "      <td>29910.0</td>\n",
       "      <td>4.0</td>\n",
       "      <td>2015.0</td>\n",
       "      <td>0</td>\n",
       "      <td>NaN</td>\n",
       "      <td>NaN</td>\n",
       "      <td>NaN</td>\n",
       "    </tr>\n",
       "  </tbody>\n",
       "</table>\n",
       "</div>"
      ],
      "text/plain": [
       "   Store StoreType Assortment  CompetitionDistance  CompetitionOpenSinceMonth  \\\n",
       "0      1         c          a               1270.0                        9.0   \n",
       "1      2         a          a                570.0                       11.0   \n",
       "2      3         a          a              14130.0                       12.0   \n",
       "3      4         c          c                620.0                        9.0   \n",
       "4      5         a          a              29910.0                        4.0   \n",
       "\n",
       "   CompetitionOpenSinceYear  Promo2  Promo2SinceWeek  Promo2SinceYear  \\\n",
       "0                    2008.0       0              NaN              NaN   \n",
       "1                    2007.0       1             13.0           2010.0   \n",
       "2                    2006.0       1             14.0           2011.0   \n",
       "3                    2009.0       0              NaN              NaN   \n",
       "4                    2015.0       0              NaN              NaN   \n",
       "\n",
       "     PromoInterval  \n",
       "0              NaN  \n",
       "1  Jan,Apr,Jul,Oct  \n",
       "2  Jan,Apr,Jul,Oct  \n",
       "3              NaN  \n",
       "4              NaN  "
      ]
     },
     "metadata": {},
     "output_type": "display_data"
    }
   ],
   "source": [
    "# Loading the store df\n",
    "df_store = pd.read_csv('data/store.csv', low_memory=False)\n",
    "display(df_store.head())"
   ]
  },
  {
   "cell_type": "code",
   "execution_count": 89,
   "id": "114aa2c8",
   "metadata": {
    "ExecuteTime": {
     "end_time": "2021-08-05T22:52:23.654645Z",
     "start_time": "2021-08-05T22:52:23.148841Z"
    }
   },
   "outputs": [
    {
     "data": {
      "text/html": [
       "<div>\n",
       "<style scoped>\n",
       "    .dataframe tbody tr th:only-of-type {\n",
       "        vertical-align: middle;\n",
       "    }\n",
       "\n",
       "    .dataframe tbody tr th {\n",
       "        vertical-align: top;\n",
       "    }\n",
       "\n",
       "    .dataframe thead th {\n",
       "        text-align: right;\n",
       "    }\n",
       "</style>\n",
       "<table border=\"1\" class=\"dataframe\">\n",
       "  <thead>\n",
       "    <tr style=\"text-align: right;\">\n",
       "      <th></th>\n",
       "      <th>Store</th>\n",
       "      <th>DayOfWeek</th>\n",
       "      <th>Date</th>\n",
       "      <th>Sales</th>\n",
       "      <th>Customers</th>\n",
       "      <th>Open</th>\n",
       "      <th>Promo</th>\n",
       "      <th>StateHoliday</th>\n",
       "      <th>SchoolHoliday</th>\n",
       "      <th>StoreType</th>\n",
       "      <th>Assortment</th>\n",
       "      <th>CompetitionDistance</th>\n",
       "      <th>CompetitionOpenSinceMonth</th>\n",
       "      <th>CompetitionOpenSinceYear</th>\n",
       "      <th>Promo2</th>\n",
       "      <th>Promo2SinceWeek</th>\n",
       "      <th>Promo2SinceYear</th>\n",
       "      <th>PromoInterval</th>\n",
       "    </tr>\n",
       "  </thead>\n",
       "  <tbody>\n",
       "    <tr>\n",
       "      <th>0</th>\n",
       "      <td>1</td>\n",
       "      <td>5</td>\n",
       "      <td>2015-07-31</td>\n",
       "      <td>5263</td>\n",
       "      <td>555</td>\n",
       "      <td>1</td>\n",
       "      <td>1</td>\n",
       "      <td>0</td>\n",
       "      <td>1</td>\n",
       "      <td>c</td>\n",
       "      <td>a</td>\n",
       "      <td>1270.0</td>\n",
       "      <td>9.0</td>\n",
       "      <td>2008.0</td>\n",
       "      <td>0</td>\n",
       "      <td>NaN</td>\n",
       "      <td>NaN</td>\n",
       "      <td>NaN</td>\n",
       "    </tr>\n",
       "    <tr>\n",
       "      <th>1</th>\n",
       "      <td>2</td>\n",
       "      <td>5</td>\n",
       "      <td>2015-07-31</td>\n",
       "      <td>6064</td>\n",
       "      <td>625</td>\n",
       "      <td>1</td>\n",
       "      <td>1</td>\n",
       "      <td>0</td>\n",
       "      <td>1</td>\n",
       "      <td>a</td>\n",
       "      <td>a</td>\n",
       "      <td>570.0</td>\n",
       "      <td>11.0</td>\n",
       "      <td>2007.0</td>\n",
       "      <td>1</td>\n",
       "      <td>13.0</td>\n",
       "      <td>2010.0</td>\n",
       "      <td>Jan,Apr,Jul,Oct</td>\n",
       "    </tr>\n",
       "    <tr>\n",
       "      <th>2</th>\n",
       "      <td>3</td>\n",
       "      <td>5</td>\n",
       "      <td>2015-07-31</td>\n",
       "      <td>8314</td>\n",
       "      <td>821</td>\n",
       "      <td>1</td>\n",
       "      <td>1</td>\n",
       "      <td>0</td>\n",
       "      <td>1</td>\n",
       "      <td>a</td>\n",
       "      <td>a</td>\n",
       "      <td>14130.0</td>\n",
       "      <td>12.0</td>\n",
       "      <td>2006.0</td>\n",
       "      <td>1</td>\n",
       "      <td>14.0</td>\n",
       "      <td>2011.0</td>\n",
       "      <td>Jan,Apr,Jul,Oct</td>\n",
       "    </tr>\n",
       "    <tr>\n",
       "      <th>3</th>\n",
       "      <td>4</td>\n",
       "      <td>5</td>\n",
       "      <td>2015-07-31</td>\n",
       "      <td>13995</td>\n",
       "      <td>1498</td>\n",
       "      <td>1</td>\n",
       "      <td>1</td>\n",
       "      <td>0</td>\n",
       "      <td>1</td>\n",
       "      <td>c</td>\n",
       "      <td>c</td>\n",
       "      <td>620.0</td>\n",
       "      <td>9.0</td>\n",
       "      <td>2009.0</td>\n",
       "      <td>0</td>\n",
       "      <td>NaN</td>\n",
       "      <td>NaN</td>\n",
       "      <td>NaN</td>\n",
       "    </tr>\n",
       "    <tr>\n",
       "      <th>4</th>\n",
       "      <td>5</td>\n",
       "      <td>5</td>\n",
       "      <td>2015-07-31</td>\n",
       "      <td>4822</td>\n",
       "      <td>559</td>\n",
       "      <td>1</td>\n",
       "      <td>1</td>\n",
       "      <td>0</td>\n",
       "      <td>1</td>\n",
       "      <td>a</td>\n",
       "      <td>a</td>\n",
       "      <td>29910.0</td>\n",
       "      <td>4.0</td>\n",
       "      <td>2015.0</td>\n",
       "      <td>0</td>\n",
       "      <td>NaN</td>\n",
       "      <td>NaN</td>\n",
       "      <td>NaN</td>\n",
       "    </tr>\n",
       "  </tbody>\n",
       "</table>\n",
       "</div>"
      ],
      "text/plain": [
       "   Store  DayOfWeek        Date  Sales  Customers  Open  Promo StateHoliday  \\\n",
       "0      1          5  2015-07-31   5263        555     1      1            0   \n",
       "1      2          5  2015-07-31   6064        625     1      1            0   \n",
       "2      3          5  2015-07-31   8314        821     1      1            0   \n",
       "3      4          5  2015-07-31  13995       1498     1      1            0   \n",
       "4      5          5  2015-07-31   4822        559     1      1            0   \n",
       "\n",
       "   SchoolHoliday StoreType Assortment  CompetitionDistance  \\\n",
       "0              1         c          a               1270.0   \n",
       "1              1         a          a                570.0   \n",
       "2              1         a          a              14130.0   \n",
       "3              1         c          c                620.0   \n",
       "4              1         a          a              29910.0   \n",
       "\n",
       "   CompetitionOpenSinceMonth  CompetitionOpenSinceYear  Promo2  \\\n",
       "0                        9.0                    2008.0       0   \n",
       "1                       11.0                    2007.0       1   \n",
       "2                       12.0                    2006.0       1   \n",
       "3                        9.0                    2009.0       0   \n",
       "4                        4.0                    2015.0       0   \n",
       "\n",
       "   Promo2SinceWeek  Promo2SinceYear    PromoInterval  \n",
       "0              NaN              NaN              NaN  \n",
       "1             13.0           2010.0  Jan,Apr,Jul,Oct  \n",
       "2             14.0           2011.0  Jan,Apr,Jul,Oct  \n",
       "3              NaN              NaN              NaN  \n",
       "4              NaN              NaN              NaN  "
      ]
     },
     "metadata": {},
     "output_type": "display_data"
    }
   ],
   "source": [
    "# Merging the sale and store df's\n",
    "df = pd.merge(df_sales, df_store, how='left', on='Store')\n",
    "display(df.head())"
   ]
  },
  {
   "cell_type": "markdown",
   "id": "67192c33",
   "metadata": {},
   "source": [
    "# 3. Data Description\n",
    "---"
   ]
  },
  {
   "cell_type": "markdown",
   "id": "fde3865a",
   "metadata": {},
   "source": [
    "Most of the fields are self-explanatory. The following are descriptions for those that aren't.\n",
    "\n",
    "- `Id` - an Id that represents a (Store, Date) duple within the test set.\n",
    "\n",
    "- `Store` - a unique Id for each store.\n",
    "\n",
    "- `Sales` - the turnover for any given day (this is what you are predicting).\n",
    "\n",
    "- `Customers` - the number of customers on a given day.\n",
    "\n",
    "- `Open` - an indicator for whether the store was open. \n",
    "    - 0 = closed; \n",
    "    - 1 = open.\n",
    "\n",
    "- `StateHoliday` - indicates a state holiday. Normally all stores, with few exceptions, are closed on state holidays. Note that all schools are closed on public holidays and weekends: \n",
    "    - a = public holiday;\n",
    "    - b = Easter holiday;\n",
    "    - c = Christmas;\n",
    "    - 0 = None.\n",
    "\n",
    "- `SchoolHoliday` - indicates if the (Store, Date) was affected by the closure of public schools.\n",
    "\n",
    "- `StoreType` - differentiates between 4 different store models: a, b, c, d.\n",
    "\n",
    "- `Assortment` - describes an assortment level:\n",
    "    - a = basic;\n",
    "    - b = extra;\n",
    "    - c = extended.\n",
    "\n",
    "- `CompetitionDistance` - distance in meters to the nearest competitor store.\n",
    "\n",
    "- `CompetitionOpenSince[Month/Year]` - gives the approximate year and month of the time the nearest competitor was opened.\n",
    "\n",
    "- `Promo` - indicates whether a store is running a promo on that day.\n",
    "\n",
    "- `Promo2` - Promo2 is a continuing and consecutive promotion for some stores: \n",
    "    - 0 = store is not participating;\n",
    "    - 1 = store is participating.\n",
    "\n",
    "- `Promo2Since[Year/Week]` - describes the year and calendar week when the store started participating in Promo2.\n",
    "\n",
    "- `PromoInterval` - describes the consecutive intervals Promo2 is started, naming the months the promotion is started a new. E.g. \"Feb,May,Aug,Nov\" means each round starts in February, May, August, November of any given year for that store."
   ]
  },
  {
   "cell_type": "markdown",
   "id": "df28761f",
   "metadata": {},
   "source": [
    "## 3.1. Rename Columns"
   ]
  },
  {
   "cell_type": "markdown",
   "id": "dad31b41",
   "metadata": {},
   "source": [
    "I'll rename the camel case columns to snake case in this section. Because my programming style is with snake case."
   ]
  },
  {
   "cell_type": "code",
   "execution_count": 90,
   "id": "cce50e74",
   "metadata": {
    "ExecuteTime": {
     "end_time": "2021-08-05T22:52:23.670647Z",
     "start_time": "2021-08-05T22:52:23.656644Z"
    }
   },
   "outputs": [
    {
     "name": "stdout",
     "output_type": "stream",
     "text": [
      "Old columns:\n",
      "Index(['Store', 'DayOfWeek', 'Date', 'Sales', 'Customers', 'Open', 'Promo',\n",
      "       'StateHoliday', 'SchoolHoliday', 'StoreType', 'Assortment',\n",
      "       'CompetitionDistance', 'CompetitionOpenSinceMonth',\n",
      "       'CompetitionOpenSinceYear', 'Promo2', 'Promo2SinceWeek',\n",
      "       'Promo2SinceYear', 'PromoInterval'],\n",
      "      dtype='object') \n",
      "\n"
     ]
    }
   ],
   "source": [
    "# Showing the old columns\n",
    "print('Old columns:')\n",
    "print(df.columns, '\\n')"
   ]
  },
  {
   "cell_type": "code",
   "execution_count": 91,
   "id": "7746e2e7",
   "metadata": {
    "ExecuteTime": {
     "end_time": "2021-08-05T22:52:23.686650Z",
     "start_time": "2021-08-05T22:52:23.672648Z"
    }
   },
   "outputs": [
    {
     "name": "stdout",
     "output_type": "stream",
     "text": [
      "New columns:\n",
      "Index(['store', 'day_of_week', 'date', 'sales', 'customers', 'open', 'promo',\n",
      "       'state_holiday', 'school_holiday', 'store_type', 'assortment',\n",
      "       'competition_distance', 'competition_open_since_month',\n",
      "       'competition_open_since_year', 'promo2', 'promo2_since_week',\n",
      "       'promo2_since_year', 'promo_interval'],\n",
      "      dtype='object')\n"
     ]
    }
   ],
   "source": [
    "# Changing columns to snake case\n",
    "print('New columns:')\n",
    "df = change_cols_to_snake_case(df)\n",
    "print(df.columns)"
   ]
  },
  {
   "cell_type": "markdown",
   "id": "340fe232",
   "metadata": {},
   "source": [
    "## 3.2. Data Dimensions"
   ]
  },
  {
   "cell_type": "code",
   "execution_count": 92,
   "id": "5fa42658",
   "metadata": {
    "ExecuteTime": {
     "end_time": "2021-08-05T22:52:23.702648Z",
     "start_time": "2021-08-05T22:52:23.691647Z"
    }
   },
   "outputs": [
    {
     "name": "stdout",
     "output_type": "stream",
     "text": [
      "Number of rows: 1017209;\n",
      "Number of columns: 18.\n"
     ]
    }
   ],
   "source": [
    "print(f'Number of rows: {df.shape[0]};')\n",
    "print(f'Number of columns: {df.shape[1]}.')"
   ]
  },
  {
   "cell_type": "markdown",
   "id": "5364781d",
   "metadata": {},
   "source": [
    "## 3.3. Data Types"
   ]
  },
  {
   "cell_type": "code",
   "execution_count": 93,
   "id": "492bcc0b",
   "metadata": {
    "ExecuteTime": {
     "end_time": "2021-08-05T22:52:23.732920Z",
     "start_time": "2021-08-05T22:52:23.705646Z"
    }
   },
   "outputs": [
    {
     "name": "stdout",
     "output_type": "stream",
     "text": [
      "store                             int64\n",
      "day_of_week                       int64\n",
      "date                             object\n",
      "sales                             int64\n",
      "customers                         int64\n",
      "open                              int64\n",
      "promo                             int64\n",
      "state_holiday                    object\n",
      "school_holiday                    int64\n",
      "store_type                       object\n",
      "assortment                       object\n",
      "competition_distance            float64\n",
      "competition_open_since_month    float64\n",
      "competition_open_since_year     float64\n",
      "promo2                            int64\n",
      "promo2_since_week               float64\n",
      "promo2_since_year               float64\n",
      "promo_interval                   object\n",
      "dtype: object\n"
     ]
    }
   ],
   "source": [
    "# Original data types\n",
    "print(df.dtypes)"
   ]
  },
  {
   "cell_type": "markdown",
   "id": "88c68595",
   "metadata": {},
   "source": [
    "Working with datetime type rather than object is easier! So, I'll change that!"
   ]
  },
  {
   "cell_type": "code",
   "execution_count": 94,
   "id": "e1108c11",
   "metadata": {
    "ExecuteTime": {
     "end_time": "2021-08-05T22:52:23.876928Z",
     "start_time": "2021-08-05T22:52:23.734920Z"
    }
   },
   "outputs": [
    {
     "name": "stdout",
     "output_type": "stream",
     "text": [
      "store                                    int64\n",
      "day_of_week                              int64\n",
      "date                            datetime64[ns]\n",
      "sales                                    int64\n",
      "customers                                int64\n",
      "open                                     int64\n",
      "promo                                    int64\n",
      "state_holiday                           object\n",
      "school_holiday                           int64\n",
      "store_type                              object\n",
      "assortment                              object\n",
      "competition_distance                   float64\n",
      "competition_open_since_month           float64\n",
      "competition_open_since_year            float64\n",
      "promo2                                   int64\n",
      "promo2_since_week                      float64\n",
      "promo2_since_year                      float64\n",
      "promo_interval                          object\n",
      "dtype: object\n"
     ]
    }
   ],
   "source": [
    "# Changing the date type to datetime\n",
    "df['date'] = pd.to_datetime(df['date'])\n",
    "print(df.dtypes)"
   ]
  },
  {
   "cell_type": "markdown",
   "id": "d2e2bfcb",
   "metadata": {},
   "source": [
    "## 3.4. Check NaN"
   ]
  },
  {
   "cell_type": "code",
   "execution_count": 95,
   "id": "b1cae017",
   "metadata": {
    "ExecuteTime": {
     "end_time": "2021-08-05T22:52:24.084921Z",
     "start_time": "2021-08-05T22:52:23.878923Z"
    }
   },
   "outputs": [
    {
     "name": "stdout",
     "output_type": "stream",
     "text": [
      "store                                0\n",
      "day_of_week                          0\n",
      "date                                 0\n",
      "sales                                0\n",
      "customers                            0\n",
      "open                                 0\n",
      "promo                                0\n",
      "state_holiday                        0\n",
      "school_holiday                       0\n",
      "store_type                           0\n",
      "assortment                           0\n",
      "competition_distance              2642\n",
      "competition_open_since_month    323348\n",
      "competition_open_since_year     323348\n",
      "promo2                               0\n",
      "promo2_since_week               508031\n",
      "promo2_since_year               508031\n",
      "promo_interval                  508031\n",
      "dtype: int64\n"
     ]
    }
   ],
   "source": [
    "check_nan_on_df_columns(df)"
   ]
  },
  {
   "cell_type": "markdown",
   "id": "9884dbb1",
   "metadata": {},
   "source": [
    "There are a lot of NaN values on the last columns. It is highly recommended to fill that lines with some number, or at least, drop them, because we need to do this to run the machine learning algorithms in the future."
   ]
  },
  {
   "cell_type": "markdown",
   "id": "ea74d653",
   "metadata": {},
   "source": [
    "## 3.5. Fill out NaN"
   ]
  },
  {
   "cell_type": "markdown",
   "id": "c291f6b6",
   "metadata": {},
   "source": [
    "### 3.5.1. competition_distance"
   ]
  },
  {
   "cell_type": "markdown",
   "id": "3eb99b8e",
   "metadata": {},
   "source": [
    "Maybe people didn't fill out this column because the distances to the nearest competitor stores aren't to be considered. In other words, the `competition_distance` of that store is too far!\n",
    "\n",
    "Therefore, we only need to replace the NaN values for huge distances. The question is, what is a \"huge distances\"? \n",
    "\n",
    "Let's see the highest value on this column."
   ]
  },
  {
   "cell_type": "code",
   "execution_count": 96,
   "id": "63460a3c",
   "metadata": {
    "ExecuteTime": {
     "end_time": "2021-08-05T22:52:24.100921Z",
     "start_time": "2021-08-05T22:52:24.087921Z"
    }
   },
   "outputs": [
    {
     "name": "stdout",
     "output_type": "stream",
     "text": [
      "The max value of this attribute is: 75860.0.\n"
     ]
    }
   ],
   "source": [
    "max_value = df['competition_distance'].max()\n",
    "print(f'The max value of this attribute is: {max_value}.')"
   ]
  },
  {
   "cell_type": "markdown",
   "id": "3b81619f",
   "metadata": {},
   "source": [
    "So, we only need to replace the NaN for a huge distance, like... **200,000.0**."
   ]
  },
  {
   "cell_type": "code",
   "execution_count": 97,
   "id": "624e9f65",
   "metadata": {
    "ExecuteTime": {
     "end_time": "2021-08-05T22:52:24.626927Z",
     "start_time": "2021-08-05T22:52:24.102923Z"
    }
   },
   "outputs": [
    {
     "name": "stdout",
     "output_type": "stream",
     "text": [
      "store                                0\n",
      "day_of_week                          0\n",
      "date                                 0\n",
      "sales                                0\n",
      "customers                            0\n",
      "open                                 0\n",
      "promo                                0\n",
      "state_holiday                        0\n",
      "school_holiday                       0\n",
      "store_type                           0\n",
      "assortment                           0\n",
      "competition_distance                 0\n",
      "competition_open_since_month    323348\n",
      "competition_open_since_year     323348\n",
      "promo2                               0\n",
      "promo2_since_week               508031\n",
      "promo2_since_year               508031\n",
      "promo_interval                  508031\n",
      "dtype: int64\n"
     ]
    }
   ],
   "source": [
    "df['competition_distance'] = df['competition_distance'].apply(lambda x: 200000.0 if math.isnan(x) else x)\n",
    "check_nan_on_df_columns(df)"
   ]
  },
  {
   "cell_type": "markdown",
   "id": "baf8a847",
   "metadata": {},
   "source": [
    "### 3.5.2. competition_open_since_month"
   ]
  },
  {
   "cell_type": "markdown",
   "id": "fa4b1e39",
   "metadata": {},
   "source": [
    "Why this column has NaN? There are two reasons that I suppose:\n",
    "\n",
    "1. The store doesn't have a nearest competitor, so there isn't an opening date;\n",
    "\n",
    "2. There is a nearest competitor, but we don't know when is the opening date.\n",
    "\n",
    "My solution to fill NaN on this column is to work with the actual month. I don't want to exclude this variable because it seems to be important to our analysis and maybe for machine learning algorithms..."
   ]
  },
  {
   "cell_type": "code",
   "execution_count": 98,
   "id": "ad51deaf",
   "metadata": {
    "ExecuteTime": {
     "end_time": "2021-08-05T22:52:54.696920Z",
     "start_time": "2021-08-05T22:52:24.627920Z"
    }
   },
   "outputs": [],
   "source": [
    "df = fillout_nan_on_col_with('month', 'competition_open_since_month', df)"
   ]
  },
  {
   "cell_type": "markdown",
   "id": "6d57d2af",
   "metadata": {},
   "source": [
    "### 3.5.3. competition_open_since_year"
   ]
  },
  {
   "cell_type": "markdown",
   "id": "34f42e3f",
   "metadata": {},
   "source": [
    "The same logic above I'll apply to this attribute."
   ]
  },
  {
   "cell_type": "code",
   "execution_count": 99,
   "id": "7a74d7c7",
   "metadata": {
    "ExecuteTime": {
     "end_time": "2021-08-05T22:53:25.062335Z",
     "start_time": "2021-08-05T22:52:54.698923Z"
    }
   },
   "outputs": [],
   "source": [
    "df = fillout_nan_on_col_with('year', 'competition_open_since_year', df)"
   ]
  },
  {
   "cell_type": "code",
   "execution_count": 100,
   "id": "64ab9a5b",
   "metadata": {
    "ExecuteTime": {
     "end_time": "2021-08-05T22:53:25.269345Z",
     "start_time": "2021-08-05T22:53:25.064326Z"
    }
   },
   "outputs": [
    {
     "name": "stdout",
     "output_type": "stream",
     "text": [
      "store                                0\n",
      "day_of_week                          0\n",
      "date                                 0\n",
      "sales                                0\n",
      "customers                            0\n",
      "open                                 0\n",
      "promo                                0\n",
      "state_holiday                        0\n",
      "school_holiday                       0\n",
      "store_type                           0\n",
      "assortment                           0\n",
      "competition_distance                 0\n",
      "competition_open_since_month         0\n",
      "competition_open_since_year          0\n",
      "promo2                               0\n",
      "promo2_since_week               508031\n",
      "promo2_since_year               508031\n",
      "promo_interval                  508031\n",
      "dtype: int64\n"
     ]
    }
   ],
   "source": [
    "# Checking if we did it right\n",
    "check_nan_on_df_columns(df)"
   ]
  },
  {
   "cell_type": "markdown",
   "id": "577c491d",
   "metadata": {},
   "source": [
    "Yep, we did it!"
   ]
  },
  {
   "cell_type": "markdown",
   "id": "fea2eadb",
   "metadata": {},
   "source": [
    "### 3.5.4. promo2_since_week"
   ]
  },
  {
   "cell_type": "markdown",
   "id": "40e6fc1f",
   "metadata": {},
   "source": [
    "If the value is NaN on this column, it's because the store has not decided to participate on promo2. So, we don't know exactily what value to replace in this case, as well as the variables above!\n",
    "\n",
    "Therefore, I'll replace the NaN with the current week, like the variables above."
   ]
  },
  {
   "cell_type": "code",
   "execution_count": 101,
   "id": "0a6f0079",
   "metadata": {
    "ExecuteTime": {
     "end_time": "2021-08-05T22:53:55.651660Z",
     "start_time": "2021-08-05T22:53:25.271328Z"
    }
   },
   "outputs": [],
   "source": [
    "df = fillout_nan_on_col_with('week', 'promo2_since_week', df)"
   ]
  },
  {
   "cell_type": "markdown",
   "id": "c87c2ebf",
   "metadata": {},
   "source": [
    "### 3.5.5. promo2_since_year"
   ]
  },
  {
   "cell_type": "markdown",
   "id": "fe9633f3",
   "metadata": {},
   "source": [
    "The same logic above I'll apply to this attribute."
   ]
  },
  {
   "cell_type": "code",
   "execution_count": 102,
   "id": "c6ea5558",
   "metadata": {
    "ExecuteTime": {
     "end_time": "2021-08-05T22:54:25.599141Z",
     "start_time": "2021-08-05T22:53:55.653658Z"
    }
   },
   "outputs": [],
   "source": [
    "df = fillout_nan_on_col_with('year', 'promo2_since_year', df)"
   ]
  },
  {
   "cell_type": "code",
   "execution_count": 103,
   "id": "7f8ed46c",
   "metadata": {
    "ExecuteTime": {
     "end_time": "2021-08-05T22:54:25.805143Z",
     "start_time": "2021-08-05T22:54:25.601138Z"
    }
   },
   "outputs": [
    {
     "name": "stdout",
     "output_type": "stream",
     "text": [
      "store                                0\n",
      "day_of_week                          0\n",
      "date                                 0\n",
      "sales                                0\n",
      "customers                            0\n",
      "open                                 0\n",
      "promo                                0\n",
      "state_holiday                        0\n",
      "school_holiday                       0\n",
      "store_type                           0\n",
      "assortment                           0\n",
      "competition_distance                 0\n",
      "competition_open_since_month         0\n",
      "competition_open_since_year          0\n",
      "promo2                               0\n",
      "promo2_since_week                    0\n",
      "promo2_since_year                    0\n",
      "promo_interval                  508031\n",
      "dtype: int64\n"
     ]
    }
   ],
   "source": [
    "# Checking if we did it right\n",
    "check_nan_on_df_columns(df)"
   ]
  },
  {
   "cell_type": "markdown",
   "id": "0afbd905",
   "metadata": {},
   "source": [
    "### 3.5.5. promo_interval"
   ]
  },
  {
   "cell_type": "markdown",
   "id": "06bfc8ed",
   "metadata": {},
   "source": [
    "To fill NaN values on this column, I think the best option is to replace with zeros. That is because maybe the promo2 doesn't exist for that store, so we don't have any `promo_interval`!"
   ]
  },
  {
   "cell_type": "code",
   "execution_count": 104,
   "id": "e10be5ce",
   "metadata": {
    "ExecuteTime": {
     "end_time": "2021-08-06T02:10:10.807156Z",
     "start_time": "2021-08-06T02:10:10.738160Z"
    }
   },
   "outputs": [],
   "source": [
    "df['promo_interval'].fillna(0, inplace=True)"
   ]
  },
  {
   "cell_type": "code",
   "execution_count": 105,
   "id": "4079b775",
   "metadata": {
    "ExecuteTime": {
     "end_time": "2021-08-06T02:10:16.712548Z",
     "start_time": "2021-08-06T02:10:16.517545Z"
    }
   },
   "outputs": [
    {
     "name": "stdout",
     "output_type": "stream",
     "text": [
      "store                           0\n",
      "day_of_week                     0\n",
      "date                            0\n",
      "sales                           0\n",
      "customers                       0\n",
      "open                            0\n",
      "promo                           0\n",
      "state_holiday                   0\n",
      "school_holiday                  0\n",
      "store_type                      0\n",
      "assortment                      0\n",
      "competition_distance            0\n",
      "competition_open_since_month    0\n",
      "competition_open_since_year     0\n",
      "promo2                          0\n",
      "promo2_since_week               0\n",
      "promo2_since_year               0\n",
      "promo_interval                  0\n",
      "dtype: int64\n"
     ]
    }
   ],
   "source": [
    "# Checking if we did it right\n",
    "check_nan_on_df_columns(df)"
   ]
  },
  {
   "cell_type": "markdown",
   "id": "f4d491dd",
   "metadata": {},
   "source": [
    "Okay, we're almost done.\n",
    "\n",
    "Look at the variable `promo_interval`. Maybe we can create another variable based on that, like if the current month of the dataframe date is on promo2! So, we can create an attribute called `is_promo` to signal this fact."
   ]
  },
  {
   "cell_type": "code",
   "execution_count": 106,
   "id": "967ac0e9",
   "metadata": {
    "ExecuteTime": {
     "end_time": "2021-08-06T02:22:38.320628Z",
     "start_time": "2021-08-06T02:22:38.182621Z"
    }
   },
   "outputs": [
    {
     "data": {
      "text/html": [
       "<div>\n",
       "<style scoped>\n",
       "    .dataframe tbody tr th:only-of-type {\n",
       "        vertical-align: middle;\n",
       "    }\n",
       "\n",
       "    .dataframe tbody tr th {\n",
       "        vertical-align: top;\n",
       "    }\n",
       "\n",
       "    .dataframe thead th {\n",
       "        text-align: right;\n",
       "    }\n",
       "</style>\n",
       "<table border=\"1\" class=\"dataframe\">\n",
       "  <thead>\n",
       "    <tr style=\"text-align: right;\">\n",
       "      <th></th>\n",
       "      <th>store</th>\n",
       "      <th>day_of_week</th>\n",
       "      <th>date</th>\n",
       "      <th>sales</th>\n",
       "      <th>customers</th>\n",
       "      <th>open</th>\n",
       "      <th>promo</th>\n",
       "      <th>state_holiday</th>\n",
       "      <th>school_holiday</th>\n",
       "      <th>store_type</th>\n",
       "      <th>assortment</th>\n",
       "      <th>competition_distance</th>\n",
       "      <th>competition_open_since_month</th>\n",
       "      <th>competition_open_since_year</th>\n",
       "      <th>promo2</th>\n",
       "      <th>promo2_since_week</th>\n",
       "      <th>promo2_since_year</th>\n",
       "      <th>promo_interval</th>\n",
       "      <th>month_map</th>\n",
       "    </tr>\n",
       "  </thead>\n",
       "  <tbody>\n",
       "    <tr>\n",
       "      <th>0</th>\n",
       "      <td>1</td>\n",
       "      <td>5</td>\n",
       "      <td>2015-07-31</td>\n",
       "      <td>5263</td>\n",
       "      <td>555</td>\n",
       "      <td>1</td>\n",
       "      <td>1</td>\n",
       "      <td>0</td>\n",
       "      <td>1</td>\n",
       "      <td>c</td>\n",
       "      <td>a</td>\n",
       "      <td>1270.0</td>\n",
       "      <td>9.0</td>\n",
       "      <td>2008.0</td>\n",
       "      <td>0</td>\n",
       "      <td>31.0</td>\n",
       "      <td>2015.0</td>\n",
       "      <td>0</td>\n",
       "      <td>Jul</td>\n",
       "    </tr>\n",
       "    <tr>\n",
       "      <th>1</th>\n",
       "      <td>2</td>\n",
       "      <td>5</td>\n",
       "      <td>2015-07-31</td>\n",
       "      <td>6064</td>\n",
       "      <td>625</td>\n",
       "      <td>1</td>\n",
       "      <td>1</td>\n",
       "      <td>0</td>\n",
       "      <td>1</td>\n",
       "      <td>a</td>\n",
       "      <td>a</td>\n",
       "      <td>570.0</td>\n",
       "      <td>11.0</td>\n",
       "      <td>2007.0</td>\n",
       "      <td>1</td>\n",
       "      <td>13.0</td>\n",
       "      <td>2010.0</td>\n",
       "      <td>Jan,Apr,Jul,Oct</td>\n",
       "      <td>Jul</td>\n",
       "    </tr>\n",
       "    <tr>\n",
       "      <th>2</th>\n",
       "      <td>3</td>\n",
       "      <td>5</td>\n",
       "      <td>2015-07-31</td>\n",
       "      <td>8314</td>\n",
       "      <td>821</td>\n",
       "      <td>1</td>\n",
       "      <td>1</td>\n",
       "      <td>0</td>\n",
       "      <td>1</td>\n",
       "      <td>a</td>\n",
       "      <td>a</td>\n",
       "      <td>14130.0</td>\n",
       "      <td>12.0</td>\n",
       "      <td>2006.0</td>\n",
       "      <td>1</td>\n",
       "      <td>14.0</td>\n",
       "      <td>2011.0</td>\n",
       "      <td>Jan,Apr,Jul,Oct</td>\n",
       "      <td>Jul</td>\n",
       "    </tr>\n",
       "    <tr>\n",
       "      <th>3</th>\n",
       "      <td>4</td>\n",
       "      <td>5</td>\n",
       "      <td>2015-07-31</td>\n",
       "      <td>13995</td>\n",
       "      <td>1498</td>\n",
       "      <td>1</td>\n",
       "      <td>1</td>\n",
       "      <td>0</td>\n",
       "      <td>1</td>\n",
       "      <td>c</td>\n",
       "      <td>c</td>\n",
       "      <td>620.0</td>\n",
       "      <td>9.0</td>\n",
       "      <td>2009.0</td>\n",
       "      <td>0</td>\n",
       "      <td>31.0</td>\n",
       "      <td>2015.0</td>\n",
       "      <td>0</td>\n",
       "      <td>Jul</td>\n",
       "    </tr>\n",
       "    <tr>\n",
       "      <th>4</th>\n",
       "      <td>5</td>\n",
       "      <td>5</td>\n",
       "      <td>2015-07-31</td>\n",
       "      <td>4822</td>\n",
       "      <td>559</td>\n",
       "      <td>1</td>\n",
       "      <td>1</td>\n",
       "      <td>0</td>\n",
       "      <td>1</td>\n",
       "      <td>a</td>\n",
       "      <td>a</td>\n",
       "      <td>29910.0</td>\n",
       "      <td>4.0</td>\n",
       "      <td>2015.0</td>\n",
       "      <td>0</td>\n",
       "      <td>31.0</td>\n",
       "      <td>2015.0</td>\n",
       "      <td>0</td>\n",
       "      <td>Jul</td>\n",
       "    </tr>\n",
       "  </tbody>\n",
       "</table>\n",
       "</div>"
      ],
      "text/plain": [
       "   store  day_of_week       date  sales  customers  open  promo state_holiday  \\\n",
       "0      1            5 2015-07-31   5263        555     1      1             0   \n",
       "1      2            5 2015-07-31   6064        625     1      1             0   \n",
       "2      3            5 2015-07-31   8314        821     1      1             0   \n",
       "3      4            5 2015-07-31  13995       1498     1      1             0   \n",
       "4      5            5 2015-07-31   4822        559     1      1             0   \n",
       "\n",
       "   school_holiday store_type assortment  competition_distance  \\\n",
       "0               1          c          a                1270.0   \n",
       "1               1          a          a                 570.0   \n",
       "2               1          a          a               14130.0   \n",
       "3               1          c          c                 620.0   \n",
       "4               1          a          a               29910.0   \n",
       "\n",
       "   competition_open_since_month  competition_open_since_year  promo2  \\\n",
       "0                           9.0                       2008.0       0   \n",
       "1                          11.0                       2007.0       1   \n",
       "2                          12.0                       2006.0       1   \n",
       "3                           9.0                       2009.0       0   \n",
       "4                           4.0                       2015.0       0   \n",
       "\n",
       "   promo2_since_week  promo2_since_year   promo_interval month_map  \n",
       "0               31.0             2015.0                0       Jul  \n",
       "1               13.0             2010.0  Jan,Apr,Jul,Oct       Jul  \n",
       "2               14.0             2011.0  Jan,Apr,Jul,Oct       Jul  \n",
       "3               31.0             2015.0                0       Jul  \n",
       "4               31.0             2015.0                0       Jul  "
      ]
     },
     "execution_count": 106,
     "metadata": {},
     "output_type": "execute_result"
    }
   ],
   "source": [
    "# Mapping the current number of the month to 3 first letter of the month\n",
    "month_map = {1 : 'Jan', 2 : 'Feb', 3 : 'Mar', 4 : 'Apr',\n",
    "             5 : 'May', 6 : 'Jun', 7 : 'Jul', 8 : 'Aug',\n",
    "             9 : 'Sep', 10 : 'Oct', 11 : 'Nov', 12 : 'Dec'}\n",
    "\n",
    "# Creating the month_map column, based on the map dict created above\n",
    "df['month_map'] = df['date'].dt.month.map(month_map)\n",
    "df.head()"
   ]
  },
  {
   "cell_type": "code",
   "execution_count": 108,
   "id": "c58fce48",
   "metadata": {
    "ExecuteTime": {
     "end_time": "2021-08-06T02:38:30.764337Z",
     "start_time": "2021-08-06T02:38:01.592322Z"
    }
   },
   "outputs": [],
   "source": [
    "# Creating the is_promo column\n",
    "## If the promo_interval is 0, then do nothing\n",
    "## Else the promo_interval has a string, then verify if the month_map is on that string\n",
    "df['is_promo'] = df.apply(lambda x: 0 if x['promo_interval'] == 0 else 1 if x['month_map'] in x['promo_interval'].split(',') else 0, axis=1)"
   ]
  },
  {
   "cell_type": "code",
   "execution_count": 109,
   "id": "317b4e97",
   "metadata": {
    "ExecuteTime": {
     "end_time": "2021-08-06T02:38:30.891469Z",
     "start_time": "2021-08-06T02:38:30.861468Z"
    }
   },
   "outputs": [
    {
     "data": {
      "text/html": [
       "<div>\n",
       "<style scoped>\n",
       "    .dataframe tbody tr th:only-of-type {\n",
       "        vertical-align: middle;\n",
       "    }\n",
       "\n",
       "    .dataframe tbody tr th {\n",
       "        vertical-align: top;\n",
       "    }\n",
       "\n",
       "    .dataframe thead th {\n",
       "        text-align: right;\n",
       "    }\n",
       "</style>\n",
       "<table border=\"1\" class=\"dataframe\">\n",
       "  <thead>\n",
       "    <tr style=\"text-align: right;\">\n",
       "      <th></th>\n",
       "      <th>store</th>\n",
       "      <th>day_of_week</th>\n",
       "      <th>date</th>\n",
       "      <th>sales</th>\n",
       "      <th>customers</th>\n",
       "      <th>open</th>\n",
       "      <th>promo</th>\n",
       "      <th>state_holiday</th>\n",
       "      <th>school_holiday</th>\n",
       "      <th>store_type</th>\n",
       "      <th>assortment</th>\n",
       "      <th>competition_distance</th>\n",
       "      <th>competition_open_since_month</th>\n",
       "      <th>competition_open_since_year</th>\n",
       "      <th>promo2</th>\n",
       "      <th>promo2_since_week</th>\n",
       "      <th>promo2_since_year</th>\n",
       "      <th>promo_interval</th>\n",
       "      <th>month_map</th>\n",
       "      <th>is_promo</th>\n",
       "    </tr>\n",
       "  </thead>\n",
       "  <tbody>\n",
       "    <tr>\n",
       "      <th>0</th>\n",
       "      <td>1</td>\n",
       "      <td>5</td>\n",
       "      <td>2015-07-31</td>\n",
       "      <td>5263</td>\n",
       "      <td>555</td>\n",
       "      <td>1</td>\n",
       "      <td>1</td>\n",
       "      <td>0</td>\n",
       "      <td>1</td>\n",
       "      <td>c</td>\n",
       "      <td>a</td>\n",
       "      <td>1270.0</td>\n",
       "      <td>9.0</td>\n",
       "      <td>2008.0</td>\n",
       "      <td>0</td>\n",
       "      <td>31.0</td>\n",
       "      <td>2015.0</td>\n",
       "      <td>0</td>\n",
       "      <td>Jul</td>\n",
       "      <td>0</td>\n",
       "    </tr>\n",
       "    <tr>\n",
       "      <th>1</th>\n",
       "      <td>2</td>\n",
       "      <td>5</td>\n",
       "      <td>2015-07-31</td>\n",
       "      <td>6064</td>\n",
       "      <td>625</td>\n",
       "      <td>1</td>\n",
       "      <td>1</td>\n",
       "      <td>0</td>\n",
       "      <td>1</td>\n",
       "      <td>a</td>\n",
       "      <td>a</td>\n",
       "      <td>570.0</td>\n",
       "      <td>11.0</td>\n",
       "      <td>2007.0</td>\n",
       "      <td>1</td>\n",
       "      <td>13.0</td>\n",
       "      <td>2010.0</td>\n",
       "      <td>Jan,Apr,Jul,Oct</td>\n",
       "      <td>Jul</td>\n",
       "      <td>1</td>\n",
       "    </tr>\n",
       "    <tr>\n",
       "      <th>2</th>\n",
       "      <td>3</td>\n",
       "      <td>5</td>\n",
       "      <td>2015-07-31</td>\n",
       "      <td>8314</td>\n",
       "      <td>821</td>\n",
       "      <td>1</td>\n",
       "      <td>1</td>\n",
       "      <td>0</td>\n",
       "      <td>1</td>\n",
       "      <td>a</td>\n",
       "      <td>a</td>\n",
       "      <td>14130.0</td>\n",
       "      <td>12.0</td>\n",
       "      <td>2006.0</td>\n",
       "      <td>1</td>\n",
       "      <td>14.0</td>\n",
       "      <td>2011.0</td>\n",
       "      <td>Jan,Apr,Jul,Oct</td>\n",
       "      <td>Jul</td>\n",
       "      <td>1</td>\n",
       "    </tr>\n",
       "    <tr>\n",
       "      <th>3</th>\n",
       "      <td>4</td>\n",
       "      <td>5</td>\n",
       "      <td>2015-07-31</td>\n",
       "      <td>13995</td>\n",
       "      <td>1498</td>\n",
       "      <td>1</td>\n",
       "      <td>1</td>\n",
       "      <td>0</td>\n",
       "      <td>1</td>\n",
       "      <td>c</td>\n",
       "      <td>c</td>\n",
       "      <td>620.0</td>\n",
       "      <td>9.0</td>\n",
       "      <td>2009.0</td>\n",
       "      <td>0</td>\n",
       "      <td>31.0</td>\n",
       "      <td>2015.0</td>\n",
       "      <td>0</td>\n",
       "      <td>Jul</td>\n",
       "      <td>0</td>\n",
       "    </tr>\n",
       "    <tr>\n",
       "      <th>4</th>\n",
       "      <td>5</td>\n",
       "      <td>5</td>\n",
       "      <td>2015-07-31</td>\n",
       "      <td>4822</td>\n",
       "      <td>559</td>\n",
       "      <td>1</td>\n",
       "      <td>1</td>\n",
       "      <td>0</td>\n",
       "      <td>1</td>\n",
       "      <td>a</td>\n",
       "      <td>a</td>\n",
       "      <td>29910.0</td>\n",
       "      <td>4.0</td>\n",
       "      <td>2015.0</td>\n",
       "      <td>0</td>\n",
       "      <td>31.0</td>\n",
       "      <td>2015.0</td>\n",
       "      <td>0</td>\n",
       "      <td>Jul</td>\n",
       "      <td>0</td>\n",
       "    </tr>\n",
       "  </tbody>\n",
       "</table>\n",
       "</div>"
      ],
      "text/plain": [
       "   store  day_of_week       date  sales  customers  open  promo state_holiday  \\\n",
       "0      1            5 2015-07-31   5263        555     1      1             0   \n",
       "1      2            5 2015-07-31   6064        625     1      1             0   \n",
       "2      3            5 2015-07-31   8314        821     1      1             0   \n",
       "3      4            5 2015-07-31  13995       1498     1      1             0   \n",
       "4      5            5 2015-07-31   4822        559     1      1             0   \n",
       "\n",
       "   school_holiday store_type assortment  competition_distance  \\\n",
       "0               1          c          a                1270.0   \n",
       "1               1          a          a                 570.0   \n",
       "2               1          a          a               14130.0   \n",
       "3               1          c          c                 620.0   \n",
       "4               1          a          a               29910.0   \n",
       "\n",
       "   competition_open_since_month  competition_open_since_year  promo2  \\\n",
       "0                           9.0                       2008.0       0   \n",
       "1                          11.0                       2007.0       1   \n",
       "2                          12.0                       2006.0       1   \n",
       "3                           9.0                       2009.0       0   \n",
       "4                           4.0                       2015.0       0   \n",
       "\n",
       "   promo2_since_week  promo2_since_year   promo_interval month_map  is_promo  \n",
       "0               31.0             2015.0                0       Jul         0  \n",
       "1               13.0             2010.0  Jan,Apr,Jul,Oct       Jul         1  \n",
       "2               14.0             2011.0  Jan,Apr,Jul,Oct       Jul         1  \n",
       "3               31.0             2015.0                0       Jul         0  \n",
       "4               31.0             2015.0                0       Jul         0  "
      ]
     },
     "execution_count": 109,
     "metadata": {},
     "output_type": "execute_result"
    }
   ],
   "source": [
    "# Looking to the final dataframe\n",
    "df.head()"
   ]
  },
  {
   "cell_type": "markdown",
   "id": "bfe8dcc7",
   "metadata": {},
   "source": [
    "## 3.6."
   ]
  },
  {
   "cell_type": "markdown",
   "id": "63027767",
   "metadata": {},
   "source": [
    "## 3.7."
   ]
  },
  {
   "cell_type": "markdown",
   "id": "52fc03b2",
   "metadata": {},
   "source": [
    "## 3.8."
   ]
  }
 ],
 "metadata": {
  "kernelspec": {
   "display_name": "Python 3",
   "language": "python",
   "name": "python3"
  },
  "language_info": {
   "codemirror_mode": {
    "name": "ipython",
    "version": 3
   },
   "file_extension": ".py",
   "mimetype": "text/x-python",
   "name": "python",
   "nbconvert_exporter": "python",
   "pygments_lexer": "ipython3",
   "version": "3.8.11"
  },
  "varInspector": {
   "cols": {
    "lenName": 16,
    "lenType": 16,
    "lenVar": 40
   },
   "kernels_config": {
    "python": {
     "delete_cmd_postfix": "",
     "delete_cmd_prefix": "del ",
     "library": "var_list.py",
     "varRefreshCmd": "print(var_dic_list())"
    },
    "r": {
     "delete_cmd_postfix": ") ",
     "delete_cmd_prefix": "rm(",
     "library": "var_list.r",
     "varRefreshCmd": "cat(var_dic_list()) "
    }
   },
   "types_to_exclude": [
    "module",
    "function",
    "builtin_function_or_method",
    "instance",
    "_Feature"
   ],
   "window_display": false
  }
 },
 "nbformat": 4,
 "nbformat_minor": 5
}
